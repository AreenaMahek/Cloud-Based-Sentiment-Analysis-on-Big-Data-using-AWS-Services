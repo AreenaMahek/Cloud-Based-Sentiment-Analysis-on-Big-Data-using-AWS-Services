{
 "cells": [
  {
   "cell_type": "markdown",
   "id": "d3236eb9-eccb-4d1c-abf8-4eb3cf5f33bd",
   "metadata": {},
   "source": [
    "<div style=\"text-align: center;\"> <span style=\"color:brown; font-weight:bold; font-size: 30px\">Final Project- Sentiment Analysis using Amazon Reviews Dataset </span> </div>"
   ]
  },
  {
   "cell_type": "markdown",
   "id": "8a066949-9e6d-46a9-b417-994fbca39745",
   "metadata": {},
   "source": [
    "Source: https://www.kaggle.com/datasets/kritanjalijain/amazon-reviews"
   ]
  },
  {
   "cell_type": "markdown",
   "id": "1f52de09",
   "metadata": {},
   "source": [
    "<span style=\"color:black; font-weight:bold; font-size: 18px\">Setting up the environment, S3 and Athena Client</span>"
   ]
  },
  {
   "cell_type": "markdown",
   "id": "a7d0e867-1aaf-48c7-b6df-f64969f42f67",
   "metadata": {},
   "source": [
    "<span style=\"color:rgb(75,0,130); font-weight:bold; font-size: 16px\">Importing Libraries</span>"
   ]
  },
  {
   "cell_type": "code",
   "execution_count": 1,
   "id": "88d144c5-1fb6-45a6-bf2c-6d526b7044f2",
   "metadata": {
    "tags": []
   },
   "outputs": [],
   "source": [
    "# Importing Libraries\n",
    "\n",
    "import boto3\n",
    "import pandas as pd\n",
    "import warnings\n",
    "\n",
    "# Ignore only FutureWarnings\n",
    "warnings.filterwarnings('ignore', category=FutureWarning)"
   ]
  },
  {
   "cell_type": "markdown",
   "id": "a4a27465-83ff-4548-b760-78f95f78559d",
   "metadata": {
    "tags": []
   },
   "source": [
    "<span style=\"color:rgb(75,0,130); font-weight:bold; font-size: 16px\">Setting up S3 Bucket and Key</span>"
   ]
  },
  {
   "cell_type": "code",
   "execution_count": 2,
   "id": "d5031250-3f2e-46c3-af53-9b492aff9226",
   "metadata": {
    "tags": []
   },
   "outputs": [],
   "source": [
    "# AWS configuration\n",
    "AWS_REGION = 'us-east-1'\n",
    "S3_BUCKET_NAME = 'test-bucket-areena'\n",
    "\n",
    "# Folder in S3 with my raw data\n",
    "S3_KEY = 'final_project_data/'"
   ]
  },
  {
   "cell_type": "markdown",
   "id": "6ea4c12b-203c-476b-95ab-c5b52620e390",
   "metadata": {},
   "source": [
    "<span style=\"color:rgb(75,0,130); font-weight:bold; font-size: 16px\">Setting up Athena</span>"
   ]
  },
  {
   "cell_type": "code",
   "execution_count": 3,
   "id": "8702620b-9f5e-42b9-a657-7d14b8596ff8",
   "metadata": {
    "tags": []
   },
   "outputs": [],
   "source": [
    "# Athena Configuration\n",
    "DATABASE_NAME = 'default'\n",
    "s3_output_location = f's3://{S3_BUCKET_NAME}/query_results/'\n",
    "\n",
    "# Initialize Athena client (no need to specify credentials)\n",
    "athena_client = boto3.client('athena', region_name=AWS_REGION)"
   ]
  },
  {
   "cell_type": "markdown",
   "id": "9e8bcdc8-74e6-4dc0-bc3d-1815c7712f3e",
   "metadata": {},
   "source": [
    "<span style=\"color:rgb(75,0,130); font-weight:bold; font-size: 16px\">Reading the Raw Dataset as a Pandas DataFrame</span>"
   ]
  },
  {
   "cell_type": "markdown",
   "id": "be3ea3c5-a69c-4ca1-ac1d-8ebd365ac1fc",
   "metadata": {
    "tags": []
   },
   "source": [
    "<span style=\"color:rgb(75,0,130); font-weight:bold; font-size: 12px\">Training Dataset</span>"
   ]
  },
  {
   "cell_type": "code",
   "execution_count": 4,
   "id": "4c0c6f5a-352c-48ce-a2bc-757bfaf50a5d",
   "metadata": {
    "tags": []
   },
   "outputs": [
    {
     "name": "stderr",
     "output_type": "stream",
     "text": [
      "/home/ec2-user/anaconda3/envs/python3/lib/python3.10/site-packages/fsspec/registry.py:279: UserWarning: Your installed version of s3fs is very old and known to cause\n",
      "severe performance issues, see also https://github.com/dask/dask/issues/10276\n",
      "\n",
      "To fix, you should specify a lower version bound on s3fs, or\n",
      "update the current installation.\n",
      "\n",
      "  warnings.warn(s3_msg)\n"
     ]
    },
    {
     "data": {
      "text/html": [
       "<div>\n",
       "<style scoped>\n",
       "    .dataframe tbody tr th:only-of-type {\n",
       "        vertical-align: middle;\n",
       "    }\n",
       "\n",
       "    .dataframe tbody tr th {\n",
       "        vertical-align: top;\n",
       "    }\n",
       "\n",
       "    .dataframe thead th {\n",
       "        text-align: right;\n",
       "    }\n",
       "</style>\n",
       "<table border=\"1\" class=\"dataframe\">\n",
       "  <thead>\n",
       "    <tr style=\"text-align: right;\">\n",
       "      <th></th>\n",
       "      <th>polarity</th>\n",
       "      <th>title</th>\n",
       "      <th>description</th>\n",
       "    </tr>\n",
       "  </thead>\n",
       "  <tbody>\n",
       "    <tr>\n",
       "      <th>0</th>\n",
       "      <td>2</td>\n",
       "      <td>Stuning even for the non-gamer</td>\n",
       "      <td>This sound track was beautiful! It paints the ...</td>\n",
       "    </tr>\n",
       "    <tr>\n",
       "      <th>1</th>\n",
       "      <td>2</td>\n",
       "      <td>The best soundtrack ever to anything.</td>\n",
       "      <td>I'm reading a lot of reviews saying that this ...</td>\n",
       "    </tr>\n",
       "    <tr>\n",
       "      <th>2</th>\n",
       "      <td>2</td>\n",
       "      <td>Amazing!</td>\n",
       "      <td>This soundtrack is my favorite music of all ti...</td>\n",
       "    </tr>\n",
       "    <tr>\n",
       "      <th>3</th>\n",
       "      <td>2</td>\n",
       "      <td>Excellent Soundtrack</td>\n",
       "      <td>I truly like this soundtrack and I enjoy video...</td>\n",
       "    </tr>\n",
       "    <tr>\n",
       "      <th>4</th>\n",
       "      <td>2</td>\n",
       "      <td>Remember, Pull Your Jaw Off The Floor After He...</td>\n",
       "      <td>If you've played the game, you know how divine...</td>\n",
       "    </tr>\n",
       "  </tbody>\n",
       "</table>\n",
       "</div>"
      ],
      "text/plain": [
       "   polarity                                              title  \\\n",
       "0         2                     Stuning even for the non-gamer   \n",
       "1         2              The best soundtrack ever to anything.   \n",
       "2         2                                           Amazing!   \n",
       "3         2                               Excellent Soundtrack   \n",
       "4         2  Remember, Pull Your Jaw Off The Floor After He...   \n",
       "\n",
       "                                         description  \n",
       "0  This sound track was beautiful! It paints the ...  \n",
       "1  I'm reading a lot of reviews saying that this ...  \n",
       "2  This soundtrack is my favorite music of all ti...  \n",
       "3  I truly like this soundtrack and I enjoy video...  \n",
       "4  If you've played the game, you know how divine...  "
      ]
     },
     "execution_count": 4,
     "metadata": {},
     "output_type": "execute_result"
    }
   ],
   "source": [
    "# Defining headers for the datasets\n",
    "columns = [\"polarity\", \"title\", \"description\"]\n",
    "\n",
    "# Path for Staged raw train data in s3\n",
    "train_s3_path = f\"s3://{S3_BUCKET_NAME}/{S3_KEY}train/train.csv\"\n",
    "\n",
    "# Reading staged csv data as pandas dataframe from raw train data\n",
    "raw_train = pd.read_csv(train_s3_path, names=columns)\n",
    "\n",
    "raw_train.head()"
   ]
  },
  {
   "cell_type": "markdown",
   "id": "24a7fea4-c7df-4eaa-8267-ad0d01a65bd9",
   "metadata": {},
   "source": [
    "<span style=\"color:rgb(75,0,130); font-weight:bold; font-size: 12px\">Testing Dataset</span>"
   ]
  },
  {
   "cell_type": "code",
   "execution_count": 5,
   "id": "13a816a1-a129-4f86-9e64-d3e586f26133",
   "metadata": {
    "tags": []
   },
   "outputs": [
    {
     "data": {
      "text/html": [
       "<div>\n",
       "<style scoped>\n",
       "    .dataframe tbody tr th:only-of-type {\n",
       "        vertical-align: middle;\n",
       "    }\n",
       "\n",
       "    .dataframe tbody tr th {\n",
       "        vertical-align: top;\n",
       "    }\n",
       "\n",
       "    .dataframe thead th {\n",
       "        text-align: right;\n",
       "    }\n",
       "</style>\n",
       "<table border=\"1\" class=\"dataframe\">\n",
       "  <thead>\n",
       "    <tr style=\"text-align: right;\">\n",
       "      <th></th>\n",
       "      <th>polarity</th>\n",
       "      <th>title</th>\n",
       "      <th>description</th>\n",
       "    </tr>\n",
       "  </thead>\n",
       "  <tbody>\n",
       "    <tr>\n",
       "      <th>0</th>\n",
       "      <td>2</td>\n",
       "      <td>Great CD</td>\n",
       "      <td>My lovely Pat has one of the GREAT voices of h...</td>\n",
       "    </tr>\n",
       "    <tr>\n",
       "      <th>1</th>\n",
       "      <td>2</td>\n",
       "      <td>One of the best game music soundtracks - for a...</td>\n",
       "      <td>Despite the fact that I have only played a sma...</td>\n",
       "    </tr>\n",
       "    <tr>\n",
       "      <th>2</th>\n",
       "      <td>1</td>\n",
       "      <td>Batteries died within a year ...</td>\n",
       "      <td>I bought this charger in Jul 2003 and it worke...</td>\n",
       "    </tr>\n",
       "    <tr>\n",
       "      <th>3</th>\n",
       "      <td>2</td>\n",
       "      <td>works fine, but Maha Energy is better</td>\n",
       "      <td>Check out Maha Energy's website. Their Powerex...</td>\n",
       "    </tr>\n",
       "    <tr>\n",
       "      <th>4</th>\n",
       "      <td>2</td>\n",
       "      <td>Great for the non-audiophile</td>\n",
       "      <td>Reviewed quite a bit of the combo players and ...</td>\n",
       "    </tr>\n",
       "  </tbody>\n",
       "</table>\n",
       "</div>"
      ],
      "text/plain": [
       "   polarity                                              title  \\\n",
       "0         2                                           Great CD   \n",
       "1         2  One of the best game music soundtracks - for a...   \n",
       "2         1                   Batteries died within a year ...   \n",
       "3         2              works fine, but Maha Energy is better   \n",
       "4         2                       Great for the non-audiophile   \n",
       "\n",
       "                                         description  \n",
       "0  My lovely Pat has one of the GREAT voices of h...  \n",
       "1  Despite the fact that I have only played a sma...  \n",
       "2  I bought this charger in Jul 2003 and it worke...  \n",
       "3  Check out Maha Energy's website. Their Powerex...  \n",
       "4  Reviewed quite a bit of the combo players and ...  "
      ]
     },
     "execution_count": 5,
     "metadata": {},
     "output_type": "execute_result"
    }
   ],
   "source": [
    "# Path for Staged raw test data in s3\n",
    "test_s3_path = f\"s3://{S3_BUCKET_NAME}/{S3_KEY}test/test.csv\"\n",
    "\n",
    "# Reading staged data as pandas dataframe from raw test data\n",
    "raw_test = pd.read_csv(test_s3_path, names=columns)\n",
    "\n",
    "raw_test.head()"
   ]
  },
  {
   "cell_type": "markdown",
   "id": "6bec4411-eb78-4c59-8de7-77f5c8912119",
   "metadata": {},
   "source": [
    "<span style=\"color:rgb(75,0,130); font-weight:bold; font-size: 16px\">Data Types for Datasets</span>"
   ]
  },
  {
   "cell_type": "code",
   "execution_count": 6,
   "id": "f6bee3a8-dce5-4919-9e2a-2f16dd05a1ee",
   "metadata": {
    "tags": []
   },
   "outputs": [
    {
     "name": "stdout",
     "output_type": "stream",
     "text": [
      "Training:\n",
      "polarity        int64\n",
      "title          object\n",
      "description    object\n",
      "dtype: object\n",
      "Testing:\n",
      "polarity        int64\n",
      "title          object\n",
      "description    object\n",
      "dtype: object\n"
     ]
    }
   ],
   "source": [
    "# Checking data types to load into Athena\n",
    "print(f\"Training:\\n{raw_train.dtypes}\")\n",
    "print(f\"Testing:\\n{raw_test.dtypes}\")"
   ]
  },
  {
   "cell_type": "markdown",
   "id": "056cfd8d-2569-4eef-b48f-550274ad297e",
   "metadata": {},
   "source": [
    " <div style=\"text-align: center;\"> <span style=\"color:blue; font-weight:bold; font-size: 24px\"> Data Replication in S3 </span> </div>"
   ]
  },
  {
   "cell_type": "markdown",
   "id": "2e698204-9058-4271-89b7-439d4e6b05d7",
   "metadata": {
    "tags": []
   },
   "source": [
    "<span style=\"color:rgb(75,0,130); font-weight:bold; font-size: 12px\">Training Dataset</span>"
   ]
  },
  {
   "cell_type": "code",
   "execution_count": 7,
   "id": "773eac6a-a8fa-4a7e-95bb-64a17e6d88ed",
   "metadata": {
    "tags": []
   },
   "outputs": [],
   "source": [
    "# Data Replication to S3 to ensure consistency, reliability and availability\n",
    "s3_path = f's3://{S3_BUCKET_NAME}/test/train/raw-train.csv'\n",
    "raw_train.to_csv(s3_path, index=False)"
   ]
  },
  {
   "cell_type": "markdown",
   "id": "6dcd55e5-e664-4430-b375-1f7ed139c683",
   "metadata": {},
   "source": [
    "<span style=\"color:rgb(75,0,130); font-weight:bold; font-size: 12px\">Testing Dataset</span>"
   ]
  },
  {
   "cell_type": "code",
   "execution_count": 8,
   "id": "6624ddc1-0372-4815-911f-cea45a4d184f",
   "metadata": {
    "tags": []
   },
   "outputs": [],
   "source": [
    "s3_path = f's3://{S3_BUCKET_NAME}/test/test/raw-test.csv'\n",
    "raw_test.to_csv(s3_path, index=False)"
   ]
  },
  {
   "cell_type": "markdown",
   "id": "5943cc8b-11db-4b94-b6ba-4aee85faf5c2",
   "metadata": {},
   "source": [
    "Training Data Replicated at s3://test-bucket-areena/test/train\n",
    "\n",
    "Testing Data Replicated at s3://test-bucket-areena/test/test"
   ]
  },
  {
   "cell_type": "markdown",
   "id": "ef7eec08-78aa-478c-bc60-f58a454db8fd",
   "metadata": {
    "tags": []
   },
   "source": [
    "<div style=\"text-align: center;\"> <span style=\"color:blue; font-weight:bold; font-size: 24px\"> Querying in Athena </span> </div>"
   ]
  },
  {
   "cell_type": "markdown",
   "id": "de2fa38c-81a0-45a0-8adc-868a4904d009",
   "metadata": {},
   "source": [
    "<span style=\"color:black; font-weight:bold; font-size: 18px\">Creating Tables in Athena to load data from S3 </span>"
   ]
  },
  {
   "cell_type": "markdown",
   "id": "eba9d734-4291-4a14-9594-7a4ceecb10d3",
   "metadata": {
    "tags": []
   },
   "source": [
    "<span style=\"color:rgb(75,0,130); font-weight:bold; font-size: 12px\">Training Datatable</span>"
   ]
  },
  {
   "cell_type": "code",
   "execution_count": 9,
   "id": "7f5137e6-4cf4-4a55-8d46-8e2d90e9cee0",
   "metadata": {
    "tags": []
   },
   "outputs": [],
   "source": [
    "# Creating table to load train data into Athena\n",
    "TABLE_NAME = 'train-datatable'\n",
    "\n",
    "# table creation query\n",
    "create_table_query = f\"\"\"\n",
    "CREATE EXTERNAL TABLE IF NOT EXISTS `{DATABASE_NAME}`.`{TABLE_NAME}` (\n",
    "    polarity INT,\n",
    "    title STRING,\n",
    "    description STRING\n",
    ")\n",
    "\n",
    "ROW FORMAT SERDE 'org.apache.hadoop.hive.serde2.OpenCSVSerde'\n",
    "WITH SERDEPROPERTIES (\n",
    "    \"skip.header.line.count\"=\"1\"\n",
    ")\n",
    "LOCATION 's3://{S3_BUCKET_NAME}/test/train/'\n",
    "\"\"\" "
   ]
  },
  {
   "cell_type": "code",
   "execution_count": 10,
   "id": "37f72080-c82e-4620-a1bd-58f82a4d2191",
   "metadata": {
    "tags": []
   },
   "outputs": [
    {
     "name": "stdout",
     "output_type": "stream",
     "text": [
      "Athena Training Table creation query submitted.\n"
     ]
    }
   ],
   "source": [
    "# Execute query to create table\n",
    "response = athena_client.start_query_execution(\n",
    "    QueryString=create_table_query.strip(),\n",
    "    QueryExecutionContext={'Database': DATABASE_NAME},\n",
    "    ResultConfiguration={'OutputLocation': s3_output_location}\n",
    ")\n",
    "\n",
    "print(\"Athena Training Table creation query submitted.\")"
   ]
  },
  {
   "cell_type": "markdown",
   "id": "a1f69756-eaa0-464a-a94e-b760ad599369",
   "metadata": {},
   "source": [
    "<span style=\"color:rgb(75,0,130); font-weight:bold; font-size: 12px\">Testing Datatable</span>"
   ]
  },
  {
   "cell_type": "code",
   "execution_count": 11,
   "id": "520634be-ebad-4001-b2af-6be690796df6",
   "metadata": {
    "tags": []
   },
   "outputs": [],
   "source": [
    "# Creating table to load test data into Athena\n",
    "TABLE_NAME = 'test-datatable'\n",
    "\n",
    "# table creation query\n",
    "create_table_query = f\"\"\"\n",
    "CREATE EXTERNAL TABLE IF NOT EXISTS `{DATABASE_NAME}`.`{TABLE_NAME}` (\n",
    "    polarity INT,\n",
    "    title STRING,\n",
    "    description STRING\n",
    ")\n",
    "\n",
    "ROW FORMAT SERDE 'org.apache.hadoop.hive.serde2.OpenCSVSerde'\n",
    "WITH SERDEPROPERTIES (\n",
    "    \"skip.header.line.count\"=\"1\"\n",
    ")\n",
    "LOCATION 's3://{S3_BUCKET_NAME}/test/test/'\n",
    "\"\"\" "
   ]
  },
  {
   "cell_type": "code",
   "execution_count": 12,
   "id": "fe0307b9-227d-4194-bc66-c22c14373ba1",
   "metadata": {
    "tags": []
   },
   "outputs": [
    {
     "name": "stdout",
     "output_type": "stream",
     "text": [
      "Athena Training Table creation query submitted.\n"
     ]
    }
   ],
   "source": [
    "# Execute query to create table\n",
    "response = athena_client.start_query_execution(\n",
    "    QueryString=create_table_query.strip(),\n",
    "    QueryExecutionContext={'Database': DATABASE_NAME},\n",
    "    ResultConfiguration={'OutputLocation': s3_output_location}\n",
    ")\n",
    "\n",
    "print(\"Athena Training Table creation query submitted.\")"
   ]
  },
  {
   "cell_type": "markdown",
   "id": "dcca58d1-7338-4e48-9b90-ec2b0eeac962",
   "metadata": {},
   "source": [
    "<span style=\"color:rgb(75,0,130); font-weight:bold; font-size: 16px\"> Query Function to avoid redundancy </span>"
   ]
  },
  {
   "cell_type": "code",
   "execution_count": 13,
   "id": "28fbb57a-7f2c-42c1-8846-270d635e450f",
   "metadata": {
    "tags": []
   },
   "outputs": [],
   "source": [
    "# Importing libraries\n",
    "import time\n",
    "\n",
    "# Function to run Athena query\n",
    "def run_athena_query(query, database, output_location):\n",
    "    response = athena_client.start_query_execution(\n",
    "        QueryString=query,\n",
    "        QueryExecutionContext={\n",
    "            'Database': database\n",
    "        },\n",
    "        ResultConfiguration={\n",
    "            'OutputLocation': output_location\n",
    "        }\n",
    "    )\n",
    "    return response['QueryExecutionId']\n",
    "\n",
    "# Function to check query status\n",
    "def check_query_status(query_execution_id):\n",
    "    while True:\n",
    "        response = athena_client.get_query_execution(QueryExecutionId=query_execution_id)\n",
    "        status = response['QueryExecution']['Status']['State']\n",
    "        if status == 'SUCCEEDED':\n",
    "            print(\"Query succeeded!\")\n",
    "            break\n",
    "        elif status in ['FAILED', 'CANCELLED']:\n",
    "            print(f\"Query {status.lower()}.\")\n",
    "            raise Exception(f\"Query failed or was cancelled: {response}\")\n",
    "        time.sleep(2)\n",
    "\n",
    "# Function to get query results and convert to pandas DataFrame\n",
    "def get_query_results_as_dataframe(query_execution_id):\n",
    "    # Fetching the query results\n",
    "    results_paginator = athena_client.get_paginator('get_query_results')\n",
    "    results_iter = results_paginator.paginate(QueryExecutionId=query_execution_id)\n",
    "\n",
    "    # Initialize a list to store rows and columns for DataFrame\n",
    "    columns = []\n",
    "    rows = []\n",
    "\n",
    "    # Process the result pages\n",
    "    for results_page in results_iter:\n",
    "        # Get column info from the first page\n",
    "        if not columns:\n",
    "            columns = [col['Label'] for col in results_page['ResultSet']['ResultSetMetadata']['ColumnInfo']]\n",
    "\n",
    "        # Skip the first row of the first page (column headers)\n",
    "        for row in results_page['ResultSet']['Rows'][1:]:\n",
    "            rows.append([col.get('VarCharValue', None) for col in row['Data']])\n",
    "\n",
    "    # Create DataFrame from the results\n",
    "    df = pd.DataFrame(rows, columns=columns)\n",
    "    return df"
   ]
  },
  {
   "cell_type": "code",
   "execution_count": 14,
   "id": "cdedbd30-0db8-40ba-8c7e-7b5db9613196",
   "metadata": {
    "tags": []
   },
   "outputs": [],
   "source": [
    "# Execute queries using the methods\n",
    "def main(query, DATABASE_NAME, s3_output_location):\n",
    "    # Run the query\n",
    "    query_execution_id = run_athena_query(query, DATABASE_NAME, s3_output_location)\n",
    "\n",
    "    # Check the status of the query\n",
    "    check_query_status(query_execution_id)\n",
    "\n",
    "    # Fetch the results as a pandas DataFrame\n",
    "    pd_df = get_query_results_as_dataframe(query_execution_id)\n",
    "\n",
    "    return pd_df"
   ]
  },
  {
   "cell_type": "markdown",
   "id": "bee73e66-3af2-4788-a4b3-935092edab95",
   "metadata": {},
   "source": [
    "<span style=\"color:black; font-weight:bold; font-size: 18px\">Query to display Datatables</span>"
   ]
  },
  {
   "cell_type": "markdown",
   "id": "0668e95b-d68c-40a1-86a9-b5d61b4ee13c",
   "metadata": {},
   "source": [
    "<span style=\"color:rgb(75,0,130); font-weight:bold; font-size: 12px\">Training Datatable</span>"
   ]
  },
  {
   "cell_type": "code",
   "execution_count": 15,
   "id": "2e64ba4c-cb97-4a94-88d1-2fab01a2112a",
   "metadata": {
    "tags": []
   },
   "outputs": [
    {
     "name": "stdout",
     "output_type": "stream",
     "text": [
      "Query succeeded!\n"
     ]
    },
    {
     "data": {
      "text/html": [
       "<div>\n",
       "<style scoped>\n",
       "    .dataframe tbody tr th:only-of-type {\n",
       "        vertical-align: middle;\n",
       "    }\n",
       "\n",
       "    .dataframe tbody tr th {\n",
       "        vertical-align: top;\n",
       "    }\n",
       "\n",
       "    .dataframe thead th {\n",
       "        text-align: right;\n",
       "    }\n",
       "</style>\n",
       "<table border=\"1\" class=\"dataframe\">\n",
       "  <thead>\n",
       "    <tr style=\"text-align: right;\">\n",
       "      <th></th>\n",
       "      <th>polarity</th>\n",
       "      <th>title</th>\n",
       "      <th>description</th>\n",
       "    </tr>\n",
       "  </thead>\n",
       "  <tbody>\n",
       "    <tr>\n",
       "      <th>0</th>\n",
       "      <td>1</td>\n",
       "      <td>Lead in the Dryer's Power Cord</td>\n",
       "      <td>The dryer looked good, but the power cord has ...</td>\n",
       "    </tr>\n",
       "    <tr>\n",
       "      <th>1</th>\n",
       "      <td>2</td>\n",
       "      <td>WONDERFUL DRYER</td>\n",
       "      <td>I LOVE THIS HAIRDRYER! No more breaking dryer ...</td>\n",
       "    </tr>\n",
       "    <tr>\n",
       "      <th>2</th>\n",
       "      <td>1</td>\n",
       "      <td>Maybe I received a bad dryer but this did NOT ...</td>\n",
       "      <td>I did my research on a series of hair dryers p...</td>\n",
       "    </tr>\n",
       "    <tr>\n",
       "      <th>3</th>\n",
       "      <td>2</td>\n",
       "      <td>Excelente</td>\n",
       "      <td>Excelente producto funciona de maravilla mi ma...</td>\n",
       "    </tr>\n",
       "    <tr>\n",
       "      <th>4</th>\n",
       "      <td>1</td>\n",
       "      <td>The title's the best bit</td>\n",
       "      <td>I've tried, believe me I've tried, but this is...</td>\n",
       "    </tr>\n",
       "  </tbody>\n",
       "</table>\n",
       "</div>"
      ],
      "text/plain": [
       "  polarity                                              title  \\\n",
       "0        1                     Lead in the Dryer's Power Cord   \n",
       "1        2                                    WONDERFUL DRYER   \n",
       "2        1  Maybe I received a bad dryer but this did NOT ...   \n",
       "3        2                                          Excelente   \n",
       "4        1                           The title's the best bit   \n",
       "\n",
       "                                         description  \n",
       "0  The dryer looked good, but the power cord has ...  \n",
       "1  I LOVE THIS HAIRDRYER! No more breaking dryer ...  \n",
       "2  I did my research on a series of hair dryers p...  \n",
       "3  Excelente producto funciona de maravilla mi ma...  \n",
       "4  I've tried, believe me I've tried, but this is...  "
      ]
     },
     "execution_count": 15,
     "metadata": {},
     "output_type": "execute_result"
    }
   ],
   "source": [
    "# Display original raw train datatable\n",
    "query = f'SELECT * FROM \"train-datatable\";'\n",
    "\n",
    "raw_train = main(query, DATABASE_NAME, s3_output_location)\n",
    "raw_train.head()"
   ]
  },
  {
   "cell_type": "markdown",
   "id": "d21345da-9c0f-472e-b9af-8f5e629f9074",
   "metadata": {},
   "source": [
    "<span style=\"color:rgb(75,0,130); font-weight:bold; font-size: 12px\">Testing Datatable</span>"
   ]
  },
  {
   "cell_type": "code",
   "execution_count": 17,
   "id": "f7f64351-e563-454d-8478-bebdc6172c8b",
   "metadata": {
    "tags": []
   },
   "outputs": [
    {
     "name": "stdout",
     "output_type": "stream",
     "text": [
      "Query succeeded!\n"
     ]
    },
    {
     "data": {
      "text/html": [
       "<div>\n",
       "<style scoped>\n",
       "    .dataframe tbody tr th:only-of-type {\n",
       "        vertical-align: middle;\n",
       "    }\n",
       "\n",
       "    .dataframe tbody tr th {\n",
       "        vertical-align: top;\n",
       "    }\n",
       "\n",
       "    .dataframe thead th {\n",
       "        text-align: right;\n",
       "    }\n",
       "</style>\n",
       "<table border=\"1\" class=\"dataframe\">\n",
       "  <thead>\n",
       "    <tr style=\"text-align: right;\">\n",
       "      <th></th>\n",
       "      <th>polarity</th>\n",
       "      <th>title</th>\n",
       "      <th>description</th>\n",
       "    </tr>\n",
       "  </thead>\n",
       "  <tbody>\n",
       "    <tr>\n",
       "      <th>0</th>\n",
       "      <td>1</td>\n",
       "      <td>Killing Time</td>\n",
       "      <td>The plotline is interesting, but what happened...</td>\n",
       "    </tr>\n",
       "    <tr>\n",
       "      <th>1</th>\n",
       "      <td>2</td>\n",
       "      <td>The thrill of a singer discovering herself</td>\n",
       "      <td>An old girlfriend of mine, upon hearing this a...</td>\n",
       "    </tr>\n",
       "    <tr>\n",
       "      <th>2</th>\n",
       "      <td>2</td>\n",
       "      <td>What a treat!</td>\n",
       "      <td>Balsam was a musician's musician. This CD is e...</td>\n",
       "    </tr>\n",
       "    <tr>\n",
       "      <th>3</th>\n",
       "      <td>2</td>\n",
       "      <td>Awesome gift!</td>\n",
       "      <td>I got this for a friend of mine, and I wasn't ...</td>\n",
       "    </tr>\n",
       "    <tr>\n",
       "      <th>4</th>\n",
       "      <td>1</td>\n",
       "      <td>\"DISAPPOINTED\"</td>\n",
       "      <td>A (PS3)VIDEO GAME SHOULD BE DESIGNED AS/FOR \"F...</td>\n",
       "    </tr>\n",
       "  </tbody>\n",
       "</table>\n",
       "</div>"
      ],
      "text/plain": [
       "  polarity                                       title  \\\n",
       "0        1                                Killing Time   \n",
       "1        2  The thrill of a singer discovering herself   \n",
       "2        2                               What a treat!   \n",
       "3        2                               Awesome gift!   \n",
       "4        1                              \"DISAPPOINTED\"   \n",
       "\n",
       "                                         description  \n",
       "0  The plotline is interesting, but what happened...  \n",
       "1  An old girlfriend of mine, upon hearing this a...  \n",
       "2  Balsam was a musician's musician. This CD is e...  \n",
       "3  I got this for a friend of mine, and I wasn't ...  \n",
       "4  A (PS3)VIDEO GAME SHOULD BE DESIGNED AS/FOR \"F...  "
      ]
     },
     "execution_count": 17,
     "metadata": {},
     "output_type": "execute_result"
    }
   ],
   "source": [
    "# Display original raw test datatable\n",
    "query = f'SELECT * FROM \"test-datatable\";'\n",
    "\n",
    "raw_test = main(query, DATABASE_NAME, s3_output_location)\n",
    "\n",
    "raw_test.head()"
   ]
  },
  {
   "cell_type": "markdown",
   "id": "aadaddec-b697-4e37-b556-66562311fba3",
   "metadata": {},
   "source": [
    "<span style=\"color:black; font-weight:bold; font-size: 18px\">Query to count rows in the Datatables</span>"
   ]
  },
  {
   "cell_type": "markdown",
   "id": "68c2928f-c13e-478b-adb9-ff0eab9c1b12",
   "metadata": {},
   "source": [
    "<span style=\"color:rgb(75,0,130); font-weight:bold; font-size: 12px\">Training Data</span>"
   ]
  },
  {
   "cell_type": "code",
   "execution_count": 18,
   "id": "c75d62f0-a8ff-41b1-a745-91e0c1c765d3",
   "metadata": {
    "tags": []
   },
   "outputs": [
    {
     "name": "stdout",
     "output_type": "stream",
     "text": [
      "Query succeeded!\n"
     ]
    },
    {
     "data": {
      "text/html": [
       "<div>\n",
       "<style scoped>\n",
       "    .dataframe tbody tr th:only-of-type {\n",
       "        vertical-align: middle;\n",
       "    }\n",
       "\n",
       "    .dataframe tbody tr th {\n",
       "        vertical-align: top;\n",
       "    }\n",
       "\n",
       "    .dataframe thead th {\n",
       "        text-align: right;\n",
       "    }\n",
       "</style>\n",
       "<table border=\"1\" class=\"dataframe\">\n",
       "  <thead>\n",
       "    <tr style=\"text-align: right;\">\n",
       "      <th></th>\n",
       "      <th>_col0</th>\n",
       "    </tr>\n",
       "  </thead>\n",
       "  <tbody>\n",
       "    <tr>\n",
       "      <th>0</th>\n",
       "      <td>3600000</td>\n",
       "    </tr>\n",
       "  </tbody>\n",
       "</table>\n",
       "</div>"
      ],
      "text/plain": [
       "     _col0\n",
       "0  3600000"
      ]
     },
     "execution_count": 18,
     "metadata": {},
     "output_type": "execute_result"
    }
   ],
   "source": [
    "# Checking the row count in train data table\n",
    "query = f'SELECT COUNT(*) FROM \"train-datatable\";'\n",
    "\n",
    "count_train = main(query, DATABASE_NAME, s3_output_location)\n",
    "\n",
    "count_train"
   ]
  },
  {
   "cell_type": "markdown",
   "id": "839767d8-0f32-48c1-aa13-85f81585ecc7",
   "metadata": {},
   "source": [
    "<span style=\"color:rgb(75,0,130); font-weight:bold; font-size: 12px\">Testing Data</span>"
   ]
  },
  {
   "cell_type": "code",
   "execution_count": 19,
   "id": "891b1ffe-11ba-43aa-8eb5-95c2c0552a50",
   "metadata": {
    "tags": []
   },
   "outputs": [
    {
     "name": "stdout",
     "output_type": "stream",
     "text": [
      "Query succeeded!\n"
     ]
    },
    {
     "data": {
      "text/html": [
       "<div>\n",
       "<style scoped>\n",
       "    .dataframe tbody tr th:only-of-type {\n",
       "        vertical-align: middle;\n",
       "    }\n",
       "\n",
       "    .dataframe tbody tr th {\n",
       "        vertical-align: top;\n",
       "    }\n",
       "\n",
       "    .dataframe thead th {\n",
       "        text-align: right;\n",
       "    }\n",
       "</style>\n",
       "<table border=\"1\" class=\"dataframe\">\n",
       "  <thead>\n",
       "    <tr style=\"text-align: right;\">\n",
       "      <th></th>\n",
       "      <th>_col0</th>\n",
       "    </tr>\n",
       "  </thead>\n",
       "  <tbody>\n",
       "    <tr>\n",
       "      <th>0</th>\n",
       "      <td>400000</td>\n",
       "    </tr>\n",
       "  </tbody>\n",
       "</table>\n",
       "</div>"
      ],
      "text/plain": [
       "    _col0\n",
       "0  400000"
      ]
     },
     "execution_count": 19,
     "metadata": {},
     "output_type": "execute_result"
    }
   ],
   "source": [
    "# Checking the row count in test data table\n",
    "query = f'SELECT COUNT(*) FROM \"test-datatable\";'\n",
    "\n",
    "count_test = main(query, DATABASE_NAME, s3_output_location)\n",
    "\n",
    "count_test"
   ]
  },
  {
   "cell_type": "markdown",
   "id": "35ebb5fe-da4b-4208-ab77-5b1d5ca49377",
   "metadata": {},
   "source": [
    "<span style=\"color:black; font-weight:bold; font-size: 18px\">Query to count duplicate rows from both datatables</span>"
   ]
  },
  {
   "cell_type": "code",
   "execution_count": 20,
   "id": "3eac19d1-2b8f-47de-ae19-e2d25c23d2ec",
   "metadata": {
    "tags": []
   },
   "outputs": [
    {
     "name": "stdout",
     "output_type": "stream",
     "text": [
      "Query succeeded!\n"
     ]
    },
    {
     "data": {
      "text/html": [
       "<div>\n",
       "<style scoped>\n",
       "    .dataframe tbody tr th:only-of-type {\n",
       "        vertical-align: middle;\n",
       "    }\n",
       "\n",
       "    .dataframe tbody tr th {\n",
       "        vertical-align: top;\n",
       "    }\n",
       "\n",
       "    .dataframe thead th {\n",
       "        text-align: right;\n",
       "    }\n",
       "</style>\n",
       "<table border=\"1\" class=\"dataframe\">\n",
       "  <thead>\n",
       "    <tr style=\"text-align: right;\">\n",
       "      <th></th>\n",
       "      <th>polarity</th>\n",
       "      <th>title</th>\n",
       "      <th>description</th>\n",
       "    </tr>\n",
       "  </thead>\n",
       "  <tbody>\n",
       "  </tbody>\n",
       "</table>\n",
       "</div>"
      ],
      "text/plain": [
       "Empty DataFrame\n",
       "Columns: [polarity, title, description]\n",
       "Index: []"
      ]
     },
     "execution_count": 20,
     "metadata": {},
     "output_type": "execute_result"
    }
   ],
   "source": [
    "# Common rows in both the tables\n",
    "query = f'SELECT * FROM \"train-datatable\" INTERSECT SELECT * FROM \"test-datatable\";'\n",
    "\n",
    "intersect_train_test = main(query, DATABASE_NAME, s3_output_location)\n",
    "\n",
    "intersect_train_test.head()"
   ]
  },
  {
   "cell_type": "markdown",
   "id": "c1e3a257-27df-477d-af6f-09386f87b114",
   "metadata": {},
   "source": [
    "No duplicates found "
   ]
  },
  {
   "cell_type": "markdown",
   "id": "22cc21bc-2679-4696-91fa-80a2e25b2fea",
   "metadata": {
    "tags": []
   },
   "source": [
    "<span style=\"color:black; font-weight:bold; font-size: 18px\">Sampling the Datasets </span>"
   ]
  },
  {
   "cell_type": "markdown",
   "id": "b58e6275-e404-4c11-a520-e65510690413",
   "metadata": {},
   "source": [
    "<span style=\"color:rgb(75,0,130); font-weight:bold; font-size: 12px\">Training Data</span>"
   ]
  },
  {
   "cell_type": "code",
   "execution_count": 24,
   "id": "2ae1c1c2-ea62-499e-ad3d-822ec1d651f2",
   "metadata": {
    "tags": []
   },
   "outputs": [
    {
     "name": "stdout",
     "output_type": "stream",
     "text": [
      "Query succeeded!\n"
     ]
    },
    {
     "data": {
      "text/html": [
       "<div>\n",
       "<style scoped>\n",
       "    .dataframe tbody tr th:only-of-type {\n",
       "        vertical-align: middle;\n",
       "    }\n",
       "\n",
       "    .dataframe tbody tr th {\n",
       "        vertical-align: top;\n",
       "    }\n",
       "\n",
       "    .dataframe thead th {\n",
       "        text-align: right;\n",
       "    }\n",
       "</style>\n",
       "<table border=\"1\" class=\"dataframe\">\n",
       "  <thead>\n",
       "    <tr style=\"text-align: right;\">\n",
       "      <th></th>\n",
       "      <th>polarity</th>\n",
       "      <th>title</th>\n",
       "      <th>description</th>\n",
       "    </tr>\n",
       "  </thead>\n",
       "  <tbody>\n",
       "    <tr>\n",
       "      <th>0</th>\n",
       "      <td>1</td>\n",
       "      <td>Simply not a good movie.</td>\n",
       "      <td>I would have turned it off if I hadn't paid fo...</td>\n",
       "    </tr>\n",
       "    <tr>\n",
       "      <th>1</th>\n",
       "      <td>2</td>\n",
       "      <td>If you love Oliver Stone, you will love this m...</td>\n",
       "      <td>Sit down, buckle up and hang on for a wild and...</td>\n",
       "    </tr>\n",
       "    <tr>\n",
       "      <th>2</th>\n",
       "      <td>2</td>\n",
       "      <td>Savages don't make deals!</td>\n",
       "      <td>I liked this movie as I thought it was a good ...</td>\n",
       "    </tr>\n",
       "    <tr>\n",
       "      <th>3</th>\n",
       "      <td>1</td>\n",
       "      <td>Disappointing</td>\n",
       "      <td>After his hugely enjoyable \"Natural Born Kille...</td>\n",
       "    </tr>\n",
       "    <tr>\n",
       "      <th>4</th>\n",
       "      <td>1</td>\n",
       "      <td>Savages</td>\n",
       "      <td>Everyone(with the exception of Taylor Kitsch) ...</td>\n",
       "    </tr>\n",
       "  </tbody>\n",
       "</table>\n",
       "</div>"
      ],
      "text/plain": [
       "  polarity                                              title  \\\n",
       "0        1                           Simply not a good movie.   \n",
       "1        2  If you love Oliver Stone, you will love this m...   \n",
       "2        2                          Savages don't make deals!   \n",
       "3        1                                      Disappointing   \n",
       "4        1                                            Savages   \n",
       "\n",
       "                                         description  \n",
       "0  I would have turned it off if I hadn't paid fo...  \n",
       "1  Sit down, buckle up and hang on for a wild and...  \n",
       "2  I liked this movie as I thought it was a good ...  \n",
       "3  After his hugely enjoyable \"Natural Born Kille...  \n",
       "4  Everyone(with the exception of Taylor Kitsch) ...  "
      ]
     },
     "execution_count": 24,
     "metadata": {},
     "output_type": "execute_result"
    }
   ],
   "source": [
    "# Sampling training dataset by 30%\n",
    "query = f'SELECT * FROM \"train-datatable\" where RAND()<=0.3;'\n",
    "\n",
    "train_sampled = main(query, DATABASE_NAME, s3_output_location)\n",
    "\n",
    "train_sampled.head()"
   ]
  },
  {
   "cell_type": "markdown",
   "id": "83160c68-c2d8-4389-a5ff-485a102337d2",
   "metadata": {},
   "source": [
    "<span style=\"color:rgb(75,0,130); font-weight:bold; font-size: 12px\">Testing Data</span>"
   ]
  },
  {
   "cell_type": "code",
   "execution_count": 25,
   "id": "b28fee03-1b55-4d27-bfcc-27a4ac86194a",
   "metadata": {
    "tags": []
   },
   "outputs": [
    {
     "name": "stdout",
     "output_type": "stream",
     "text": [
      "Query succeeded!\n"
     ]
    },
    {
     "data": {
      "text/html": [
       "<div>\n",
       "<style scoped>\n",
       "    .dataframe tbody tr th:only-of-type {\n",
       "        vertical-align: middle;\n",
       "    }\n",
       "\n",
       "    .dataframe tbody tr th {\n",
       "        vertical-align: top;\n",
       "    }\n",
       "\n",
       "    .dataframe thead th {\n",
       "        text-align: right;\n",
       "    }\n",
       "</style>\n",
       "<table border=\"1\" class=\"dataframe\">\n",
       "  <thead>\n",
       "    <tr style=\"text-align: right;\">\n",
       "      <th></th>\n",
       "      <th>polarity</th>\n",
       "      <th>title</th>\n",
       "      <th>description</th>\n",
       "    </tr>\n",
       "  </thead>\n",
       "  <tbody>\n",
       "    <tr>\n",
       "      <th>0</th>\n",
       "      <td>1</td>\n",
       "      <td>Save your money buy something else</td>\n",
       "      <td>My company purchased 3 of these malfunctioning...</td>\n",
       "    </tr>\n",
       "    <tr>\n",
       "      <th>1</th>\n",
       "      <td>2</td>\n",
       "      <td>Damn this girl gots skills</td>\n",
       "      <td>This girl has got mad skills on the tables. Sh...</td>\n",
       "    </tr>\n",
       "    <tr>\n",
       "      <th>2</th>\n",
       "      <td>1</td>\n",
       "      <td>The record company won</td>\n",
       "      <td>I came on board with Too Far To Care (an unher...</td>\n",
       "    </tr>\n",
       "    <tr>\n",
       "      <th>3</th>\n",
       "      <td>2</td>\n",
       "      <td>Absolutely Outstanding</td>\n",
       "      <td>I purchased this CD after listening to a frien...</td>\n",
       "    </tr>\n",
       "    <tr>\n",
       "      <th>4</th>\n",
       "      <td>2</td>\n",
       "      <td>Great ideas if you want to make a sewing space</td>\n",
       "      <td>I love the book \"Dream Sewing Spaces\" - which ...</td>\n",
       "    </tr>\n",
       "  </tbody>\n",
       "</table>\n",
       "</div>"
      ],
      "text/plain": [
       "  polarity                                           title  \\\n",
       "0        1              Save your money buy something else   \n",
       "1        2                      Damn this girl gots skills   \n",
       "2        1                          The record company won   \n",
       "3        2                          Absolutely Outstanding   \n",
       "4        2  Great ideas if you want to make a sewing space   \n",
       "\n",
       "                                         description  \n",
       "0  My company purchased 3 of these malfunctioning...  \n",
       "1  This girl has got mad skills on the tables. Sh...  \n",
       "2  I came on board with Too Far To Care (an unher...  \n",
       "3  I purchased this CD after listening to a frien...  \n",
       "4  I love the book \"Dream Sewing Spaces\" - which ...  "
      ]
     },
     "execution_count": 25,
     "metadata": {},
     "output_type": "execute_result"
    }
   ],
   "source": [
    "# Sampling testing dataset by 30%\n",
    "query = f'SELECT * FROM \"test-datatable\" where RAND()<=0.3;'\n",
    "\n",
    "test_sampled = main(query, DATABASE_NAME, s3_output_location)\n",
    "\n",
    "test_sampled.head()"
   ]
  },
  {
   "cell_type": "markdown",
   "id": "6841fd24-17d6-4e1b-9117-18550c6a20af",
   "metadata": {},
   "source": [
    "<span style=\"color:rgb(75,0,130); font-weight:bold; font-size: 16px\">Count rows in the Sampled DataFrames</span>"
   ]
  },
  {
   "cell_type": "code",
   "execution_count": 29,
   "id": "2368e508-79bc-452a-9a41-f493686afe32",
   "metadata": {
    "tags": []
   },
   "outputs": [
    {
     "name": "stdout",
     "output_type": "stream",
     "text": [
      "Rows in Sampled Train: 1079489\n",
      "Rows in Sampled Testing: 119326\n"
     ]
    }
   ],
   "source": [
    "print(\"Rows in Sampled Train:\", train_sampled.shape[0])\n",
    "print(\"Rows in Sampled Testing:\", test_sampled.shape[0])"
   ]
  },
  {
   "cell_type": "markdown",
   "id": "e6491da0-71cc-4e1f-98cb-49702516a64f",
   "metadata": {},
   "source": [
    "<span style=\"color:black; font-weight:bold; font-size: 18px\">Merging the Datasets</span>"
   ]
  },
  {
   "cell_type": "code",
   "execution_count": 30,
   "id": "1cba5e1d-a565-4f8d-a306-fc13f9d63f36",
   "metadata": {
    "tags": []
   },
   "outputs": [
    {
     "name": "stdout",
     "output_type": "stream",
     "text": [
      "Union of Training and Testing DataFrame reults in a Dataframe with: 1198815 rows and  3 columns\n"
     ]
    }
   ],
   "source": [
    "combined_train_test = pd.concat([train_sampled, test_sampled], ignore_index=True)\n",
    "print(\"Union of Training and Testing DataFrame reults in a Dataframe with:\", combined_train_test.shape[0], \"rows and \",combined_train_test.shape[1], \"columns\")"
   ]
  },
  {
   "cell_type": "markdown",
   "id": "30582452",
   "metadata": {},
   "source": [
    "<div style=\"text-align: center;\"> <span style=\"color:blue; font-weight:bold; font-size: 24px\"> Data Ingestion into S3 </span> </div>"
   ]
  },
  {
   "cell_type": "code",
   "execution_count": 31,
   "id": "790a8e19-10be-4afe-82ae-2faa8ec59949",
   "metadata": {
    "tags": []
   },
   "outputs": [],
   "source": [
    "# Staging the combined dataframe into S3 as a CSV for carrying out the Data Science Workflow Tasks\n",
    "\n",
    "s3_combined_path = f's3://{S3_BUCKET_NAME}/test/combined/combined_train_test.csv'\n",
    "combined_train_test.to_csv(s3_combined_path, index=False)"
   ]
  },
  {
   "cell_type": "markdown",
   "id": "f7677710-6ffa-4710-a34e-ef20c69cf880",
   "metadata": {},
   "source": [
    "<span style=\"color:rgb(75,0,130); font-weight:bold; font-size: 16px\">Creating Datatable for Combined Data</span>"
   ]
  },
  {
   "cell_type": "code",
   "execution_count": 41,
   "id": "353ddf77-5167-4a60-a34d-ad57f62952de",
   "metadata": {
    "tags": []
   },
   "outputs": [
    {
     "name": "stdout",
     "output_type": "stream",
     "text": [
      "Athena Training Table creation query submitted.\n"
     ]
    }
   ],
   "source": [
    "TABLE_NAME = 'combined_train_test'\n",
    "\n",
    "# table creation query\n",
    "create_table_query = f\"\"\"\n",
    "CREATE EXTERNAL TABLE IF NOT EXISTS `{DATABASE_NAME}`.`{TABLE_NAME}` (\n",
    "    polarity INT,\n",
    "    title STRING,\n",
    "    description STRING\n",
    ")\n",
    "\n",
    "ROW FORMAT SERDE 'org.apache.hadoop.hive.serde2.OpenCSVSerde'\n",
    "WITH SERDEPROPERTIES (\n",
    "    \"skip.header.line.count\"=\"1\"\n",
    ")\n",
    "LOCATION 's3://{S3_BUCKET_NAME}/test/combined/'\n",
    "\"\"\"\n",
    "\n",
    "# Execute query to create table\n",
    "response = athena_client.start_query_execution(\n",
    "    QueryString=create_table_query.strip(),\n",
    "    QueryExecutionContext={'Database': DATABASE_NAME},\n",
    "    ResultConfiguration={'OutputLocation': s3_output_location}\n",
    ")\n",
    "\n",
    "print(\"Athena Training Table creation query submitted.\")"
   ]
  },
  {
   "cell_type": "markdown",
   "id": "a73ca3c4-e8db-4cb7-a92c-1806777301a6",
   "metadata": {},
   "source": [
    "<span style=\"color:rgb(75,0,130); font-weight:bold; font-size: 16px\">Display Combined Data</span>"
   ]
  },
  {
   "cell_type": "code",
   "execution_count": 42,
   "id": "e472c3f7-d1b9-4e60-89d7-c25c2f8aef76",
   "metadata": {
    "tags": []
   },
   "outputs": [
    {
     "name": "stdout",
     "output_type": "stream",
     "text": [
      "Query succeeded!\n"
     ]
    },
    {
     "data": {
      "text/html": [
       "<div>\n",
       "<style scoped>\n",
       "    .dataframe tbody tr th:only-of-type {\n",
       "        vertical-align: middle;\n",
       "    }\n",
       "\n",
       "    .dataframe tbody tr th {\n",
       "        vertical-align: top;\n",
       "    }\n",
       "\n",
       "    .dataframe thead th {\n",
       "        text-align: right;\n",
       "    }\n",
       "</style>\n",
       "<table border=\"1\" class=\"dataframe\">\n",
       "  <thead>\n",
       "    <tr style=\"text-align: right;\">\n",
       "      <th></th>\n",
       "      <th>polarity</th>\n",
       "      <th>title</th>\n",
       "      <th>description</th>\n",
       "    </tr>\n",
       "  </thead>\n",
       "  <tbody>\n",
       "    <tr>\n",
       "      <th>0</th>\n",
       "      <td>2</td>\n",
       "      <td>Allright on the night/Buzzard</td>\n",
       "      <td>A few months ago, I got a copy of the album, T...</td>\n",
       "    </tr>\n",
       "    <tr>\n",
       "      <th>1</th>\n",
       "      <td>1</td>\n",
       "      <td>Beware watching this movie may cause impotency</td>\n",
       "      <td>This movie has to be the most boring movie tha...</td>\n",
       "    </tr>\n",
       "    <tr>\n",
       "      <th>2</th>\n",
       "      <td>1</td>\n",
       "      <td>A pessimistic view by an educated socialist</td>\n",
       "      <td>21st Century Capitalsim, published in 1993, fa...</td>\n",
       "    </tr>\n",
       "    <tr>\n",
       "      <th>3</th>\n",
       "      <td>2</td>\n",
       "      <td>EXCELLENT CD</td>\n",
       "      <td>I never really listened to the Mavericks but a...</td>\n",
       "    </tr>\n",
       "    <tr>\n",
       "      <th>4</th>\n",
       "      <td>2</td>\n",
       "      <td>One of Our Greatest Singers Delivers an Excell...</td>\n",
       "      <td>Raul Malo is a great singer, and this is an ex...</td>\n",
       "    </tr>\n",
       "  </tbody>\n",
       "</table>\n",
       "</div>"
      ],
      "text/plain": [
       "  polarity                                              title  \\\n",
       "0        2                      Allright on the night/Buzzard   \n",
       "1        1     Beware watching this movie may cause impotency   \n",
       "2        1        A pessimistic view by an educated socialist   \n",
       "3        2                                       EXCELLENT CD   \n",
       "4        2  One of Our Greatest Singers Delivers an Excell...   \n",
       "\n",
       "                                         description  \n",
       "0  A few months ago, I got a copy of the album, T...  \n",
       "1  This movie has to be the most boring movie tha...  \n",
       "2  21st Century Capitalsim, published in 1993, fa...  \n",
       "3  I never really listened to the Mavericks but a...  \n",
       "4  Raul Malo is a great singer, and this is an ex...  "
      ]
     },
     "execution_count": 42,
     "metadata": {},
     "output_type": "execute_result"
    }
   ],
   "source": [
    "query = f'SELECT * FROM \"combined_train_test\";'\n",
    "\n",
    "combined_data = main(query, DATABASE_NAME, s3_output_location)\n",
    "\n",
    "combined_data.head()"
   ]
  },
  {
   "cell_type": "markdown",
   "id": "e8893563-4aa2-48ac-9844-bad67d4e7c29",
   "metadata": {},
   "source": [
    "<span style=\"color:rgb(75,0,130); font-weight:bold; font-size: 16px\">Display Number of Rows in Combined Data</span>"
   ]
  },
  {
   "cell_type": "code",
   "execution_count": 47,
   "id": "e8c2ebb5-f067-4192-b1a1-850700e51ab5",
   "metadata": {
    "tags": []
   },
   "outputs": [
    {
     "name": "stdout",
     "output_type": "stream",
     "text": [
      "Query succeeded!\n"
     ]
    },
    {
     "data": {
      "text/html": [
       "<div>\n",
       "<style scoped>\n",
       "    .dataframe tbody tr th:only-of-type {\n",
       "        vertical-align: middle;\n",
       "    }\n",
       "\n",
       "    .dataframe tbody tr th {\n",
       "        vertical-align: top;\n",
       "    }\n",
       "\n",
       "    .dataframe thead th {\n",
       "        text-align: right;\n",
       "    }\n",
       "</style>\n",
       "<table border=\"1\" class=\"dataframe\">\n",
       "  <thead>\n",
       "    <tr style=\"text-align: right;\">\n",
       "      <th></th>\n",
       "      <th>Count_Rows</th>\n",
       "    </tr>\n",
       "  </thead>\n",
       "  <tbody>\n",
       "    <tr>\n",
       "      <th>0</th>\n",
       "      <td>1198815</td>\n",
       "    </tr>\n",
       "  </tbody>\n",
       "</table>\n",
       "</div>"
      ],
      "text/plain": [
       "  Count_Rows\n",
       "0    1198815"
      ]
     },
     "execution_count": 47,
     "metadata": {},
     "output_type": "execute_result"
    }
   ],
   "source": [
    "# Checking the row count in test data table\n",
    "query = f'SELECT COUNT(*) AS \"Count_Rows\" FROM \"combined_train_test\";'\n",
    "\n",
    "count_combined = main(query, DATABASE_NAME, s3_output_location)\n",
    "\n",
    "count_combined"
   ]
  },
  {
   "cell_type": "markdown",
   "id": "55201efd-3dfd-4a75-b290-59c2b363ecd9",
   "metadata": {},
   "source": [
    "### Remaining Steps (EDA, Preprocessing, Transformation, Modeling and Evaluation) in the EMR Notebook  -->"
   ]
  }
 ],
 "metadata": {
  "kernelspec": {
   "display_name": "conda_python3",
   "language": "python",
   "name": "conda_python3"
  },
  "language_info": {
   "codemirror_mode": {
    "name": "ipython",
    "version": 3
   },
   "file_extension": ".py",
   "mimetype": "text/x-python",
   "name": "python",
   "nbconvert_exporter": "python",
   "pygments_lexer": "ipython3",
   "version": "3.10.15"
  }
 },
 "nbformat": 4,
 "nbformat_minor": 5
}
