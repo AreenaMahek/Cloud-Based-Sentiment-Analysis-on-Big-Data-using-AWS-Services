{
 "cells": [
  {
   "cell_type": "markdown",
   "id": "57c15081-3701-44dd-869a-a903304b5b2c",
   "metadata": {},
   "source": [
    "<div style=\"text-align: center;\"> <span style=\"color:brown; font-weight:bold; font-size: 30px\">Final Project- Sentiment Analysis using Amazon Reviews Dataset </span> </div>"
   ]
  },
  {
   "cell_type": "markdown",
   "id": "74d513cd-602f-47a7-8852-a57e2f352751",
   "metadata": {},
   "source": [
    "Source: https://www.kaggle.com/datasets/kritanjalijain/amazon-reviews"
   ]
  },
  {
   "cell_type": "markdown",
   "id": "f0f612ae-1d86-465a-8d55-c1e59bd5a03b",
   "metadata": {},
   "source": [
    "<span style=\"color:rgb(75,0,130); font-weight:bold; font-size: 16px\">Setting up PySpark</span>"
   ]
  },
  {
   "cell_type": "code",
   "execution_count": 1,
   "id": "f7a27a00-4e54-4b3d-920b-8810a65f8143",
   "metadata": {
    "execution": {
     "iopub.execute_input": "2024-11-18T03:30:10.051464Z",
     "iopub.status.busy": "2024-11-18T03:30:10.050900Z",
     "iopub.status.idle": "2024-11-18T03:31:15.124184Z",
     "shell.execute_reply": "2024-11-18T03:31:15.123092Z",
     "shell.execute_reply.started": "2024-11-18T03:30:10.051419Z"
    },
    "tags": []
   },
   "outputs": [
    {
     "data": {
      "application/vnd.jupyter.widget-view+json": {
       "model_id": "cf861f64e0024091867822fbad5e32b0",
       "version_major": 2,
       "version_minor": 0
      },
      "text/plain": [
       "VBox()"
      ]
     },
     "metadata": {},
     "output_type": "display_data"
    },
    {
     "name": "stdout",
     "output_type": "stream",
     "text": [
      "Starting Spark application\n"
     ]
    },
    {
     "data": {
      "text/html": [
       "<table>\n",
       "<tbody><tr><th>ID</th><th>YARN Application ID</th><th>Kind</th><th>State</th><th>Spark UI</th><th>Driver log</th><th>User</th><th>Current session?</th></tr><tr><td>1</td><td>application_1731893522892_0002</td><td>pyspark</td><td>idle</td><td><a target=\"_blank\" href=\"http://ip-172-31-45-41.ec2.internal:20888/proxy/application_1731893522892_0002/\" class=\"emr-proxy-link j-QCSETP816YQT application_1731893522892_0002\" emr-resource=\"j-QCSETP816YQT\n",
       "\" application-id=\"application_1731893522892_0002\">Link</a></td><td><a target=\"_blank\" href=\"http://ip-172-31-42-248.ec2.internal:8042/node/containerlogs/container_1731893522892_0002_01_000001/livy\">Link</a></td><td>None</td><td>✔</td></tr></tbody></table>"
      ],
      "text/plain": [
       "<IPython.core.display.HTML object>"
      ]
     },
     "metadata": {},
     "output_type": "display_data"
    },
    {
     "data": {
      "application/vnd.jupyter.widget-view+json": {
       "model_id": "",
       "version_major": 2,
       "version_minor": 0
      },
      "text/plain": [
       "FloatProgress(value=0.0, bar_style='info', description='Progress:', layout=Layout(height='25px', width='50%'),…"
      ]
     },
     "metadata": {},
     "output_type": "display_data"
    },
    {
     "name": "stdout",
     "output_type": "stream",
     "text": [
      "SparkSession available as 'spark'.\n"
     ]
    },
    {
     "data": {
      "application/vnd.jupyter.widget-view+json": {
       "model_id": "",
       "version_major": 2,
       "version_minor": 0
      },
      "text/plain": [
       "FloatProgress(value=0.0, bar_style='info', description='Progress:', layout=Layout(height='25px', width='50%'),…"
      ]
     },
     "metadata": {},
     "output_type": "display_data"
    },
    {
     "name": "stdout",
     "output_type": "stream",
     "text": [
      "<SparkContext master=yarn appName=livy-session-1>"
     ]
    }
   ],
   "source": [
    "# Setting Pyspark environment\n",
    "\n",
    "import pyspark\n",
    "from pyspark.sql import SparkSession\n",
    "spark = SparkSession.builder.appName('final_project').getOrCreate() # create a spark session\n",
    "spark\n",
    "\n",
    "# Check number of executors including drivers currently part of the Spark cluster or application.\n",
    "spark._jsc.sc().getExecutorMemoryStatus().keySet().size() \n",
    "\n",
    "# sparkcontext helps to run tasks in parallel\n",
    "sc "
   ]
  },
  {
   "cell_type": "markdown",
   "id": "83b596e4-458c-4bf3-90b8-adefac9ac3bd",
   "metadata": {},
   "source": [
    "<span style=\"color:rgb(75,0,130); font-weight:bold; font-size: 16px\">Installing and Importing Packages</span>"
   ]
  },
  {
   "cell_type": "code",
   "execution_count": 2,
   "id": "0267855a-6987-4863-b72b-8cc4c26160d1",
   "metadata": {
    "execution": {
     "iopub.execute_input": "2024-11-18T03:31:15.128281Z",
     "iopub.status.busy": "2024-11-18T03:31:15.128081Z",
     "iopub.status.idle": "2024-11-18T03:32:34.755960Z",
     "shell.execute_reply": "2024-11-18T03:32:34.755272Z",
     "shell.execute_reply.started": "2024-11-18T03:31:15.128255Z"
    },
    "tags": []
   },
   "outputs": [
    {
     "data": {
      "application/vnd.jupyter.widget-view+json": {
       "model_id": "01d049cdd17d4c8cb51934b04c181a25",
       "version_major": 2,
       "version_minor": 0
      },
      "text/plain": [
       "VBox()"
      ]
     },
     "metadata": {},
     "output_type": "display_data"
    },
    {
     "data": {
      "application/vnd.jupyter.widget-view+json": {
       "model_id": "",
       "version_major": 2,
       "version_minor": 0
      },
      "text/plain": [
       "FloatProgress(value=0.0, bar_style='info', description='Progress:', layout=Layout(height='25px', width='50%'),…"
      ]
     },
     "metadata": {},
     "output_type": "display_data"
    },
    {
     "name": "stdout",
     "output_type": "stream",
     "text": [
      "Collecting s3fs\n",
      "  Downloading s3fs-2024.10.0-py3-none-any.whl (29 kB)\n",
      "Collecting aiohttp!=4.0.0a0,!=4.0.0a1\n",
      "  Downloading aiohttp-3.11.2-cp39-cp39-manylinux_2_17_x86_64.manylinux2014_x86_64.whl (1.6 MB)\n",
      "Collecting aiobotocore<3.0.0,>=2.5.4\n",
      "  Downloading aiobotocore-2.15.2-py3-none-any.whl (77 kB)\n",
      "Collecting fsspec==2024.10.0.*\n",
      "  Downloading fsspec-2024.10.0-py3-none-any.whl (179 kB)\n",
      "Collecting botocore<1.35.37,>=1.35.16\n",
      "  Downloading botocore-1.35.36-py3-none-any.whl (12.6 MB)\n",
      "Collecting aioitertools<1.0.0,>=0.5.1\n",
      "  Downloading aioitertools-0.12.0-py3-none-any.whl (24 kB)\n",
      "Collecting wrapt<2.0.0,>=1.10.10\n",
      "  Downloading wrapt-1.16.0-cp39-cp39-manylinux_2_5_x86_64.manylinux1_x86_64.manylinux_2_17_x86_64.manylinux2014_x86_64.whl (80 kB)\n",
      "Collecting frozenlist>=1.1.1\n",
      "  Downloading frozenlist-1.5.0-cp39-cp39-manylinux_2_5_x86_64.manylinux1_x86_64.manylinux_2_17_x86_64.manylinux2014_x86_64.whl (242 kB)\n",
      "Collecting yarl<2.0,>=1.17.0\n",
      "  Downloading yarl-1.17.2-cp39-cp39-manylinux_2_17_x86_64.manylinux2014_x86_64.whl (320 kB)\n",
      "Collecting async-timeout<6.0,>=4.0\n",
      "  Downloading async_timeout-5.0.1-py3-none-any.whl (6.2 kB)\n",
      "Collecting multidict<7.0,>=4.5\n",
      "  Downloading multidict-6.1.0-cp39-cp39-manylinux_2_17_x86_64.manylinux2014_x86_64.whl (124 kB)\n",
      "Collecting aiohappyeyeballs>=2.3.0\n",
      "  Downloading aiohappyeyeballs-2.4.3-py3-none-any.whl (14 kB)\n",
      "Requirement already satisfied: attrs>=17.3.0 in /usr/lib/python3.9/site-packages (from aiohttp!=4.0.0a0,!=4.0.0a1->s3fs) (20.3.0)\n",
      "Collecting propcache>=0.2.0\n",
      "  Downloading propcache-0.2.0-cp39-cp39-manylinux_2_17_x86_64.manylinux2014_x86_64.whl (211 kB)\n",
      "Collecting aiosignal>=1.1.2\n",
      "  Downloading aiosignal-1.3.1-py3-none-any.whl (7.6 kB)\n",
      "Collecting typing_extensions>=4.0\n",
      "  Downloading typing_extensions-4.12.2-py3-none-any.whl (37 kB)\n",
      "Requirement already satisfied: jmespath<2.0.0,>=0.7.1 in /usr/local/lib/python3.9/site-packages (from botocore<1.35.37,>=1.35.16->aiobotocore<3.0.0,>=2.5.4->s3fs) (1.0.1)\n",
      "Requirement already satisfied: python-dateutil<3.0.0,>=2.1 in /usr/lib/python3.9/site-packages (from botocore<1.35.37,>=1.35.16->aiobotocore<3.0.0,>=2.5.4->s3fs) (2.8.1)\n",
      "Requirement already satisfied: urllib3<1.27,>=1.25.4 in /usr/lib/python3.9/site-packages (from botocore<1.35.37,>=1.35.16->aiobotocore<3.0.0,>=2.5.4->s3fs) (1.25.10)\n",
      "Requirement already satisfied: idna>=2.0 in /usr/lib/python3.9/site-packages (from yarl<2.0,>=1.17.0->aiohttp!=4.0.0a0,!=4.0.0a1->s3fs) (2.10)\n",
      "Requirement already satisfied: six>=1.5 in /usr/local/lib/python3.9/site-packages (from python-dateutil<3.0.0,>=2.1->botocore<1.35.37,>=1.35.16->aiobotocore<3.0.0,>=2.5.4->s3fs) (1.13.0)\n",
      "Installing collected packages: typing-extensions, propcache, multidict, frozenlist, yarl, async-timeout, aiosignal, aiohappyeyeballs, wrapt, botocore, aioitertools, aiohttp, fsspec, aiobotocore, s3fs\n",
      "Successfully installed aiobotocore-2.15.2 aiohappyeyeballs-2.4.3 aiohttp-3.11.2 aioitertools-0.12.0 aiosignal-1.3.1 async-timeout-5.0.1 botocore-1.35.36 frozenlist-1.5.0 fsspec-2024.10.0 multidict-6.1.0 propcache-0.2.0 s3fs-2024.10.0 typing-extensions-4.12.2 wrapt-1.16.0 yarl-1.17.2\n",
      "\n",
      "Requirement already satisfied: fsspec in ./tmp/spark-12d8417b-fb9d-41a0-90a9-cdcde6b07d6f/lib/python3.9/site-packages (2024.10.0)\n",
      "\n",
      "Collecting pandas\n",
      "  Downloading pandas-2.2.3-cp39-cp39-manylinux_2_17_x86_64.manylinux2014_x86_64.whl (13.1 MB)\n",
      "Collecting tzdata>=2022.7\n",
      "  Downloading tzdata-2024.2-py2.py3-none-any.whl (346 kB)\n",
      "Collecting numpy>=1.22.4\n",
      "  Downloading numpy-2.0.2-cp39-cp39-manylinux_2_17_x86_64.manylinux2014_x86_64.whl (19.5 MB)\n",
      "Collecting python-dateutil>=2.8.2\n",
      "  Downloading python_dateutil-2.9.0.post0-py2.py3-none-any.whl (229 kB)\n",
      "Requirement already satisfied: pytz>=2020.1 in /usr/local/lib/python3.9/site-packages (from pandas) (2024.1)\n",
      "Requirement already satisfied: six>=1.5 in /usr/local/lib/python3.9/site-packages (from python-dateutil>=2.8.2->pandas) (1.13.0)\n",
      "Installing collected packages: tzdata, python-dateutil, numpy, pandas\n",
      "  Attempting uninstall: python-dateutil\n",
      "    Found existing installation: python-dateutil 2.8.1\n",
      "    Not uninstalling python-dateutil at /usr/lib/python3.9/site-packages, outside environment /mnt/yarn/usercache/livy/appcache/application_1731893522892_0002/container_1731893522892_0002_01_000001/tmp/spark-12d8417b-fb9d-41a0-90a9-cdcde6b07d6f\n",
      "    Can't uninstall 'python-dateutil'. No files were found to uninstall.\n",
      "Successfully installed numpy-2.0.2 pandas-2.2.3 python-dateutil-2.9.0.post0 tzdata-2024.2\n",
      "\n",
      "Requirement already satisfied: numpy in ./tmp/spark-12d8417b-fb9d-41a0-90a9-cdcde6b07d6f/lib64/python3.9/site-packages (2.0.2)\n",
      "\n",
      "Collecting sklearn\n",
      "  Downloading sklearn-0.0.post12.tar.gz (2.6 kB)\n",
      "  Preparing metadata (setup.py): started\n",
      "  Preparing metadata (setup.py): finished with status 'error'\n",
      "  Downloading sklearn-0.0.post11.tar.gz (3.6 kB)\n",
      "  Preparing metadata (setup.py): started\n",
      "  Preparing metadata (setup.py): finished with status 'error'\n",
      "  Downloading sklearn-0.0.post10.tar.gz (3.6 kB)\n",
      "  Preparing metadata (setup.py): started\n",
      "  Preparing metadata (setup.py): finished with status 'error'\n",
      "  Downloading sklearn-0.0.post9.tar.gz (3.6 kB)\n",
      "  Preparing metadata (setup.py): started\n",
      "  Preparing metadata (setup.py): finished with status 'error'\n",
      "  Downloading sklearn-0.0.post7.tar.gz (3.6 kB)\n",
      "  Preparing metadata (setup.py): started\n",
      "  Preparing metadata (setup.py): finished with status 'error'\n",
      "  Downloading sklearn-0.0.post5.tar.gz (3.7 kB)\n",
      "  Preparing metadata (setup.py): started\n",
      "  Preparing metadata (setup.py): finished with status 'error'\n",
      "  Downloading sklearn-0.0.post4.tar.gz (3.6 kB)\n",
      "  Preparing metadata (setup.py): started\n",
      "  Preparing metadata (setup.py): finished with status 'error'\n",
      "  Downloading sklearn-0.0.post1.tar.gz (3.6 kB)\n",
      "  Preparing metadata (setup.py): started\n",
      "  Preparing metadata (setup.py): finished with status 'error'\n",
      "  Downloading sklearn-0.0.tar.gz (1.1 kB)\n",
      "  Preparing metadata (setup.py): started\n",
      "  Preparing metadata (setup.py): finished with status 'done'\n",
      "Collecting scikit-learn\n",
      "  Downloading scikit_learn-1.5.2-cp39-cp39-manylinux_2_17_x86_64.manylinux2014_x86_64.whl (13.4 MB)\n",
      "Requirement already satisfied: joblib>=1.2.0 in /usr/local/lib64/python3.9/site-packages (from scikit-learn->sklearn) (1.4.2)\n",
      "Requirement already satisfied: numpy>=1.19.5 in ./tmp/spark-12d8417b-fb9d-41a0-90a9-cdcde6b07d6f/lib64/python3.9/site-packages (from scikit-learn->sklearn) (2.0.2)\n",
      "Collecting scipy>=1.6.0\n",
      "  Downloading scipy-1.13.1-cp39-cp39-manylinux_2_17_x86_64.manylinux2014_x86_64.whl (38.6 MB)\n",
      "Collecting threadpoolctl>=3.1.0\n",
      "  Downloading threadpoolctl-3.5.0-py3-none-any.whl (18 kB)\n",
      "Building wheels for collected packages: sklearn\n",
      "  Building wheel for sklearn (setup.py): started\n",
      "  Building wheel for sklearn (setup.py): finished with status 'done'\n",
      "  Created wheel for sklearn: filename=sklearn-0.0-py2.py3-none-any.whl size=1310 sha256=64364f550b53f1cc287f5ce1a50a90ec459f0084a43ceb5dd872260c3a2f107c\n",
      "  Stored in directory: /mnt/tmp/pip-ephem-wheel-cache-brdshel1/wheels/e4/7b/98/b6466d71b8d738a0c547008b9eb39bf8676d1ff6ca4b22af1c\n",
      "Successfully built sklearn\n",
      "Installing collected packages: threadpoolctl, scipy, scikit-learn, sklearn\n",
      "Successfully installed scikit-learn-1.5.2 scipy-1.13.1 sklearn-0.0 threadpoolctl-3.5.0\n",
      "\n",
      "WARNING: The directory '/home/.cache/pip' or its parent directory is not owned or is not writable by the current user. The cache has been disabled. Check the permissions and owner of that directory. If executing pip with sudo, you should use sudo's -H flag.\n",
      "\n",
      "WARNING: The directory '/home/.cache/pip' or its parent directory is not owned or is not writable by the current user. The cache has been disabled. Check the permissions and owner of that directory. If executing pip with sudo, you should use sudo's -H flag.\n",
      "\n",
      "WARNING: The directory '/home/.cache/pip' or its parent directory is not owned or is not writable by the current user. The cache has been disabled. Check the permissions and owner of that directory. If executing pip with sudo, you should use sudo's -H flag.\n",
      "ERROR: pip's dependency resolver does not currently take into account all the packages that are installed. This behaviour is the source of the following dependency conflicts.\n",
      "awscli 2.15.30 requires python-dateutil<=2.8.2,>=2.1, but you have python-dateutil 2.9.0.post0 which is incompatible.\n",
      "\n",
      "WARNING: The directory '/home/.cache/pip' or its parent directory is not owned or is not writable by the current user. The cache has been disabled. Check the permissions and owner of that directory. If executing pip with sudo, you should use sudo's -H flag.\n",
      "\n",
      "WARNING: The directory '/home/.cache/pip' or its parent directory is not owned or is not writable by the current user. The cache has been disabled. Check the permissions and owner of that directory. If executing pip with sudo, you should use sudo's -H flag.\n",
      "  ERROR: Command errored out with exit status 1:\n",
      "   command: /mnt/yarn/usercache/livy/appcache/application_1731893522892_0002/container_1731893522892_0002_01_000001/tmp/spark-12d8417b-fb9d-41a0-90a9-cdcde6b07d6f/bin/python -c 'import io, os, sys, setuptools, tokenize; sys.argv[0] = '\"'\"'/mnt/tmp/pip-install-2vspuljz/sklearn_1181014c2470455aa14dff960023e24f/setup.py'\"'\"'; __file__='\"'\"'/mnt/tmp/pip-install-2vspuljz/sklearn_1181014c2470455aa14dff960023e24f/setup.py'\"'\"';f = getattr(tokenize, '\"'\"'open'\"'\"', open)(__file__) if os.path.exists(__file__) else io.StringIO('\"'\"'from setuptools import setup; setup()'\"'\"');code = f.read().replace('\"'\"'\\r\\n'\"'\"', '\"'\"'\\n'\"'\"');f.close();exec(compile(code, __file__, '\"'\"'exec'\"'\"'))' egg_info --egg-base /mnt/tmp/pip-pip-egg-info-n_24wlsz\n",
      "       cwd: /mnt/tmp/pip-install-2vspuljz/sklearn_1181014c2470455aa14dff960023e24f/\n",
      "  Complete output (15 lines):\n",
      "  The 'sklearn' PyPI package is deprecated, use 'scikit-learn'\n",
      "  rather than 'sklearn' for pip commands.\n",
      "  \n",
      "  Here is how to fix this error in the main use cases:\n",
      "  - use 'pip install scikit-learn' rather than 'pip install sklearn'\n",
      "  - replace 'sklearn' by 'scikit-learn' in your pip requirements files\n",
      "    (requirements.txt, setup.py, setup.cfg, Pipfile, etc ...)\n",
      "  - if the 'sklearn' package is used by one of your dependencies,\n",
      "    it would be great if you take some time to track which package uses\n",
      "    'sklearn' instead of 'scikit-learn' and report it to their issue tracker\n",
      "  - as a last resort, set the environment variable\n",
      "    SKLEARN_ALLOW_DEPRECATED_SKLEARN_PACKAGE_INSTALL=True to avoid this error\n",
      "  \n",
      "  More information is available at\n",
      "  https://github.com/scikit-learn/sklearn-pypi-package\n",
      "  ----------------------------------------\n",
      "WARNING: Discarding https://files.pythonhosted.org/packages/46/1c/395a83ee7b2d2ad7a05b453872053d41449564477c81dc356f720b16eac4/sklearn-0.0.post12.tar.gz#sha256=54cff9e20839b7b202321178228af4d9388bedf78425d9299fd9ee170d68802e (from https://pypi.org/simple/sklearn/). Command errored out with exit status 1: python setup.py egg_info Check the logs for full command output.\n",
      "  ERROR: Command errored out with exit status 1:\n",
      "   command: /mnt/yarn/usercache/livy/appcache/application_1731893522892_0002/container_1731893522892_0002_01_000001/tmp/spark-12d8417b-fb9d-41a0-90a9-cdcde6b07d6f/bin/python -c 'import io, os, sys, setuptools, tokenize; sys.argv[0] = '\"'\"'/mnt/tmp/pip-install-2vspuljz/sklearn_840aa648bcee4b74b2cd3880bc4e34b2/setup.py'\"'\"'; __file__='\"'\"'/mnt/tmp/pip-install-2vspuljz/sklearn_840aa648bcee4b74b2cd3880bc4e34b2/setup.py'\"'\"';f = getattr(tokenize, '\"'\"'open'\"'\"', open)(__file__) if os.path.exists(__file__) else io.StringIO('\"'\"'from setuptools import setup; setup()'\"'\"');code = f.read().replace('\"'\"'\\r\\n'\"'\"', '\"'\"'\\n'\"'\"');f.close();exec(compile(code, __file__, '\"'\"'exec'\"'\"'))' egg_info --egg-base /mnt/tmp/pip-pip-egg-info-yno5aiuc\n",
      "       cwd: /mnt/tmp/pip-install-2vspuljz/sklearn_840aa648bcee4b74b2cd3880bc4e34b2/\n",
      "  Complete output (18 lines):\n",
      "  The 'sklearn' PyPI package is deprecated, use 'scikit-learn'\n",
      "  rather than 'sklearn' for pip commands.\n",
      "  \n",
      "  Here is how to fix this error in the main use cases:\n",
      "  - use 'pip install scikit-learn' rather than 'pip install sklearn'\n",
      "  - replace 'sklearn' by 'scikit-learn' in your pip requirements files\n",
      "    (requirements.txt, setup.py, setup.cfg, Pipfile, etc ...)\n",
      "  - if the 'sklearn' package is used by one of your dependencies,\n",
      "    it would be great if you take some time to track which package uses\n",
      "    'sklearn' instead of 'scikit-learn' and report it to their issue tracker\n",
      "  - as a last resort, set the environment variable\n",
      "    SKLEARN_ALLOW_DEPRECATED_SKLEARN_PACKAGE_INSTALL=True to avoid this error\n",
      "  \n",
      "  More information is available at\n",
      "  https://github.com/scikit-learn/sklearn-pypi-package\n",
      "  \n",
      "  If the previous advice does not cover your use case, feel free to report it at\n",
      "  https://github.com/scikit-learn/sklearn-pypi-package/issues/new\n",
      "  ----------------------------------------\n",
      "WARNING: Discarding https://files.pythonhosted.org/packages/a4/0b/d1c703256cf293be77b7db44dbef62251fe02a97d0bef981f7120b0b0c0f/sklearn-0.0.post11.tar.gz#sha256=af035c4f0b970b7fc2d3856079aa1aa1032df3d7f65048a9d87114abf13c4629 (from https://pypi.org/simple/sklearn/). Command errored out with exit status 1: python setup.py egg_info Check the logs for full command output.\n",
      "  ERROR: Command errored out with exit status 1:\n",
      "   command: /mnt/yarn/usercache/livy/appcache/application_1731893522892_0002/container_1731893522892_0002_01_000001/tmp/spark-12d8417b-fb9d-41a0-90a9-cdcde6b07d6f/bin/python -c 'import io, os, sys, setuptools, tokenize; sys.argv[0] = '\"'\"'/mnt/tmp/pip-install-2vspuljz/sklearn_360248be38174899b9fcdcc269ec0ad5/setup.py'\"'\"'; __file__='\"'\"'/mnt/tmp/pip-install-2vspuljz/sklearn_360248be38174899b9fcdcc269ec0ad5/setup.py'\"'\"';f = getattr(tokenize, '\"'\"'open'\"'\"', open)(__file__) if os.path.exists(__file__) else io.StringIO('\"'\"'from setuptools import setup; setup()'\"'\"');code = f.read().replace('\"'\"'\\r\\n'\"'\"', '\"'\"'\\n'\"'\"');f.close();exec(compile(code, __file__, '\"'\"'exec'\"'\"'))' egg_info --egg-base /mnt/tmp/pip-pip-egg-info-zec4e7_w\n",
      "       cwd: /mnt/tmp/pip-install-2vspuljz/sklearn_360248be38174899b9fcdcc269ec0ad5/\n",
      "  Complete output (18 lines):\n",
      "  The 'sklearn' PyPI package is deprecated, use 'scikit-learn'\n",
      "  rather than 'sklearn' for pip commands.\n",
      "  \n",
      "  Here is how to fix this error in the main use cases:\n",
      "  - use 'pip install scikit-learn' rather than 'pip install sklearn'\n",
      "  - replace 'sklearn' by 'scikit-learn' in your pip requirements files\n",
      "    (requirements.txt, setup.py, setup.cfg, Pipfile, etc ...)\n",
      "  - if the 'sklearn' package is used by one of your dependencies,\n",
      "    it would be great if you take some time to track which package uses\n",
      "    'sklearn' instead of 'scikit-learn' and report it to their issue tracker\n",
      "  - as a last resort, set the environment variable\n",
      "    SKLEARN_ALLOW_DEPRECATED_SKLEARN_PACKAGE_INSTALL=True to avoid this error\n",
      "  \n",
      "  More information is available at\n",
      "  https://github.com/scikit-learn/sklearn-pypi-package\n",
      "  \n",
      "  If the previous advice does not cover your use case, feel free to report it at\n",
      "  https://github.com/scikit-learn/sklearn-pypi-package/issues/new\n",
      "  ----------------------------------------\n",
      "WARNING: Discarding https://files.pythonhosted.org/packages/b9/0e/b2a4cfaa9e12b9ca4c71507bc26d2c99d75de172c0088c9835a98cf146ff/sklearn-0.0.post10.tar.gz#sha256=d4cd5a2e64b3caaf82cd5e33c46884dfeec5ebf991710d9faeb4fe81cadb3ba6 (from https://pypi.org/simple/sklearn/). Command errored out with exit status 1: python setup.py egg_info Check the logs for full command output.\n",
      "  ERROR: Command errored out with exit status 1:\n",
      "   command: /mnt/yarn/usercache/livy/appcache/application_1731893522892_0002/container_1731893522892_0002_01_000001/tmp/spark-12d8417b-fb9d-41a0-90a9-cdcde6b07d6f/bin/python -c 'import io, os, sys, setuptools, tokenize; sys.argv[0] = '\"'\"'/mnt/tmp/pip-install-2vspuljz/sklearn_7b22b59ad13047bfbc284f15f790ed11/setup.py'\"'\"'; __file__='\"'\"'/mnt/tmp/pip-install-2vspuljz/sklearn_7b22b59ad13047bfbc284f15f790ed11/setup.py'\"'\"';f = getattr(tokenize, '\"'\"'open'\"'\"', open)(__file__) if os.path.exists(__file__) else io.StringIO('\"'\"'from setuptools import setup; setup()'\"'\"');code = f.read().replace('\"'\"'\\r\\n'\"'\"', '\"'\"'\\n'\"'\"');f.close();exec(compile(code, __file__, '\"'\"'exec'\"'\"'))' egg_info --egg-base /mnt/tmp/pip-pip-egg-info-c2v26mj7\n",
      "       cwd: /mnt/tmp/pip-install-2vspuljz/sklearn_7b22b59ad13047bfbc284f15f790ed11/\n",
      "  Complete output (18 lines):\n",
      "  The 'sklearn' PyPI package is deprecated, use 'scikit-learn'\n",
      "  rather than 'sklearn' for pip commands.\n",
      "  \n",
      "  Here is how to fix this error in the main use cases:\n",
      "  - use 'pip install scikit-learn' rather than 'pip install sklearn'\n",
      "  - replace 'sklearn' by 'scikit-learn' in your pip requirements files\n",
      "    (requirements.txt, setup.py, setup.cfg, Pipfile, etc ...)\n",
      "  - if the 'sklearn' package is used by one of your dependencies,\n",
      "    it would be great if you take some time to track which package uses\n",
      "    'sklearn' instead of 'scikit-learn' and report it to their issue tracker\n",
      "  - as a last resort, set the environment variable\n",
      "    SKLEARN_ALLOW_DEPRECATED_SKLEARN_PACKAGE_INSTALL=True to avoid this error\n",
      "  \n",
      "  More information is available at\n",
      "  https://github.com/scikit-learn/sklearn-pypi-package\n",
      "  \n",
      "  If the previous advice does not cover your use case, feel free to report it at\n",
      "  https://github.com/scikit-learn/sklearn-pypi-package/issues/new\n",
      "  ----------------------------------------\n",
      "WARNING: Discarding https://files.pythonhosted.org/packages/28/86/207a003339023247fef1bb5bc9f5093140d17294b2f6d15bfcd4885e469e/sklearn-0.0.post9.tar.gz#sha256=1ff5864cf30489ee48a014fe8f4320d7bb59592392a4ef52ae9d7a37942615ac (from https://pypi.org/simple/sklearn/). Command errored out with exit status 1: python setup.py egg_info Check the logs for full command output.\n",
      "  ERROR: Command errored out with exit status 1:\n",
      "   command: /mnt/yarn/usercache/livy/appcache/application_1731893522892_0002/container_1731893522892_0002_01_000001/tmp/spark-12d8417b-fb9d-41a0-90a9-cdcde6b07d6f/bin/python -c 'import io, os, sys, setuptools, tokenize; sys.argv[0] = '\"'\"'/mnt/tmp/pip-install-2vspuljz/sklearn_b8c3a78dbeb447849f0f7522b4e98a8b/setup.py'\"'\"'; __file__='\"'\"'/mnt/tmp/pip-install-2vspuljz/sklearn_b8c3a78dbeb447849f0f7522b4e98a8b/setup.py'\"'\"';f = getattr(tokenize, '\"'\"'open'\"'\"', open)(__file__) if os.path.exists(__file__) else io.StringIO('\"'\"'from setuptools import setup; setup()'\"'\"');code = f.read().replace('\"'\"'\\r\\n'\"'\"', '\"'\"'\\n'\"'\"');f.close();exec(compile(code, __file__, '\"'\"'exec'\"'\"'))' egg_info --egg-base /mnt/tmp/pip-pip-egg-info-q_et3vzo\n",
      "       cwd: /mnt/tmp/pip-install-2vspuljz/sklearn_b8c3a78dbeb447849f0f7522b4e98a8b/\n",
      "  Complete output (18 lines):\n",
      "  The 'sklearn' PyPI package is deprecated, use 'scikit-learn'\n",
      "  rather than 'sklearn' for pip commands.\n",
      "  \n",
      "  Here is how to fix this error in the main use cases:\n",
      "  - use 'pip install scikit-learn' rather than 'pip install sklearn'\n",
      "  - replace 'sklearn' by 'scikit-learn' in your pip requirements files\n",
      "    (requirements.txt, setup.py, setup.cfg, Pipfile, etc ...)\n",
      "  - if the 'sklearn' package is used by one of your dependencies,\n",
      "    it would be great if you take some time to track which package uses\n",
      "    'sklearn' instead of 'scikit-learn' and report it to their issue tracker\n",
      "  - as a last resort, set the environment variable\n",
      "    SKLEARN_ALLOW_DEPRECATED_SKLEARN_PACKAGE_INSTALL=True to avoid this error\n",
      "  \n",
      "  More information is available at\n",
      "  https://github.com/scikit-learn/sklearn-pypi-package\n",
      "  \n",
      "  If the previous advice does not cover your use case, feel free to report it at\n",
      "  https://github.com/scikit-learn/sklearn-pypi-package/issues/new\n",
      "  ----------------------------------------\n",
      "WARNING: Discarding https://files.pythonhosted.org/packages/70/ce/81aa643f3c43488c4a1e417e45f696a61e7ac82b57190fad3c310df2c07b/sklearn-0.0.post7.tar.gz#sha256=1c89020b364fdc3aa2839e0ae34e8f0b406669e4b5c2359dda3ac398f9c76874 (from https://pypi.org/simple/sklearn/). Command errored out with exit status 1: python setup.py egg_info Check the logs for full command output.\n",
      "  ERROR: Command errored out with exit status 1:\n",
      "   command: /mnt/yarn/usercache/livy/appcache/application_1731893522892_0002/container_1731893522892_0002_01_000001/tmp/spark-12d8417b-fb9d-41a0-90a9-cdcde6b07d6f/bin/python -c 'import io, os, sys, setuptools, tokenize; sys.argv[0] = '\"'\"'/mnt/tmp/pip-install-2vspuljz/sklearn_f662700c91224f1092f70fc652ec842a/setup.py'\"'\"'; __file__='\"'\"'/mnt/tmp/pip-install-2vspuljz/sklearn_f662700c91224f1092f70fc652ec842a/setup.py'\"'\"';f = getattr(tokenize, '\"'\"'open'\"'\"', open)(__file__) if os.path.exists(__file__) else io.StringIO('\"'\"'from setuptools import setup; setup()'\"'\"');code = f.read().replace('\"'\"'\\r\\n'\"'\"', '\"'\"'\\n'\"'\"');f.close();exec(compile(code, __file__, '\"'\"'exec'\"'\"'))' egg_info --egg-base /mnt/tmp/pip-pip-egg-info-92jy0u81\n",
      "       cwd: /mnt/tmp/pip-install-2vspuljz/sklearn_f662700c91224f1092f70fc652ec842a/\n",
      "  Complete output (18 lines):\n",
      "  The 'sklearn' PyPI package is deprecated, use 'scikit-learn'\n",
      "  rather than 'sklearn' for pip commands.\n",
      "  \n",
      "  Here is how to fix this error in the main use cases:\n",
      "  - use 'pip install scikit-learn' rather than 'pip install sklearn'\n",
      "  - replace 'sklearn' by 'scikit-learn' in your pip requirements files\n",
      "    (requirements.txt, setup.py, setup.cfg, Pipfile, etc ...)\n",
      "  - if the 'sklearn' package is used by one of your dependencies,\n",
      "    it would be great if you take some time to track which package uses\n",
      "    'sklearn' instead of 'scikit-learn' and report it to their issue tracker\n",
      "  - as a last resort, set the environment variable\n",
      "    SKLEARN_ALLOW_DEPRECATED_SKLEARN_PACKAGE_INSTALL=True to avoid this error\n",
      "  \n",
      "  More information is available at\n",
      "  https://github.com/scikit-learn/sklearn-pypi-package\n",
      "  \n",
      "  If the previous advice does not cover your use case, feel free to report it at\n",
      "  https://github.com/scikit-learn/sklearn-pypi-package/issues/new\n",
      "  ----------------------------------------\n",
      "WARNING: Discarding https://files.pythonhosted.org/packages/7a/93/e0e1b1e98f39dfca7ec9795cb46f6e09e88a2fd5d4a28e4b3d1f618a2aec/sklearn-0.0.post5.tar.gz#sha256=7377c714a03a79bbe9196f435db931fd2a6fa8c68514da7ed3a251fd08c52e2c (from https://pypi.org/simple/sklearn/). Command errored out with exit status 1: python setup.py egg_info Check the logs for full command output.\n",
      "  ERROR: Command errored out with exit status 1:\n",
      "   command: /mnt/yarn/usercache/livy/appcache/application_1731893522892_0002/container_1731893522892_0002_01_000001/tmp/spark-12d8417b-fb9d-41a0-90a9-cdcde6b07d6f/bin/python -c 'import io, os, sys, setuptools, tokenize; sys.argv[0] = '\"'\"'/mnt/tmp/pip-install-2vspuljz/sklearn_5963768b3f8d4931b62bc3cc2510d15e/setup.py'\"'\"'; __file__='\"'\"'/mnt/tmp/pip-install-2vspuljz/sklearn_5963768b3f8d4931b62bc3cc2510d15e/setup.py'\"'\"';f = getattr(tokenize, '\"'\"'open'\"'\"', open)(__file__) if os.path.exists(__file__) else io.StringIO('\"'\"'from setuptools import setup; setup()'\"'\"');code = f.read().replace('\"'\"'\\r\\n'\"'\"', '\"'\"'\\n'\"'\"');f.close();exec(compile(code, __file__, '\"'\"'exec'\"'\"'))' egg_info --egg-base /mnt/tmp/pip-pip-egg-info-5f7bi8ee\n",
      "       cwd: /mnt/tmp/pip-install-2vspuljz/sklearn_5963768b3f8d4931b62bc3cc2510d15e/\n",
      "  Complete output (18 lines):\n",
      "  The 'sklearn' PyPI package is deprecated, use 'scikit-learn'\n",
      "  rather than 'sklearn' for pip commands.\n",
      "  \n",
      "  Here is how to fix this error in the main use cases:\n",
      "  - use 'pip install scikit-learn' rather than 'pip install sklearn'\n",
      "  - replace 'sklearn' by 'scikit-learn' in your pip requirements files\n",
      "    (requirements.txt, setup.py, setup.cfg, Pipfile, etc ...)\n",
      "  - if the 'sklearn' package is used by one of your dependencies,\n",
      "    it would be great if you take some time to track which package uses\n",
      "    'sklearn' instead of 'scikit-learn' and report it to their issue tracker\n",
      "  - as a last resort, set the environment variable\n",
      "    SKLEARN_ALLOW_DEPRECATED_SKLEARN_PACKAGE_INSTALL=True to avoid this error\n",
      "  \n",
      "  More information is available at\n",
      "  https://github.com/scikit-learn/sklearn-pypi-package\n",
      "  \n",
      "  If the previous advice does not cover your use case, feel free to report it at\n",
      "  https://github.com/scikit-learn/sklearn-pypi-package/issues/new\n",
      "  ----------------------------------------\n",
      "WARNING: Discarding https://files.pythonhosted.org/packages/99/b2/165110013aa66fae6fc13918ad0e9de4801e5f1691d371bf8b63328037e6/sklearn-0.0.post4.tar.gz#sha256=0e81ec9c32d4bb418e7be8f1ec1027d174975502dc84cbc4f4564b4cba31e674 (from https://pypi.org/simple/sklearn/). Command errored out with exit status 1: python setup.py egg_info Check the logs for full command output.\n",
      "  ERROR: Command errored out with exit status 1:\n",
      "   command: /mnt/yarn/usercache/livy/appcache/application_1731893522892_0002/container_1731893522892_0002_01_000001/tmp/spark-12d8417b-fb9d-41a0-90a9-cdcde6b07d6f/bin/python -c 'import io, os, sys, setuptools, tokenize; sys.argv[0] = '\"'\"'/mnt/tmp/pip-install-2vspuljz/sklearn_12595073761a4e55b79a994882099fdf/setup.py'\"'\"'; __file__='\"'\"'/mnt/tmp/pip-install-2vspuljz/sklearn_12595073761a4e55b79a994882099fdf/setup.py'\"'\"';f = getattr(tokenize, '\"'\"'open'\"'\"', open)(__file__) if os.path.exists(__file__) else io.StringIO('\"'\"'from setuptools import setup; setup()'\"'\"');code = f.read().replace('\"'\"'\\r\\n'\"'\"', '\"'\"'\\n'\"'\"');f.close();exec(compile(code, __file__, '\"'\"'exec'\"'\"'))' egg_info --egg-base /mnt/tmp/pip-pip-egg-info-1c_iqha8\n",
      "       cwd: /mnt/tmp/pip-install-2vspuljz/sklearn_12595073761a4e55b79a994882099fdf/\n",
      "  Complete output (18 lines):\n",
      "  The 'sklearn' PyPI package is deprecated, use 'scikit-learn'\n",
      "  rather than 'sklearn' for pip commands.\n",
      "  \n",
      "  Here is how to fix this error in the main use cases:\n",
      "  - use 'pip install scikit-learn' rather than 'pip install sklearn'\n",
      "  - replace 'sklearn' by 'scikit-learn' in your pip requirements files\n",
      "    (requirements.txt, setup.py, setup.cfg, Pipfile, etc ...)\n",
      "  - if the 'sklearn' package is used by one of your dependencies,\n",
      "    it would be great if you take some time to track which package uses\n",
      "    'sklearn' instead of 'scikit-learn' and report it to their issue tracker\n",
      "  - as a last resort, set the environment variable\n",
      "    SKLEARN_ALLOW_DEPRECATED_SKLEARN_PACKAGE_INSTALL=True to avoid this error\n",
      "  \n",
      "  More information is available at\n",
      "  https://github.com/scikit-learn/sklearn-pypi-package\n",
      "  \n",
      "  If the previous advice does not cover your use case, feel free to report it at\n",
      "  https://github.com/scikit-learn/sklearn-pypi-package/issues/new\n",
      "  ----------------------------------------\n",
      "WARNING: Discarding https://files.pythonhosted.org/packages/db/1e/af4e9cded5093a92e60d4ae7149a02c7427661b2db66c8ea4d34b17864a2/sklearn-0.0.post1.tar.gz#sha256=76b9ed1623775168657b86b5fe966d45752e5c87f528de6240c38923b94147c5 (from https://pypi.org/simple/sklearn/). Command errored out with exit status 1: python setup.py egg_info Check the logs for full command output."
     ]
    }
   ],
   "source": [
    "# Installing\n",
    "sc.install_pypi_package(\"s3fs\")\n",
    "sc.install_pypi_package(\"fsspec\")\n",
    "sc.install_pypi_package(\"pandas\")\n",
    "sc.install_pypi_package(\"numpy\")\n",
    "sc.install_pypi_package(\"sklearn\")"
   ]
  },
  {
   "cell_type": "code",
   "execution_count": 3,
   "id": "f8b539d5-18d8-4eeb-a1d0-2243b7997828",
   "metadata": {
    "execution": {
     "iopub.execute_input": "2024-11-18T03:32:34.759042Z",
     "iopub.status.busy": "2024-11-18T03:32:34.758857Z",
     "iopub.status.idle": "2024-11-18T03:32:35.536738Z",
     "shell.execute_reply": "2024-11-18T03:32:35.535654Z",
     "shell.execute_reply.started": "2024-11-18T03:32:34.759016Z"
    },
    "tags": []
   },
   "outputs": [
    {
     "data": {
      "application/vnd.jupyter.widget-view+json": {
       "model_id": "b6b7fca9e7fa48e49e5f9675615a528e",
       "version_major": 2,
       "version_minor": 0
      },
      "text/plain": [
       "VBox()"
      ]
     },
     "metadata": {},
     "output_type": "display_data"
    },
    {
     "data": {
      "application/vnd.jupyter.widget-view+json": {
       "model_id": "",
       "version_major": 2,
       "version_minor": 0
      },
      "text/plain": [
       "FloatProgress(value=0.0, bar_style='info', description='Progress:', layout=Layout(height='25px', width='50%'),…"
      ]
     },
     "metadata": {},
     "output_type": "display_data"
    }
   ],
   "source": [
    "# Importing\n",
    "import s3fs\n",
    "import pandas as pd\n",
    "import numpy as np"
   ]
  },
  {
   "cell_type": "markdown",
   "id": "6a66976d-209c-4aca-9093-4696f75d94f6",
   "metadata": {},
   "source": [
    " <div style=\"text-align: center;\"> <span style=\"color:blue; font-weight:bold; font-size: 24px\"> Reading Ingested Dataset from S3 </span> </div>"
   ]
  },
  {
   "cell_type": "markdown",
   "id": "16ef0cc9-fbac-4c68-b486-824f6bd21e28",
   "metadata": {},
   "source": [
    "<span style=\"color:rgb(75,0,130); font-weight:bold; font-size: 16px\">Reading raw data</span>"
   ]
  },
  {
   "cell_type": "code",
   "execution_count": 4,
   "id": "43d6450c-14a4-4ee0-aad8-1cc314873f7b",
   "metadata": {
    "execution": {
     "iopub.execute_input": "2024-11-18T03:32:35.538386Z",
     "iopub.status.busy": "2024-11-18T03:32:35.537991Z",
     "iopub.status.idle": "2024-11-18T03:32:54.888555Z",
     "shell.execute_reply": "2024-11-18T03:32:54.887832Z",
     "shell.execute_reply.started": "2024-11-18T03:32:35.538349Z"
    },
    "tags": []
   },
   "outputs": [
    {
     "data": {
      "application/vnd.jupyter.widget-view+json": {
       "model_id": "ec769cffdb334812a456ec046b96341c",
       "version_major": 2,
       "version_minor": 0
      },
      "text/plain": [
       "VBox()"
      ]
     },
     "metadata": {},
     "output_type": "display_data"
    },
    {
     "data": {
      "application/vnd.jupyter.widget-view+json": {
       "model_id": "",
       "version_major": 2,
       "version_minor": 0
      },
      "text/plain": [
       "FloatProgress(value=0.0, bar_style='info', description='Progress:', layout=Layout(height='25px', width='50%'),…"
      ]
     },
     "metadata": {},
     "output_type": "display_data"
    },
    {
     "name": "stdout",
     "output_type": "stream",
     "text": [
      "+--------+--------------------+--------------------+\n",
      "|polarity|               title|         description|\n",
      "+--------+--------------------+--------------------+\n",
      "|       1|Simply not a good...|I would have turn...|\n",
      "|       2|If you love Olive...|Sit down, buckle ...|\n",
      "|       2|Savages don't mak...|I liked this movi...|\n",
      "|       1|       Disappointing|\"After his hugely...|\n",
      "|       1|             Savages|Everyone(with the...|\n",
      "|       1|                 Meh|\"The movie's prem...|\n",
      "|       1|Worste movie of 2012|Terrible movie. I...|\n",
      "|       1|   Really really bad|Wow, what a horri...|\n",
      "|       2|          I liked it|Similarities to t...|\n",
      "|       1|               Gross|This movie was ju...|\n",
      "+--------+--------------------+--------------------+\n",
      "only showing top 10 rows"
     ]
    }
   ],
   "source": [
    "# Reading staged data from S3 as spark data frame\n",
    "\n",
    "s3_path  = \"s3://test-bucket-areena/test/combined/combined_train_test.csv\"\n",
    "\n",
    "sdf_combined = spark.read.csv(path=s3_path, header=True, inferSchema=True)\n",
    "\n",
    "sdf_combined.show(10)"
   ]
  },
  {
   "cell_type": "markdown",
   "id": "80ec0cd8-e086-4e44-b187-87f57f85d7d1",
   "metadata": {},
   "source": [
    "<div style=\"text-align: center;\"> <span style=\"color:blue; font-weight:bold; font-size: 24px\"> Exploratory Data Analysis (EDA) </span> </div>"
   ]
  },
  {
   "cell_type": "markdown",
   "id": "8f69e33c-2b13-42bb-a43e-d2fc6ff2e84d",
   "metadata": {},
   "source": [
    "<span style=\"color:rgb(75,0,130); font-weight:bold; font-size: 16px\">Installing and Importing libraries for Exploration</span>"
   ]
  },
  {
   "cell_type": "code",
   "execution_count": 5,
   "id": "0c674bc5-bc10-4c7f-a4dc-f4bf1b430d7a",
   "metadata": {
    "execution": {
     "iopub.execute_input": "2024-11-18T03:32:54.889769Z",
     "iopub.status.busy": "2024-11-18T03:32:54.889506Z",
     "iopub.status.idle": "2024-11-18T03:33:16.273955Z",
     "shell.execute_reply": "2024-11-18T03:33:16.273329Z",
     "shell.execute_reply.started": "2024-11-18T03:32:54.889732Z"
    },
    "tags": []
   },
   "outputs": [
    {
     "data": {
      "application/vnd.jupyter.widget-view+json": {
       "model_id": "33d0d32045db40a6b6e32276ce09b41b",
       "version_major": 2,
       "version_minor": 0
      },
      "text/plain": [
       "VBox()"
      ]
     },
     "metadata": {},
     "output_type": "display_data"
    },
    {
     "data": {
      "application/vnd.jupyter.widget-view+json": {
       "model_id": "",
       "version_major": 2,
       "version_minor": 0
      },
      "text/plain": [
       "FloatProgress(value=0.0, bar_style='info', description='Progress:', layout=Layout(height='25px', width='50%'),…"
      ]
     },
     "metadata": {},
     "output_type": "display_data"
    },
    {
     "name": "stdout",
     "output_type": "stream",
     "text": [
      "Collecting matplotlib\n",
      "  Downloading matplotlib-3.9.2-cp39-cp39-manylinux_2_17_x86_64.manylinux2014_x86_64.whl (8.3 MB)\n",
      "Collecting contourpy>=1.0.1\n",
      "  Downloading contourpy-1.3.0-cp39-cp39-manylinux_2_17_x86_64.manylinux2014_x86_64.whl (321 kB)\n",
      "Collecting pyparsing>=2.3.1\n",
      "  Downloading pyparsing-3.2.0-py3-none-any.whl (106 kB)\n",
      "Collecting fonttools>=4.22.0\n",
      "  Downloading fonttools-4.55.0-cp39-cp39-manylinux_2_17_x86_64.manylinux2014_x86_64.whl (4.6 MB)\n",
      "Collecting importlib-resources>=3.2.0\n",
      "  Downloading importlib_resources-6.4.5-py3-none-any.whl (36 kB)\n",
      "Collecting pillow>=8\n",
      "  Downloading pillow-11.0.0-cp39-cp39-manylinux_2_28_x86_64.whl (4.4 MB)\n",
      "Requirement already satisfied: python-dateutil>=2.7 in ./tmp/spark-12d8417b-fb9d-41a0-90a9-cdcde6b07d6f/lib/python3.9/site-packages (from matplotlib) (2.9.0.post0)\n",
      "Collecting cycler>=0.10\n",
      "  Downloading cycler-0.12.1-py3-none-any.whl (8.3 kB)\n",
      "Collecting kiwisolver>=1.3.1\n",
      "  Downloading kiwisolver-1.4.7-cp39-cp39-manylinux_2_12_x86_64.manylinux2010_x86_64.whl (1.6 MB)\n",
      "Collecting packaging>=20.0\n",
      "  Downloading packaging-24.2-py3-none-any.whl (65 kB)\n",
      "Requirement already satisfied: numpy>=1.23 in ./tmp/spark-12d8417b-fb9d-41a0-90a9-cdcde6b07d6f/lib64/python3.9/site-packages (from matplotlib) (2.0.2)\n",
      "Collecting zipp>=3.1.0\n",
      "  Downloading zipp-3.21.0-py3-none-any.whl (9.6 kB)\n",
      "Requirement already satisfied: six>=1.5 in /usr/local/lib/python3.9/site-packages (from python-dateutil>=2.7->matplotlib) (1.13.0)\n",
      "Installing collected packages: zipp, pyparsing, pillow, packaging, kiwisolver, importlib-resources, fonttools, cycler, contourpy, matplotlib\n",
      "Successfully installed contourpy-1.3.0 cycler-0.12.1 fonttools-4.55.0 importlib-resources-6.4.5 kiwisolver-1.4.7 matplotlib-3.9.2 packaging-24.2 pillow-11.0.0 pyparsing-3.2.0 zipp-3.21.0\n",
      "\n",
      "Collecting seaborn\n",
      "  Downloading seaborn-0.13.2-py3-none-any.whl (294 kB)\n",
      "Requirement already satisfied: numpy!=1.24.0,>=1.20 in ./tmp/spark-12d8417b-fb9d-41a0-90a9-cdcde6b07d6f/lib64/python3.9/site-packages (from seaborn) (2.0.2)\n",
      "Requirement already satisfied: pandas>=1.2 in ./tmp/spark-12d8417b-fb9d-41a0-90a9-cdcde6b07d6f/lib64/python3.9/site-packages (from seaborn) (2.2.3)\n",
      "Requirement already satisfied: matplotlib!=3.6.1,>=3.4 in ./tmp/spark-12d8417b-fb9d-41a0-90a9-cdcde6b07d6f/lib64/python3.9/site-packages (from seaborn) (3.9.2)\n",
      "Requirement already satisfied: cycler>=0.10 in ./tmp/spark-12d8417b-fb9d-41a0-90a9-cdcde6b07d6f/lib/python3.9/site-packages (from matplotlib!=3.6.1,>=3.4->seaborn) (0.12.1)\n",
      "Requirement already satisfied: pillow>=8 in ./tmp/spark-12d8417b-fb9d-41a0-90a9-cdcde6b07d6f/lib64/python3.9/site-packages (from matplotlib!=3.6.1,>=3.4->seaborn) (11.0.0)\n",
      "Requirement already satisfied: pyparsing>=2.3.1 in ./tmp/spark-12d8417b-fb9d-41a0-90a9-cdcde6b07d6f/lib/python3.9/site-packages (from matplotlib!=3.6.1,>=3.4->seaborn) (3.2.0)\n",
      "Requirement already satisfied: importlib-resources>=3.2.0 in ./tmp/spark-12d8417b-fb9d-41a0-90a9-cdcde6b07d6f/lib/python3.9/site-packages (from matplotlib!=3.6.1,>=3.4->seaborn) (6.4.5)\n",
      "Requirement already satisfied: contourpy>=1.0.1 in ./tmp/spark-12d8417b-fb9d-41a0-90a9-cdcde6b07d6f/lib64/python3.9/site-packages (from matplotlib!=3.6.1,>=3.4->seaborn) (1.3.0)\n",
      "Requirement already satisfied: python-dateutil>=2.7 in ./tmp/spark-12d8417b-fb9d-41a0-90a9-cdcde6b07d6f/lib/python3.9/site-packages (from matplotlib!=3.6.1,>=3.4->seaborn) (2.9.0.post0)\n",
      "Requirement already satisfied: fonttools>=4.22.0 in ./tmp/spark-12d8417b-fb9d-41a0-90a9-cdcde6b07d6f/lib64/python3.9/site-packages (from matplotlib!=3.6.1,>=3.4->seaborn) (4.55.0)\n",
      "Requirement already satisfied: packaging>=20.0 in ./tmp/spark-12d8417b-fb9d-41a0-90a9-cdcde6b07d6f/lib/python3.9/site-packages (from matplotlib!=3.6.1,>=3.4->seaborn) (24.2)\n",
      "Requirement already satisfied: kiwisolver>=1.3.1 in ./tmp/spark-12d8417b-fb9d-41a0-90a9-cdcde6b07d6f/lib64/python3.9/site-packages (from matplotlib!=3.6.1,>=3.4->seaborn) (1.4.7)\n",
      "Requirement already satisfied: pytz>=2020.1 in /usr/local/lib/python3.9/site-packages (from pandas>=1.2->seaborn) (2024.1)\n",
      "Requirement already satisfied: tzdata>=2022.7 in ./tmp/spark-12d8417b-fb9d-41a0-90a9-cdcde6b07d6f/lib/python3.9/site-packages (from pandas>=1.2->seaborn) (2024.2)\n",
      "Requirement already satisfied: zipp>=3.1.0 in ./tmp/spark-12d8417b-fb9d-41a0-90a9-cdcde6b07d6f/lib/python3.9/site-packages (from importlib-resources>=3.2.0->matplotlib!=3.6.1,>=3.4->seaborn) (3.21.0)\n",
      "Requirement already satisfied: six>=1.5 in /usr/local/lib/python3.9/site-packages (from python-dateutil>=2.7->matplotlib!=3.6.1,>=3.4->seaborn) (1.13.0)\n",
      "Installing collected packages: seaborn\n",
      "Successfully installed seaborn-0.13.2\n",
      "\n",
      "WARNING: The directory '/home/.cache/pip' or its parent directory is not owned or is not writable by the current user. The cache has been disabled. Check the permissions and owner of that directory. If executing pip with sudo, you should use sudo's -H flag.\n",
      "\n",
      "WARNING: The directory '/home/.cache/pip' or its parent directory is not owned or is not writable by the current user. The cache has been disabled. Check the permissions and owner of that directory. If executing pip with sudo, you should use sudo's -H flag."
     ]
    }
   ],
   "source": [
    "# Installing\n",
    "sc.install_pypi_package(\"matplotlib\")\n",
    "sc.install_pypi_package(\"seaborn\")"
   ]
  },
  {
   "cell_type": "code",
   "execution_count": 6,
   "id": "f214f2fc-3a16-4ebc-95d1-ca6d873b0691",
   "metadata": {
    "execution": {
     "iopub.execute_input": "2024-11-18T03:33:16.276283Z",
     "iopub.status.busy": "2024-11-18T03:33:16.275795Z",
     "iopub.status.idle": "2024-11-18T03:33:16.335405Z",
     "shell.execute_reply": "2024-11-18T03:33:16.334055Z",
     "shell.execute_reply.started": "2024-11-18T03:33:16.276243Z"
    },
    "tags": []
   },
   "outputs": [
    {
     "data": {
      "application/vnd.jupyter.widget-view+json": {
       "model_id": "ea5bb96113724ab09dc64f4600374e35",
       "version_major": 2,
       "version_minor": 0
      },
      "text/plain": [
       "VBox()"
      ]
     },
     "metadata": {},
     "output_type": "display_data"
    },
    {
     "data": {
      "application/vnd.jupyter.widget-view+json": {
       "model_id": "",
       "version_major": 2,
       "version_minor": 0
      },
      "text/plain": [
       "FloatProgress(value=0.0, bar_style='info', description='Progress:', layout=Layout(height='25px', width='50%'),…"
      ]
     },
     "metadata": {},
     "output_type": "display_data"
    }
   ],
   "source": [
    "# Importing\n",
    "from pyspark.sql.functions import *\n",
    "from pyspark.sql.types import StringType,IntegerType\n",
    "from pyspark.sql import functions as F"
   ]
  },
  {
   "cell_type": "markdown",
   "id": "1caddf78-e9ef-410e-83a1-6b054e83ed1e",
   "metadata": {},
   "source": [
    "<span style=\"color:rgb(75,0,130); font-weight:bold; font-size: 16px\">Schema Display</span>"
   ]
  },
  {
   "cell_type": "code",
   "execution_count": 7,
   "id": "589d4b63-405d-49f1-a8a6-5c98874cc384",
   "metadata": {
    "execution": {
     "iopub.execute_input": "2024-11-18T03:33:16.336610Z",
     "iopub.status.busy": "2024-11-18T03:33:16.336389Z",
     "iopub.status.idle": "2024-11-18T03:33:16.422917Z",
     "shell.execute_reply": "2024-11-18T03:33:16.417452Z",
     "shell.execute_reply.started": "2024-11-18T03:33:16.336575Z"
    },
    "tags": []
   },
   "outputs": [
    {
     "data": {
      "application/vnd.jupyter.widget-view+json": {
       "model_id": "e6dfccf0ea27431a8e4e90fa022d1bd8",
       "version_major": 2,
       "version_minor": 0
      },
      "text/plain": [
       "VBox()"
      ]
     },
     "metadata": {},
     "output_type": "display_data"
    },
    {
     "data": {
      "application/vnd.jupyter.widget-view+json": {
       "model_id": "",
       "version_major": 2,
       "version_minor": 0
      },
      "text/plain": [
       "FloatProgress(value=0.0, bar_style='info', description='Progress:', layout=Layout(height='25px', width='50%'),…"
      ]
     },
     "metadata": {},
     "output_type": "display_data"
    },
    {
     "name": "stdout",
     "output_type": "stream",
     "text": [
      "root\n",
      " |-- polarity: integer (nullable = true)\n",
      " |-- title: string (nullable = true)\n",
      " |-- description: string (nullable = true)\n",
      "\n",
      "None"
     ]
    }
   ],
   "source": [
    "# Exploring the schema and data types of each column in the new combined dataset\n",
    "\n",
    "print(sdf_combined.printSchema())"
   ]
  },
  {
   "cell_type": "markdown",
   "id": "1e43fb7e-73be-4e29-b6fd-f13280ba1d34",
   "metadata": {},
   "source": [
    "<span style=\"color:rgb(75,0,130); font-weight:bold; font-size: 16px\">Null Values Count</span>"
   ]
  },
  {
   "cell_type": "code",
   "execution_count": 8,
   "id": "7c68a75b-e342-4cc1-aed1-12d64d18520d",
   "metadata": {
    "execution": {
     "iopub.execute_input": "2024-11-18T03:33:16.425899Z",
     "iopub.status.busy": "2024-11-18T03:33:16.425609Z",
     "iopub.status.idle": "2024-11-18T03:33:16.551124Z",
     "shell.execute_reply": "2024-11-18T03:33:16.550551Z",
     "shell.execute_reply.started": "2024-11-18T03:33:16.425861Z"
    },
    "tags": []
   },
   "outputs": [
    {
     "data": {
      "application/vnd.jupyter.widget-view+json": {
       "model_id": "20fb25a348e941b8945104faccc0f1ba",
       "version_major": 2,
       "version_minor": 0
      },
      "text/plain": [
       "VBox()"
      ]
     },
     "metadata": {},
     "output_type": "display_data"
    },
    {
     "data": {
      "application/vnd.jupyter.widget-view+json": {
       "model_id": "",
       "version_major": 2,
       "version_minor": 0
      },
      "text/plain": [
       "FloatProgress(value=0.0, bar_style='info', description='Progress:', layout=Layout(height='25px', width='50%'),…"
      ]
     },
     "metadata": {},
     "output_type": "display_data"
    }
   ],
   "source": [
    "def null_value_calc(df):\n",
    "    null_columns_counts = []\n",
    "    numRows = df.count()\n",
    "    for k in df.columns:\n",
    "        nullRows = df.where(col(k).isNull()).count()\n",
    "        if(nullRows > 0):\n",
    "            temp = k,nullRows,(nullRows/numRows)*100\n",
    "            null_columns_counts.append(temp)\n",
    "    return(null_columns_counts)"
   ]
  },
  {
   "cell_type": "code",
   "execution_count": 9,
   "id": "a0ad80af-d2bd-4b7e-ad28-14cad5529821",
   "metadata": {
    "execution": {
     "iopub.execute_input": "2024-11-18T03:33:16.552927Z",
     "iopub.status.busy": "2024-11-18T03:33:16.552450Z",
     "iopub.status.idle": "2024-11-18T03:33:35.928481Z",
     "shell.execute_reply": "2024-11-18T03:33:35.927411Z",
     "shell.execute_reply.started": "2024-11-18T03:33:16.552888Z"
    },
    "tags": []
   },
   "outputs": [
    {
     "data": {
      "application/vnd.jupyter.widget-view+json": {
       "model_id": "44b283eb09fd4c53b9e02644b17deabe",
       "version_major": 2,
       "version_minor": 0
      },
      "text/plain": [
       "VBox()"
      ]
     },
     "metadata": {},
     "output_type": "display_data"
    },
    {
     "data": {
      "application/vnd.jupyter.widget-view+json": {
       "model_id": "",
       "version_major": 2,
       "version_minor": 0
      },
      "text/plain": [
       "FloatProgress(value=0.0, bar_style='info', description='Progress:', layout=Layout(height='25px', width='50%'),…"
      ]
     },
     "metadata": {},
     "output_type": "display_data"
    },
    {
     "name": "stdout",
     "output_type": "stream",
     "text": [
      "+-----------+-----------------+--------------------+\n",
      "|Column_Name|Null_Values_Count|  Null_Value_Percent|\n",
      "+-----------+-----------------+--------------------+\n",
      "|      title|               26|0.002168808364927032|\n",
      "|description|               31|0.002585886896643769|\n",
      "+-----------+-----------------+--------------------+"
     ]
    }
   ],
   "source": [
    "null_columns = null_value_calc(sdf_combined)\n",
    "spark.createDataFrame(null_columns, ['Column_Name', 'Null_Values_Count','Null_Value_Percent']).show()"
   ]
  },
  {
   "cell_type": "markdown",
   "id": "003ba7af-2d98-459c-a526-90abdb8572a8",
   "metadata": {},
   "source": [
    "<span style=\"color:green; font-weight: bold; font-size: 13px\">Some Null Values present, that are required to be eliminated. </span>"
   ]
  },
  {
   "cell_type": "markdown",
   "id": "ce57cb72-7192-4489-855a-0ae23568c570",
   "metadata": {},
   "source": [
    "<span style=\"color:rgb(75,0,130); font-weight:bold; font-size: 16px\">Checking for Class Imbalance</span>"
   ]
  },
  {
   "cell_type": "code",
   "execution_count": 10,
   "id": "d56a6d4e-2b99-4b24-b6a7-75f89a9fd103",
   "metadata": {
    "execution": {
     "iopub.execute_input": "2024-11-18T03:33:35.935186Z",
     "iopub.status.busy": "2024-11-18T03:33:35.933144Z",
     "iopub.status.idle": "2024-11-18T03:33:41.267111Z",
     "shell.execute_reply": "2024-11-18T03:33:41.266226Z",
     "shell.execute_reply.started": "2024-11-18T03:33:35.935146Z"
    },
    "tags": []
   },
   "outputs": [
    {
     "data": {
      "application/vnd.jupyter.widget-view+json": {
       "model_id": "8a9c7fe05ec1477cafd03b5a835d5a45",
       "version_major": 2,
       "version_minor": 0
      },
      "text/plain": [
       "VBox()"
      ]
     },
     "metadata": {},
     "output_type": "display_data"
    },
    {
     "data": {
      "application/vnd.jupyter.widget-view+json": {
       "model_id": "",
       "version_major": 2,
       "version_minor": 0
      },
      "text/plain": [
       "FloatProgress(value=0.0, bar_style='info', description='Progress:', layout=Layout(height='25px', width='50%'),…"
      ]
     },
     "metadata": {},
     "output_type": "display_data"
    },
    {
     "name": "stdout",
     "output_type": "stream",
     "text": [
      "+--------+------+\n",
      "|polarity| count|\n",
      "+--------+------+\n",
      "|       1|599421|\n",
      "|       2|599394|\n",
      "+--------+------+"
     ]
    }
   ],
   "source": [
    "# Checking class imbalance for dataset\n",
    "polarity_count = sdf_combined.groupBy(\"polarity\").count()\n",
    "polarity_count.show()"
   ]
  },
  {
   "cell_type": "markdown",
   "id": "91d6194d-6854-45a6-bbef-9efb9f7435fb",
   "metadata": {},
   "source": [
    "<span style=\"color:rgb(75,0,130); font-weight:bold; font-size: 16px\">Bar Plot for Class Distribution</span>"
   ]
  },
  {
   "cell_type": "code",
   "execution_count": 11,
   "id": "d7fc91cb-dec2-435b-b867-28003808e56e",
   "metadata": {
    "execution": {
     "iopub.execute_input": "2024-11-18T03:33:41.270750Z",
     "iopub.status.busy": "2024-11-18T03:33:41.270283Z",
     "iopub.status.idle": "2024-11-18T03:33:56.654677Z",
     "shell.execute_reply": "2024-11-18T03:33:56.653871Z",
     "shell.execute_reply.started": "2024-11-18T03:33:41.270711Z"
    },
    "tags": []
   },
   "outputs": [
    {
     "data": {
      "application/vnd.jupyter.widget-view+json": {
       "model_id": "3c7c9f927285419a9d366ad2312ad254",
       "version_major": 2,
       "version_minor": 0
      },
      "text/plain": [
       "VBox()"
      ]
     },
     "metadata": {},
     "output_type": "display_data"
    },
    {
     "data": {
      "application/vnd.jupyter.widget-view+json": {
       "model_id": "",
       "version_major": 2,
       "version_minor": 0
      },
      "text/plain": [
       "FloatProgress(value=0.0, bar_style='info', description='Progress:', layout=Layout(height='25px', width='50%'),…"
      ]
     },
     "metadata": {},
     "output_type": "display_data"
    }
   ],
   "source": [
    "# Reading staged data as pandas dataframe for visualization\n",
    "df_combined = pd.read_csv(s3_path)\n",
    "polarity_count= df_combined['polarity'].value_counts()"
   ]
  },
  {
   "cell_type": "code",
   "execution_count": 12,
   "id": "7bde5dee-7da5-4f20-9183-5b6b48bbde0a",
   "metadata": {
    "execution": {
     "iopub.execute_input": "2024-11-18T03:33:56.661653Z",
     "iopub.status.busy": "2024-11-18T03:33:56.659488Z",
     "iopub.status.idle": "2024-11-18T03:33:57.932311Z",
     "shell.execute_reply": "2024-11-18T03:33:57.931405Z",
     "shell.execute_reply.started": "2024-11-18T03:33:56.661623Z"
    },
    "tags": []
   },
   "outputs": [
    {
     "data": {
      "application/vnd.jupyter.widget-view+json": {
       "model_id": "b75b8f8ccf904629b65ce86cde380469",
       "version_major": 2,
       "version_minor": 0
      },
      "text/plain": [
       "VBox()"
      ]
     },
     "metadata": {},
     "output_type": "display_data"
    },
    {
     "data": {
      "application/vnd.jupyter.widget-view+json": {
       "model_id": "",
       "version_major": 2,
       "version_minor": 0
      },
      "text/plain": [
       "FloatProgress(value=0.0, bar_style='info', description='Progress:', layout=Layout(height='25px', width='50%'),…"
      ]
     },
     "metadata": {},
     "output_type": "display_data"
    }
   ],
   "source": [
    "import matplotlib.pyplot as plt\n",
    "\n",
    "fig, ax = plt.subplots()\n",
    "bars = ax.bar(polarity_count.index, polarity_count.values, color=['blue', 'orange'])\n",
    "\n",
    "# Add counts on top of each bar\n",
    "for index, bar in enumerate(bars):\n",
    "    height = bar.get_height()\n",
    "    ax.text(bar.get_x() + bar.get_width() / 2, height, str(height), \n",
    "            ha='center', va='bottom', fontsize=10)\n",
    "\n",
    "# Add labels and title\n",
    "ax.set_xlabel('Polarity')\n",
    "ax.set_ylabel('Frequency')\n",
    "ax.set_title('Polarity Distribution in Amazon Reviews')\n",
    "\n",
    "# Show the plot\n",
    "plt.show()"
   ]
  },
  {
   "cell_type": "code",
   "execution_count": 13,
   "id": "01ebf5a5-d171-4f84-af29-0bef194fca08",
   "metadata": {
    "execution": {
     "iopub.execute_input": "2024-11-18T03:33:57.934136Z",
     "iopub.status.busy": "2024-11-18T03:33:57.933638Z",
     "iopub.status.idle": "2024-11-18T03:33:58.177498Z",
     "shell.execute_reply": "2024-11-18T03:33:58.176350Z",
     "shell.execute_reply.started": "2024-11-18T03:33:57.934096Z"
    },
    "tags": []
   },
   "outputs": [
    {
     "data": {
      "application/vnd.jupyter.widget-view+json": {
       "model_id": "",
       "version_major": 2,
       "version_minor": 0
      },
      "text/plain": [
       "FloatProgress(value=0.0, bar_style='info', description='Progress:', layout=Layout(height='25px', width='50%'),…"
      ]
     },
     "metadata": {},
     "output_type": "display_data"
    },
    {
     "data": {
      "image/png": "[encoded data removed]",
      "text/plain": [
       "<IPython.core.display.Image object>"
      ]
     },
     "metadata": {},
     "output_type": "display_data"
    }
   ],
   "source": [
    "%matplot plt"
   ]
  },
  {
   "cell_type": "markdown",
   "id": "bf12ec7d-3f34-420c-8983-0a73c00d5b2b",
   "metadata": {},
   "source": [
    "<span style=\"color:green; font-weight: bold; font-size: 13px\">The polarity counts are almost the same, hence it can be said that there is no class imbalance.</span>"
   ]
  },
  {
   "cell_type": "markdown",
   "id": "d96ad6e9-bcb1-4fa2-aa93-add7f3ffe8fc",
   "metadata": {},
   "source": [
    "<div style=\"text-align: center;\"> <span style=\"color:blue; font-weight:bold; font-size: 24px\"> Data Preprocessing / Cleaning </span> </div>"
   ]
  },
  {
   "cell_type": "markdown",
   "id": "1f39bd1d-6113-4001-9533-c3f9f1df1f25",
   "metadata": {},
   "source": [
    "<span style=\"color:rgb(75,0,130); font-weight:bold; font-size: 16px\">Removing Null Values from the Data</span>"
   ]
  },
  {
   "cell_type": "code",
   "execution_count": 14,
   "id": "9d553a78-13fc-4b09-983e-eaf86f032481",
   "metadata": {
    "execution": {
     "iopub.execute_input": "2024-11-18T03:33:58.178938Z",
     "iopub.status.busy": "2024-11-18T03:33:58.178599Z",
     "iopub.status.idle": "2024-11-18T03:34:05.480850Z",
     "shell.execute_reply": "2024-11-18T03:34:05.479744Z",
     "shell.execute_reply.started": "2024-11-18T03:33:58.178911Z"
    },
    "tags": []
   },
   "outputs": [
    {
     "data": {
      "application/vnd.jupyter.widget-view+json": {
       "model_id": "1b90885eaa2e444288d43a2193f6d694",
       "version_major": 2,
       "version_minor": 0
      },
      "text/plain": [
       "VBox()"
      ]
     },
     "metadata": {},
     "output_type": "display_data"
    },
    {
     "data": {
      "application/vnd.jupyter.widget-view+json": {
       "model_id": "",
       "version_major": 2,
       "version_minor": 0
      },
      "text/plain": [
       "FloatProgress(value=0.0, bar_style='info', description='Progress:', layout=Layout(height='25px', width='50%'),…"
      ]
     },
     "metadata": {},
     "output_type": "display_data"
    },
    {
     "name": "stdout",
     "output_type": "stream",
     "text": [
      "+--------+-----+-----------+\n",
      "|polarity|title|description|\n",
      "+--------+-----+-----------+\n",
      "|       0|    0|          0|\n",
      "+--------+-----+-----------+"
     ]
    }
   ],
   "source": [
    "# Removing rows with null values from new combined dataset\n",
    "new_sdf_combined = sdf_combined.na.drop()\n",
    "\n",
    "null_counts = new_sdf_combined.select([sum(col(c).isNull().cast(\"int\")).alias(c) for c in new_sdf_combined.columns])\n",
    "\n",
    "null_counts.show()"
   ]
  },
  {
   "cell_type": "markdown",
   "id": "a7f25486-6980-4a21-a4b7-7256a97a2fb5",
   "metadata": {},
   "source": [
    "<span style=\"color:green; font-weight: bold; font-size: 13px\">All the null values have been dropped from the dataframe.</span>"
   ]
  },
  {
   "cell_type": "code",
   "execution_count": 15,
   "id": "a1b2b3e1-c78e-440c-be38-2e9d3e229209",
   "metadata": {
    "execution": {
     "iopub.execute_input": "2024-11-18T03:34:05.482578Z",
     "iopub.status.busy": "2024-11-18T03:34:05.482325Z",
     "iopub.status.idle": "2024-11-18T03:34:06.235464Z",
     "shell.execute_reply": "2024-11-18T03:34:06.234531Z",
     "shell.execute_reply.started": "2024-11-18T03:34:05.482540Z"
    },
    "tags": []
   },
   "outputs": [
    {
     "data": {
      "application/vnd.jupyter.widget-view+json": {
       "model_id": "13198eb0abd441119a9460e9192201a7",
       "version_major": 2,
       "version_minor": 0
      },
      "text/plain": [
       "VBox()"
      ]
     },
     "metadata": {},
     "output_type": "display_data"
    },
    {
     "data": {
      "application/vnd.jupyter.widget-view+json": {
       "model_id": "",
       "version_major": 2,
       "version_minor": 0
      },
      "text/plain": [
       "FloatProgress(value=0.0, bar_style='info', description='Progress:', layout=Layout(height='25px', width='50%'),…"
      ]
     },
     "metadata": {},
     "output_type": "display_data"
    },
    {
     "name": "stdout",
     "output_type": "stream",
     "text": [
      "+---------+--------------------+--------------------+\n",
      "|sentiment|               title|         description|\n",
      "+---------+--------------------+--------------------+\n",
      "|        1|Simply not a good...|I would have turn...|\n",
      "|        2|If you love Olive...|Sit down, buckle ...|\n",
      "|        2|Savages don't mak...|I liked this movi...|\n",
      "|        1|       Disappointing|\"After his hugely...|\n",
      "|        1|             Savages|Everyone(with the...|\n",
      "+---------+--------------------+--------------------+\n",
      "only showing top 5 rows"
     ]
    }
   ],
   "source": [
    "renamed_sdf = new_sdf_combined.withColumnRenamed(\"polarity\", \"sentiment\")\n",
    "renamed_sdf.show(5)"
   ]
  },
  {
   "cell_type": "markdown",
   "id": "5fb07451-16da-462d-8073-d1f35b6a31f5",
   "metadata": {},
   "source": [
    "<span style=\"color:rgb(75,0,130); font-weight:bold; font-size: 16px\">Joining 'title' and 'description' columns</span>"
   ]
  },
  {
   "cell_type": "code",
   "execution_count": 16,
   "id": "776fee40-9436-4641-b887-fad83dd0b14f",
   "metadata": {
    "execution": {
     "iopub.execute_input": "2024-11-18T03:34:06.236778Z",
     "iopub.status.busy": "2024-11-18T03:34:06.236564Z",
     "iopub.status.idle": "2024-11-18T03:34:07.033692Z",
     "shell.execute_reply": "2024-11-18T03:34:07.032316Z",
     "shell.execute_reply.started": "2024-11-18T03:34:06.236741Z"
    },
    "tags": []
   },
   "outputs": [
    {
     "data": {
      "application/vnd.jupyter.widget-view+json": {
       "model_id": "fd50fc235d7646b4bd6367928caf635c",
       "version_major": 2,
       "version_minor": 0
      },
      "text/plain": [
       "VBox()"
      ]
     },
     "metadata": {},
     "output_type": "display_data"
    },
    {
     "data": {
      "application/vnd.jupyter.widget-view+json": {
       "model_id": "",
       "version_major": 2,
       "version_minor": 0
      },
      "text/plain": [
       "FloatProgress(value=0.0, bar_style='info', description='Progress:', layout=Layout(height='25px', width='50%'),…"
      ]
     },
     "metadata": {},
     "output_type": "display_data"
    },
    {
     "name": "stdout",
     "output_type": "stream",
     "text": [
      "+---------+--------------------+--------------------+--------------------+\n",
      "|sentiment|               title|         description|       combined_text|\n",
      "+---------+--------------------+--------------------+--------------------+\n",
      "|        1|Simply not a good...|I would have turn...|Simply not a good...|\n",
      "|        2|If you love Olive...|Sit down, buckle ...|If you love Olive...|\n",
      "|        2|Savages don't mak...|I liked this movi...|Savages don't mak...|\n",
      "|        1|       Disappointing|\"After his hugely...|Disappointing \"Af...|\n",
      "|        1|             Savages|Everyone(with the...|Savages Everyone(...|\n",
      "+---------+--------------------+--------------------+--------------------+\n",
      "only showing top 5 rows"
     ]
    }
   ],
   "source": [
    "combined_columns = renamed_sdf.withColumn(\"combined_text\", concat(col(\"title\"), lit(\" \"), col(\"description\")))\n",
    "\n",
    "combined_columns.show(5)"
   ]
  },
  {
   "cell_type": "markdown",
   "id": "af7bde4c-021b-4300-b188-6128940acceb",
   "metadata": {},
   "source": [
    "<span style=\"color:rgb(75,0,130); font-weight:bold; font-size: 16px\">Removing irrelevant symbols and characters</span>"
   ]
  },
  {
   "cell_type": "code",
   "execution_count": 17,
   "id": "cdecb7c5-afe7-4c1c-9b76-689a163b75b4",
   "metadata": {
    "execution": {
     "iopub.execute_input": "2024-11-18T03:34:07.035360Z",
     "iopub.status.busy": "2024-11-18T03:34:07.034899Z",
     "iopub.status.idle": "2024-11-18T03:34:07.795255Z",
     "shell.execute_reply": "2024-11-18T03:34:07.794412Z",
     "shell.execute_reply.started": "2024-11-18T03:34:07.035281Z"
    },
    "tags": []
   },
   "outputs": [
    {
     "data": {
      "application/vnd.jupyter.widget-view+json": {
       "model_id": "8c4304e60af0468c86ac81b715993b3d",
       "version_major": 2,
       "version_minor": 0
      },
      "text/plain": [
       "VBox()"
      ]
     },
     "metadata": {},
     "output_type": "display_data"
    },
    {
     "data": {
      "application/vnd.jupyter.widget-view+json": {
       "model_id": "",
       "version_major": 2,
       "version_minor": 0
      },
      "text/plain": [
       "FloatProgress(value=0.0, bar_style='info', description='Progress:', layout=Layout(height='25px', width='50%'),…"
      ]
     },
     "metadata": {},
     "output_type": "display_data"
    },
    {
     "name": "stdout",
     "output_type": "stream",
     "text": [
      "+---------+--------------------+--------------------+--------------------+\n",
      "|sentiment|               title|         description|       combined_text|\n",
      "+---------+--------------------+--------------------+--------------------+\n",
      "|        1|Simply not a good...|I would have turn...|Simply not a good...|\n",
      "|        2|If you love Olive...|Sit down, buckle ...|If you love Olive...|\n",
      "|        2|Savages don't mak...|I liked this movi...|Savages dont make...|\n",
      "|        1|       Disappointing|\"After his hugely...|Disappointing Aft...|\n",
      "|        1|             Savages|Everyone(with the...|Savages Everyonew...|\n",
      "+---------+--------------------+--------------------+--------------------+\n",
      "only showing top 5 rows"
     ]
    }
   ],
   "source": [
    "#Removing anything that is not a letter\n",
    "regex_sdf = combined_columns.withColumn(\"combined_text\",regexp_replace(combined_columns[\"combined_text\"], '[^A-Za-z ]+', ''))\n",
    "\n",
    "# Remove white spaces\n",
    "regex_sdf = regex_sdf.withColumn(\"combined_text\",regexp_replace(regex_sdf[\"combined_text\"], ' +', ' '))\n",
    "\n",
    "regex_sdf.show(5)"
   ]
  },
  {
   "cell_type": "markdown",
   "id": "39380766-3ef2-4bca-b3ea-d23e05497cca",
   "metadata": {},
   "source": [
    "<span style=\"color:rgb(75,0,130); font-weight:bold; font-size: 16px\">Converting all characters to lowercase</span>"
   ]
  },
  {
   "cell_type": "code",
   "execution_count": 18,
   "id": "2a26a74d-a56f-485d-be20-651600c30af2",
   "metadata": {
    "execution": {
     "iopub.execute_input": "2024-11-18T03:34:07.796497Z",
     "iopub.status.busy": "2024-11-18T03:34:07.796261Z",
     "iopub.status.idle": "2024-11-18T03:34:08.609280Z",
     "shell.execute_reply": "2024-11-18T03:34:08.608400Z",
     "shell.execute_reply.started": "2024-11-18T03:34:07.796459Z"
    },
    "tags": []
   },
   "outputs": [
    {
     "data": {
      "application/vnd.jupyter.widget-view+json": {
       "model_id": "c75e9269c72443b29dee804c2b0ef9f9",
       "version_major": 2,
       "version_minor": 0
      },
      "text/plain": [
       "VBox()"
      ]
     },
     "metadata": {},
     "output_type": "display_data"
    },
    {
     "data": {
      "application/vnd.jupyter.widget-view+json": {
       "model_id": "",
       "version_major": 2,
       "version_minor": 0
      },
      "text/plain": [
       "FloatProgress(value=0.0, bar_style='info', description='Progress:', layout=Layout(height='25px', width='50%'),…"
      ]
     },
     "metadata": {},
     "output_type": "display_data"
    },
    {
     "name": "stdout",
     "output_type": "stream",
     "text": [
      "+---------+--------------------+--------------------+--------------------+\n",
      "|sentiment|               title|         description|       combined_text|\n",
      "+---------+--------------------+--------------------+--------------------+\n",
      "|        1|Simply not a good...|I would have turn...|simply not a good...|\n",
      "|        2|If you love Olive...|Sit down, buckle ...|if you love olive...|\n",
      "|        2|Savages don't mak...|I liked this movi...|savages dont make...|\n",
      "|        1|       Disappointing|\"After his hugely...|disappointing aft...|\n",
      "|        1|             Savages|Everyone(with the...|savages everyonew...|\n",
      "+---------+--------------------+--------------------+--------------------+\n",
      "only showing top 5 rows"
     ]
    }
   ],
   "source": [
    "# Lower case everything\n",
    "clean_sdf = regex_sdf.withColumn(\"combined_text\",lower(regex_sdf[\"combined_text\"]))\n",
    "\n",
    "clean_sdf.show(5)"
   ]
  },
  {
   "cell_type": "markdown",
   "id": "c0f24ad2",
   "metadata": {},
   "source": [
    "<span style=\"color:green; font-weight: bold; font-size: 13px\">Resulting data with an extra column without any irrelevant characters with all lowercased letters</span>"
   ]
  },
  {
   "cell_type": "markdown",
   "id": "077a1f82-1d0f-487b-a3f8-1b2aed742aea",
   "metadata": {},
   "source": [
    "<div style=\"text-align: center;\"> <span style=\"color:blue; font-weight:bold; font-size: 24px\"> Tokenization </span> </div>"
   ]
  },
  {
   "cell_type": "markdown",
   "id": "48f6e089-5dc0-4706-8390-8bfed362bb96",
   "metadata": {},
   "source": [
    "<span style=\"color:rgb(75,0,130); font-weight:bold; font-size: 16px\">Spark's MLlib Tokenizer Package</span>"
   ]
  },
  {
   "cell_type": "code",
   "execution_count": 19,
   "id": "00dbb39f-1f89-40ad-b4d7-eac0e8632dae",
   "metadata": {
    "execution": {
     "iopub.execute_input": "2024-11-18T03:34:08.611435Z",
     "iopub.status.busy": "2024-11-18T03:34:08.610605Z",
     "iopub.status.idle": "2024-11-18T03:34:09.912157Z",
     "shell.execute_reply": "2024-11-18T03:34:09.910861Z",
     "shell.execute_reply.started": "2024-11-18T03:34:08.610994Z"
    },
    "tags": []
   },
   "outputs": [
    {
     "data": {
      "application/vnd.jupyter.widget-view+json": {
       "model_id": "40863910d02547a79819cd9ec0a66eef",
       "version_major": 2,
       "version_minor": 0
      },
      "text/plain": [
       "VBox()"
      ]
     },
     "metadata": {},
     "output_type": "display_data"
    },
    {
     "data": {
      "application/vnd.jupyter.widget-view+json": {
       "model_id": "",
       "version_major": 2,
       "version_minor": 0
      },
      "text/plain": [
       "FloatProgress(value=0.0, bar_style='info', description='Progress:', layout=Layout(height='25px', width='50%'),…"
      ]
     },
     "metadata": {},
     "output_type": "display_data"
    }
   ],
   "source": [
    "from pyspark.ml.feature import Tokenizer\n",
    "\n",
    "tokenizer = Tokenizer(inputCol=\"combined_text\", outputCol=\"tokens\")\n",
    "sdf_tokenized = tokenizer.transform(clean_sdf)"
   ]
  },
  {
   "cell_type": "code",
   "execution_count": 20,
   "id": "bc3a676b-9188-4cb2-9f20-623f4d0926ec",
   "metadata": {
    "execution": {
     "iopub.execute_input": "2024-11-18T03:34:09.916050Z",
     "iopub.status.busy": "2024-11-18T03:34:09.915867Z",
     "iopub.status.idle": "2024-11-18T03:34:10.747879Z",
     "shell.execute_reply": "2024-11-18T03:34:10.746947Z",
     "shell.execute_reply.started": "2024-11-18T03:34:09.916025Z"
    },
    "tags": []
   },
   "outputs": [
    {
     "data": {
      "application/vnd.jupyter.widget-view+json": {
       "model_id": "a9b994da755f4514a31ad9ee38fc69ba",
       "version_major": 2,
       "version_minor": 0
      },
      "text/plain": [
       "VBox()"
      ]
     },
     "metadata": {},
     "output_type": "display_data"
    },
    {
     "data": {
      "application/vnd.jupyter.widget-view+json": {
       "model_id": "",
       "version_major": 2,
       "version_minor": 0
      },
      "text/plain": [
       "FloatProgress(value=0.0, bar_style='info', description='Progress:', layout=Layout(height='25px', width='50%'),…"
      ]
     },
     "metadata": {},
     "output_type": "display_data"
    },
    {
     "name": "stdout",
     "output_type": "stream",
     "text": [
      "+---------+--------------------+--------------------+--------------------+--------------------+\n",
      "|sentiment|               title|         description|       combined_text|              tokens|\n",
      "+---------+--------------------+--------------------+--------------------+--------------------+\n",
      "|        1|Simply not a good...|I would have turn...|simply not a good...|[simply, not, a, ...|\n",
      "|        2|If you love Olive...|Sit down, buckle ...|if you love olive...|[if, you, love, o...|\n",
      "|        2|Savages don't mak...|I liked this movi...|savages dont make...|[savages, dont, m...|\n",
      "|        1|       Disappointing|\"After his hugely...|disappointing aft...|[disappointing, a...|\n",
      "|        1|             Savages|Everyone(with the...|savages everyonew...|[savages, everyon...|\n",
      "+---------+--------------------+--------------------+--------------------+--------------------+\n",
      "only showing top 5 rows"
     ]
    }
   ],
   "source": [
    "sdf_tokenized.show(5)"
   ]
  },
  {
   "cell_type": "markdown",
   "id": "a730274b-40f9-4bc5-b68f-e8f4fbda1722",
   "metadata": {},
   "source": [
    "<span style=\"color:rgb(75,0,130); font-weight:bold; font-size: 16px\">PySpark's MLlib StopWords Removal Package</span>"
   ]
  },
  {
   "cell_type": "code",
   "execution_count": 21,
   "id": "fa713d87-21c6-4253-a7ad-c32d940230a8",
   "metadata": {
    "execution": {
     "iopub.execute_input": "2024-11-18T03:34:10.749544Z",
     "iopub.status.busy": "2024-11-18T03:34:10.749141Z",
     "iopub.status.idle": "2024-11-18T03:34:12.040087Z",
     "shell.execute_reply": "2024-11-18T03:34:12.038964Z",
     "shell.execute_reply.started": "2024-11-18T03:34:10.749506Z"
    },
    "tags": []
   },
   "outputs": [
    {
     "data": {
      "application/vnd.jupyter.widget-view+json": {
       "model_id": "e83656d14b84491da6f6b064b9539f3f",
       "version_major": 2,
       "version_minor": 0
      },
      "text/plain": [
       "VBox()"
      ]
     },
     "metadata": {},
     "output_type": "display_data"
    },
    {
     "data": {
      "application/vnd.jupyter.widget-view+json": {
       "model_id": "",
       "version_major": 2,
       "version_minor": 0
      },
      "text/plain": [
       "FloatProgress(value=0.0, bar_style='info', description='Progress:', layout=Layout(height='25px', width='50%'),…"
      ]
     },
     "metadata": {},
     "output_type": "display_data"
    },
    {
     "name": "stdout",
     "output_type": "stream",
     "text": [
      "+---------+--------------------+--------------------+--------------------+--------------------+--------------------+\n",
      "|sentiment|               title|         description|       combined_text|              tokens|     filtered_tokens|\n",
      "+---------+--------------------+--------------------+--------------------+--------------------+--------------------+\n",
      "|        1|Simply not a good...|I would have turn...|simply not a good...|[simply, not, a, ...|[simply, good, mo...|\n",
      "|        2|If you love Olive...|Sit down, buckle ...|if you love olive...|[if, you, love, o...|[love, oliver, st...|\n",
      "|        2|Savages don't mak...|I liked this movi...|savages dont make...|[savages, dont, m...|[savages, dont, m...|\n",
      "|        1|       Disappointing|\"After his hugely...|disappointing aft...|[disappointing, a...|[disappointing, h...|\n",
      "|        1|             Savages|Everyone(with the...|savages everyonew...|[savages, everyon...|[savages, everyon...|\n",
      "+---------+--------------------+--------------------+--------------------+--------------------+--------------------+\n",
      "only showing top 5 rows"
     ]
    }
   ],
   "source": [
    "from pyspark.ml.feature import StopWordsRemover\n",
    "\n",
    "remover = StopWordsRemover(inputCol=\"tokens\", outputCol=\"filtered_tokens\")\n",
    "clean_sdf_tokenized = remover.transform(sdf_tokenized)\n",
    "\n",
    "clean_sdf_tokenized.show(5)"
   ]
  },
  {
   "cell_type": "markdown",
   "id": "82f97714-5151-4ffc-ab04-4a887d175f16",
   "metadata": {},
   "source": [
    "<span style=\"color:green; font-weight: bold; font-size: 13px\">Resultant Dataframe with Tokens after elimanation of Stop Words</span>"
   ]
  },
  {
   "cell_type": "markdown",
   "id": "2bcbb8f2-6ed9-453c-8963-690896e4558f",
   "metadata": {},
   "source": [
    "<div style=\"text-align: center;\"> <span style=\"color:blue; font-weight:bold; font-size: 24px\"> Data Transformation / Feature Engineering </span> </div>"
   ]
  },
  {
   "cell_type": "markdown",
   "id": "e34e4362-98c6-45e0-95de-eaa1ff542d7b",
   "metadata": {},
   "source": [
    "<span style=\"color:rgb(75,0,130); font-weight:bold; font-size: 16px\"> Count Vectorizer from Spark's MLlib Feature Package to convert words to vectors </span>"
   ]
  },
  {
   "cell_type": "code",
   "execution_count": 22,
   "id": "b295790b-ec00-4bd1-bdf3-8df709fa057d",
   "metadata": {
    "execution": {
     "iopub.execute_input": "2024-11-18T03:34:12.044311Z",
     "iopub.status.busy": "2024-11-18T03:34:12.041156Z",
     "iopub.status.idle": "2024-11-18T03:35:05.558399Z",
     "shell.execute_reply": "2024-11-18T03:35:05.557209Z",
     "shell.execute_reply.started": "2024-11-18T03:34:12.044271Z"
    },
    "tags": []
   },
   "outputs": [
    {
     "data": {
      "application/vnd.jupyter.widget-view+json": {
       "model_id": "6a78812754c64ed58f4f60b2a110a630",
       "version_major": 2,
       "version_minor": 0
      },
      "text/plain": [
       "VBox()"
      ]
     },
     "metadata": {},
     "output_type": "display_data"
    },
    {
     "data": {
      "application/vnd.jupyter.widget-view+json": {
       "model_id": "",
       "version_major": 2,
       "version_minor": 0
      },
      "text/plain": [
       "FloatProgress(value=0.0, bar_style='info', description='Progress:', layout=Layout(height='25px', width='50%'),…"
      ]
     },
     "metadata": {},
     "output_type": "display_data"
    },
    {
     "name": "stdout",
     "output_type": "stream",
     "text": [
      "+---------+--------------------+--------------------+--------------------+--------------------+--------------------+--------------------+\n",
      "|sentiment|               title|         description|       combined_text|              tokens|     filtered_tokens|            features|\n",
      "+---------+--------------------+--------------------+--------------------+--------------------+--------------------+--------------------+\n",
      "|        1|Simply not a good...|I would have turn...|simply not a good...|[simply, not, a, ...|[simply, good, mo...|(262144,[2,3,9,29...|\n",
      "|        2|If you love Olive...|Sit down, buckle ...|if you love olive...|[if, you, love, o...|[love, oliver, st...|(262144,[9,11,15,...|\n",
      "|        2|Savages don't mak...|I liked this movi...|savages dont make...|[savages, dont, m...|[savages, dont, m...|(262144,[3,4,8,9,...|\n",
      "|        1|       Disappointing|\"After his hugely...|disappointing aft...|[disappointing, a...|[disappointing, h...|(262144,[1,18,89,...|\n",
      "|        1|             Savages|Everyone(with the...|savages everyonew...|[savages, everyon...|[savages, everyon...|(262144,[13,20,36...|\n",
      "+---------+--------------------+--------------------+--------------------+--------------------+--------------------+--------------------+\n",
      "only showing top 5 rows"
     ]
    }
   ],
   "source": [
    "from pyspark.ml.feature import CountVectorizer\n",
    "\n",
    "count_vectorizer = CountVectorizer(inputCol=\"filtered_tokens\", outputCol=\"features\")\n",
    "count_vectorizer_model = count_vectorizer.fit(clean_sdf_tokenized)\n",
    "vector_data = count_vectorizer_model.transform(clean_sdf_tokenized)\n",
    "vector_data.show(5)"
   ]
  },
  {
   "cell_type": "markdown",
   "id": "2135cd48-51e2-4087-9d4b-96c9eb34af22",
   "metadata": {},
   "source": [
    "<span style=\"color:rgb(75,0,130); font-weight:bold; font-size: 16px\"> Exploring the feature vector data </span>"
   ]
  },
  {
   "cell_type": "code",
   "execution_count": 23,
   "id": "ae9cc5af-2d09-4863-9334-65d2fa85a3d2",
   "metadata": {
    "execution": {
     "iopub.execute_input": "2024-11-18T03:35:05.559908Z",
     "iopub.status.busy": "2024-11-18T03:35:05.559611Z",
     "iopub.status.idle": "2024-11-18T03:35:05.634269Z",
     "shell.execute_reply": "2024-11-18T03:35:05.632642Z",
     "shell.execute_reply.started": "2024-11-18T03:35:05.559869Z"
    },
    "tags": []
   },
   "outputs": [
    {
     "data": {
      "application/vnd.jupyter.widget-view+json": {
       "model_id": "1e0ca63d60ae41f39528d9f09dc75e02",
       "version_major": 2,
       "version_minor": 0
      },
      "text/plain": [
       "VBox()"
      ]
     },
     "metadata": {},
     "output_type": "display_data"
    },
    {
     "data": {
      "application/vnd.jupyter.widget-view+json": {
       "model_id": "",
       "version_major": 2,
       "version_minor": 0
      },
      "text/plain": [
       "FloatProgress(value=0.0, bar_style='info', description='Progress:', layout=Layout(height='25px', width='50%'),…"
      ]
     },
     "metadata": {},
     "output_type": "display_data"
    },
    {
     "name": "stdout",
     "output_type": "stream",
     "text": [
      "root\n",
      " |-- sentiment: integer (nullable = true)\n",
      " |-- title: string (nullable = true)\n",
      " |-- description: string (nullable = true)\n",
      " |-- combined_text: string (nullable = true)\n",
      " |-- tokens: array (nullable = true)\n",
      " |    |-- element: string (containsNull = true)\n",
      " |-- filtered_tokens: array (nullable = true)\n",
      " |    |-- element: string (containsNull = true)\n",
      " |-- features: vector (nullable = true)"
     ]
    }
   ],
   "source": [
    "# Checking the schema for new vectorized data\n",
    "vector_data.printSchema()"
   ]
  },
  {
   "cell_type": "markdown",
   "id": "0ef87cad-b3d8-45d1-a9d5-1866b1fbb356",
   "metadata": {},
   "source": [
    "<span style=\"color:green; font-weight: bold; font-size: 13px\">Features column has datatype 'vector' used for modeling in NLP</span>"
   ]
  },
  {
   "cell_type": "code",
   "execution_count": 24,
   "id": "7571f233-9914-452b-92c4-1223e451d1d5",
   "metadata": {
    "execution": {
     "iopub.execute_input": "2024-11-18T03:35:05.647763Z",
     "iopub.status.busy": "2024-11-18T03:35:05.647535Z",
     "iopub.status.idle": "2024-11-18T03:35:11.201885Z",
     "shell.execute_reply": "2024-11-18T03:35:11.201190Z",
     "shell.execute_reply.started": "2024-11-18T03:35:05.647737Z"
    },
    "tags": []
   },
   "outputs": [
    {
     "data": {
      "application/vnd.jupyter.widget-view+json": {
       "model_id": "888ccdf8e5d74998877c3f8997a7d87a",
       "version_major": 2,
       "version_minor": 0
      },
      "text/plain": [
       "VBox()"
      ]
     },
     "metadata": {},
     "output_type": "display_data"
    },
    {
     "data": {
      "application/vnd.jupyter.widget-view+json": {
       "model_id": "",
       "version_major": 2,
       "version_minor": 0
      },
      "text/plain": [
       "FloatProgress(value=0.0, bar_style='info', description='Progress:', layout=Layout(height='25px', width='50%'),…"
      ]
     },
     "metadata": {},
     "output_type": "display_data"
    },
    {
     "name": "stdout",
     "output_type": "stream",
     "text": [
      "Count of Rows in the New Vectorized Dataset:1198758"
     ]
    }
   ],
   "source": [
    "# Count of rows in the vectorized dataset\n",
    "print(f\"Count of Rows in the New Vectorized Dataset:{vector_data.count()}\")"
   ]
  },
  {
   "cell_type": "markdown",
   "id": "91819590-8476-4955-b99c-d498f5b57032",
   "metadata": {},
   "source": [
    "<span style=\"color:rgb(75,0,130); font-weight:bold; font-size: 16px\"> Splitting Feature Data Vectors into training (80%) and testing (20%) data </span>"
   ]
  },
  {
   "cell_type": "code",
   "execution_count": 25,
   "id": "925bfcda-fcd0-448f-a6a3-afb10fbbc93e",
   "metadata": {
    "execution": {
     "iopub.execute_input": "2024-11-18T03:35:11.203850Z",
     "iopub.status.busy": "2024-11-18T03:35:11.203328Z",
     "iopub.status.idle": "2024-11-18T03:35:11.265650Z",
     "shell.execute_reply": "2024-11-18T03:35:11.264634Z",
     "shell.execute_reply.started": "2024-11-18T03:35:11.203812Z"
    },
    "tags": []
   },
   "outputs": [
    {
     "data": {
      "application/vnd.jupyter.widget-view+json": {
       "model_id": "6050d1325ad94357a9110c14e01750ce",
       "version_major": 2,
       "version_minor": 0
      },
      "text/plain": [
       "VBox()"
      ]
     },
     "metadata": {},
     "output_type": "display_data"
    },
    {
     "data": {
      "application/vnd.jupyter.widget-view+json": {
       "model_id": "",
       "version_major": 2,
       "version_minor": 0
      },
      "text/plain": [
       "FloatProgress(value=0.0, bar_style='info', description='Progress:', layout=Layout(height='25px', width='50%'),…"
      ]
     },
     "metadata": {},
     "output_type": "display_data"
    }
   ],
   "source": [
    "# Using Random Split \n",
    "train_data, test_data = vector_data.randomSplit([0.8, 0.2], seed=42)"
   ]
  },
  {
   "cell_type": "code",
   "execution_count": 26,
   "id": "1161b296-896b-4c2a-a78c-b3866081911b",
   "metadata": {
    "execution": {
     "iopub.execute_input": "2024-11-18T03:35:11.271030Z",
     "iopub.status.busy": "2024-11-18T03:35:11.270607Z",
     "iopub.status.idle": "2024-11-18T03:36:42.832352Z",
     "shell.execute_reply": "2024-11-18T03:36:42.831639Z",
     "shell.execute_reply.started": "2024-11-18T03:35:11.270997Z"
    },
    "tags": []
   },
   "outputs": [
    {
     "data": {
      "application/vnd.jupyter.widget-view+json": {
       "model_id": "e1ea19e114944d7c97fad906fc00aa27",
       "version_major": 2,
       "version_minor": 0
      },
      "text/plain": [
       "VBox()"
      ]
     },
     "metadata": {},
     "output_type": "display_data"
    },
    {
     "data": {
      "application/vnd.jupyter.widget-view+json": {
       "model_id": "",
       "version_major": 2,
       "version_minor": 0
      },
      "text/plain": [
       "FloatProgress(value=0.0, bar_style='info', description='Progress:', layout=Layout(height='25px', width='50%'),…"
      ]
     },
     "metadata": {},
     "output_type": "display_data"
    },
    {
     "name": "stdout",
     "output_type": "stream",
     "text": [
      "Training Dataset Count: 959306\n",
      "Testing Dataset Count: 239452"
     ]
    }
   ],
   "source": [
    "# Count of rows in each dataset\n",
    "print(f\"Training Dataset Count: {train_data.count()}\")\n",
    "print(f\"Testing Dataset Count: {test_data.count()}\")"
   ]
  },
  {
   "cell_type": "markdown",
   "id": "53998395-1fa8-46e5-8e17-651fdea00095",
   "metadata": {},
   "source": [
    "<span style=\"color:rgb(75,0,130); font-weight:bold; font-size: 12px\"> Training Data </span>"
   ]
  },
  {
   "cell_type": "code",
   "execution_count": 27,
   "id": "6cd509c7-d7f8-46d7-8de5-2a560a5aba2a",
   "metadata": {
    "execution": {
     "iopub.execute_input": "2024-11-18T03:36:42.833529Z",
     "iopub.status.busy": "2024-11-18T03:36:42.833341Z",
     "iopub.status.idle": "2024-11-18T03:37:22.238243Z",
     "shell.execute_reply": "2024-11-18T03:37:22.227156Z",
     "shell.execute_reply.started": "2024-11-18T03:36:42.833500Z"
    },
    "tags": []
   },
   "outputs": [
    {
     "data": {
      "application/vnd.jupyter.widget-view+json": {
       "model_id": "ce2ae0725f7c4c698bee6ac8e4fd1f39",
       "version_major": 2,
       "version_minor": 0
      },
      "text/plain": [
       "VBox()"
      ]
     },
     "metadata": {},
     "output_type": "display_data"
    },
    {
     "data": {
      "application/vnd.jupyter.widget-view+json": {
       "model_id": "",
       "version_major": 2,
       "version_minor": 0
      },
      "text/plain": [
       "FloatProgress(value=0.0, bar_style='info', description='Progress:', layout=Layout(height='25px', width='50%'),…"
      ]
     },
     "metadata": {},
     "output_type": "display_data"
    },
    {
     "name": "stdout",
     "output_type": "stream",
     "text": [
      "+---------+------+\n",
      "|sentiment| count|\n",
      "+---------+------+\n",
      "|        1|479913|\n",
      "|        2|479393|\n",
      "+---------+------+"
     ]
    }
   ],
   "source": [
    "# Checking class imbalance in the train dataset\n",
    "\n",
    "class_train = train_data.groupBy(\"sentiment\").count()\n",
    "class_train.show()"
   ]
  },
  {
   "cell_type": "markdown",
   "id": "545140d9-c961-4fac-aa72-95b47dc2a7b3",
   "metadata": {},
   "source": [
    "<span style=\"color:green; font-weight: bold; font-size: 13px\"> Training Classes are Balanced</span>"
   ]
  },
  {
   "cell_type": "markdown",
   "id": "856a6de7-c40a-48e0-b1ee-050c5680f22e",
   "metadata": {},
   "source": [
    "<span style=\"color:rgb(75,0,130); font-weight:bold; font-size: 12px\"> Testing Data </span>"
   ]
  },
  {
   "cell_type": "code",
   "execution_count": 28,
   "id": "403d6f25-77d4-4069-ac0a-e9f611214e5f",
   "metadata": {
    "execution": {
     "iopub.execute_input": "2024-11-18T03:37:22.240092Z",
     "iopub.status.busy": "2024-11-18T03:37:22.239832Z",
     "iopub.status.idle": "2024-11-18T03:38:01.671042Z",
     "shell.execute_reply": "2024-11-18T03:38:01.669729Z",
     "shell.execute_reply.started": "2024-11-18T03:37:22.240052Z"
    },
    "tags": []
   },
   "outputs": [
    {
     "data": {
      "application/vnd.jupyter.widget-view+json": {
       "model_id": "96f3e39582d2437597963d9ac41cec30",
       "version_major": 2,
       "version_minor": 0
      },
      "text/plain": [
       "VBox()"
      ]
     },
     "metadata": {},
     "output_type": "display_data"
    },
    {
     "data": {
      "application/vnd.jupyter.widget-view+json": {
       "model_id": "",
       "version_major": 2,
       "version_minor": 0
      },
      "text/plain": [
       "FloatProgress(value=0.0, bar_style='info', description='Progress:', layout=Layout(height='25px', width='50%'),…"
      ]
     },
     "metadata": {},
     "output_type": "display_data"
    },
    {
     "name": "stdout",
     "output_type": "stream",
     "text": [
      "+---------+------+\n",
      "|sentiment| count|\n",
      "+---------+------+\n",
      "|        1|119478|\n",
      "|        2|119974|\n",
      "+---------+------+"
     ]
    }
   ],
   "source": [
    "# Checking class imbalance in the test dataset\n",
    "\n",
    "class_test = test_data.groupBy(\"sentiment\").count()\n",
    "class_test.show()"
   ]
  },
  {
   "cell_type": "markdown",
   "id": "b0dcf35e-0e9e-43b1-9db5-4b119ddabce0",
   "metadata": {},
   "source": [
    "<span style=\"color:green; font-weight: bold; font-size: 13px\"> Testing Classes are Balanced </span>"
   ]
  },
  {
   "cell_type": "markdown",
   "id": "cf7fa45a-39c2-4e46-ac7f-7236d0cb5144",
   "metadata": {},
   "source": [
    "<div style=\"text-align: center;\"> <span style=\"color:blue; font-weight:bold; font-size: 24px\"> Data Modeling </span> </div>"
   ]
  },
  {
   "cell_type": "markdown",
   "id": "f0832205-1f8f-4d1f-9628-2e6cb2f4d378",
   "metadata": {},
   "source": [
    "<span style=\"color:brown; font-weight:bold; font-size: 18px\">Model: Logistic Regression Classifier </span>"
   ]
  },
  {
   "cell_type": "markdown",
   "id": "bf0f43fa-4d9d-41d0-b9ad-9fc1115fcaa7",
   "metadata": {},
   "source": [
    "<span style=\"color:rgb(75,0,130); font-weight:bold; font-size: 16px\"> Train the model on Training Data </span>"
   ]
  },
  {
   "cell_type": "code",
   "execution_count": 29,
   "id": "d50a30f1-4eb3-4583-81af-41db2665b434",
   "metadata": {
    "execution": {
     "iopub.execute_input": "2024-11-18T03:38:01.672672Z",
     "iopub.status.busy": "2024-11-18T03:38:01.672429Z",
     "iopub.status.idle": "2024-11-18T03:39:55.373735Z",
     "shell.execute_reply": "2024-11-18T03:39:55.372738Z",
     "shell.execute_reply.started": "2024-11-18T03:38:01.672636Z"
    },
    "tags": []
   },
   "outputs": [
    {
     "data": {
      "application/vnd.jupyter.widget-view+json": {
       "model_id": "6ffba99058f949958296649a26d2cede",
       "version_major": 2,
       "version_minor": 0
      },
      "text/plain": [
       "VBox()"
      ]
     },
     "metadata": {},
     "output_type": "display_data"
    },
    {
     "data": {
      "application/vnd.jupyter.widget-view+json": {
       "model_id": "",
       "version_major": 2,
       "version_minor": 0
      },
      "text/plain": [
       "FloatProgress(value=0.0, bar_style='info', description='Progress:', layout=Layout(height='25px', width='50%'),…"
      ]
     },
     "metadata": {},
     "output_type": "display_data"
    }
   ],
   "source": [
    "from pyspark.ml.classification import LogisticRegression\n",
    "\n",
    "lr = LogisticRegression(featuresCol=\"features\", labelCol=\"sentiment\", maxIter=10)\n",
    "lr_model = lr.fit(train_data)"
   ]
  },
  {
   "cell_type": "markdown",
   "id": "ab23eab6-f598-4bf0-9980-ae0872c4c0ad",
   "metadata": {},
   "source": [
    "<span style=\"color:rgb(75,0,130); font-weight:bold; font-size: 16px\"> Predictions on the Test Data </span>"
   ]
  },
  {
   "cell_type": "code",
   "execution_count": 30,
   "id": "349751af-6bc8-41e7-a000-4d23c048d6fd",
   "metadata": {
    "execution": {
     "iopub.execute_input": "2024-11-18T03:39:55.375304Z",
     "iopub.status.busy": "2024-11-18T03:39:55.374735Z",
     "iopub.status.idle": "2024-11-18T03:40:10.976651Z",
     "shell.execute_reply": "2024-11-18T03:40:10.975820Z",
     "shell.execute_reply.started": "2024-11-18T03:39:55.375265Z"
    },
    "tags": []
   },
   "outputs": [
    {
     "data": {
      "application/vnd.jupyter.widget-view+json": {
       "model_id": "548201f2ef93426da37f68955c11c077",
       "version_major": 2,
       "version_minor": 0
      },
      "text/plain": [
       "VBox()"
      ]
     },
     "metadata": {},
     "output_type": "display_data"
    },
    {
     "data": {
      "application/vnd.jupyter.widget-view+json": {
       "model_id": "",
       "version_major": 2,
       "version_minor": 0
      },
      "text/plain": [
       "FloatProgress(value=0.0, bar_style='info', description='Progress:', layout=Layout(height='25px', width='50%'),…"
      ]
     },
     "metadata": {},
     "output_type": "display_data"
    },
    {
     "name": "stdout",
     "output_type": "stream",
     "text": [
      "+---------+--------------------+--------------------+--------------------+--------------------+--------------------+--------------------+--------------------+--------------------+----------+\n",
      "|sentiment|               title|         description|       combined_text|              tokens|     filtered_tokens|            features|       rawPrediction|         probability|prediction|\n",
      "+---------+--------------------+--------------------+--------------------+--------------------+--------------------+--------------------+--------------------+--------------------+----------+\n",
      "|        1|!!!! Wrong MP3 fi...|The MP3 files dow...| wrong mp files t...|[, wrong, mp, fil...|[, wrong, mp, fil...|(262144,[102,204,...|[-8.7206257858982...|[3.98521419265735...|       1.0|\n",
      "|        1| !!READERS CAUTION!!|\"Now that you hav...|readers caution n...|[readers, caution...|[readers, caution...|(262144,[5,7,110,...|[-8.7205044409752...|[2.58506245663132...|       1.0|\n",
      "|        1|      !Qué simpleza!|\"No había oído ca...|qu simpleza no ha...|[qu, simpleza, no...|[qu, simpleza, ha...|(262144,[317,630,...|[-8.7197252468454...|[1.53218775447029...|       2.0|\n",
      "|        1|   \"\"\"A Total Scam!\"|\"\"\"I think where ...|a total scam i th...|[a, total, scam, ...|[total, scam, thi...|(262144,[4,11,16,...|[-8.7205605337635...|[4.85440732912723...|       1.0|\n",
      "|        1|\"\"\"Are you kiddin...|This is gonna be ...|are you kidding i...|[are, you, kiddin...|[kidding, gonna, ...|(262144,[1,4,9,10...|[-8.7205331319353...|[1.22771844613667...|       1.0|\n",
      "+---------+--------------------+--------------------+--------------------+--------------------+--------------------+--------------------+--------------------+--------------------+----------+\n",
      "only showing top 5 rows"
     ]
    }
   ],
   "source": [
    "# Predictions on test data\n",
    "predictions_lr_test = lr_model.transform(test_data)\n",
    "\n",
    "predictions_lr_test.show(5)"
   ]
  },
  {
   "cell_type": "markdown",
   "id": "5d841f31-6a81-4d4d-9065-d89c3beeed4f",
   "metadata": {},
   "source": [
    "<span style=\"color:rgb(75,0,130); font-weight:bold; font-size: 16px\"> Predictions on the Training Data </span>"
   ]
  },
  {
   "cell_type": "code",
   "execution_count": 31,
   "id": "66d36160-3791-4b22-9a08-b99d65bf9915",
   "metadata": {
    "execution": {
     "iopub.execute_input": "2024-11-18T03:40:10.977876Z",
     "iopub.status.busy": "2024-11-18T03:40:10.977624Z",
     "iopub.status.idle": "2024-11-18T03:40:26.297552Z",
     "shell.execute_reply": "2024-11-18T03:40:26.296888Z",
     "shell.execute_reply.started": "2024-11-18T03:40:10.977838Z"
    },
    "tags": []
   },
   "outputs": [
    {
     "data": {
      "application/vnd.jupyter.widget-view+json": {
       "model_id": "6ee71d3520ee474b84811f4eaea358e3",
       "version_major": 2,
       "version_minor": 0
      },
      "text/plain": [
       "VBox()"
      ]
     },
     "metadata": {},
     "output_type": "display_data"
    },
    {
     "data": {
      "application/vnd.jupyter.widget-view+json": {
       "model_id": "",
       "version_major": 2,
       "version_minor": 0
      },
      "text/plain": [
       "FloatProgress(value=0.0, bar_style='info', description='Progress:', layout=Layout(height='25px', width='50%'),…"
      ]
     },
     "metadata": {},
     "output_type": "display_data"
    },
    {
     "name": "stdout",
     "output_type": "stream",
     "text": [
      "+---------+--------------------+--------------------+--------------------+--------------------+--------------------+--------------------+--------------------+--------------------+----------+\n",
      "|sentiment|               title|         description|       combined_text|              tokens|     filtered_tokens|            features|       rawPrediction|         probability|prediction|\n",
      "+---------+--------------------+--------------------+--------------------+--------------------+--------------------+--------------------+--------------------+--------------------+----------+\n",
      "|        1|! LONG LIVE THE F...|\"Uau, what a bad ...| long live the fo...|[, long, live, th...|[, long, live, fo...|(262144,[0,9,29,4...|[-8.7206264410159...|[6.22083702414199...|       1.0|\n",
      "|        1|!!!! WASTE OF MON...|I bought this swi...| waste of money i...|[, waste, of, mon...|[, waste, money, ...|(262144,[4,6,14,2...|[-8.7205028071403...|[1.60359085471564...|       1.0|\n",
      "|        1|       !!!CAUTION!!!|While Panasonic i...|caution while pan...|[caution, while, ...|[caution, panason...|(262144,[49,52,53...|[-8.7204965163608...|[1.89301260914305...|       1.0|\n",
      "|        1|!!!Incomplete and...|\"Ms. Klein, Your ...|incomplete and va...|[incomplete, and,...|[incomplete, vagu...|(262144,[0,5,19,8...|[-8.7205237137003...|[3.05021040075015...|       1.0|\n",
      "|        1|!!DO NOT BUY THIS...|\"I love this song...|do not buy this c...|[do, not, buy, th...|[buy, cd, love, s...|(262144,[15,17,23...|[-8.7206289893957...|[2.96236077586322...|       1.0|\n",
      "+---------+--------------------+--------------------+--------------------+--------------------+--------------------+--------------------+--------------------+--------------------+----------+\n",
      "only showing top 5 rows"
     ]
    }
   ],
   "source": [
    "# Predictions on the train data\n",
    "predictions_lr_train = lr_model.transform(train_data)\n",
    "predictions_lr_train.show(5)"
   ]
  },
  {
   "cell_type": "markdown",
   "id": "4edf893a-e21c-488b-825a-e5533967c3e5",
   "metadata": {},
   "source": [
    "<div style=\"text-align: center;\"> <span style=\"color:blue; font-weight:bold; font-size: 24px\">Model Evaluation and Results </span> </div>"
   ]
  },
  {
   "cell_type": "markdown",
   "id": "5b1c8345-b896-47eb-acab-dd3830badbe1",
   "metadata": {},
   "source": [
    "<span style=\"color:brown; font-weight:bold; font-size: 18px\">Evaluation of Logistic Regression Model when predicted on Test Data </span>"
   ]
  },
  {
   "cell_type": "markdown",
   "id": "89d268bc-32ca-4812-abec-3981abcde23a",
   "metadata": {},
   "source": [
    "<span style=\"color:rgb(75,0,130); font-weight:bold; font-size: 16px\"> Evaluation using Accuracy </span>"
   ]
  },
  {
   "cell_type": "code",
   "execution_count": 32,
   "id": "e8af18e2-4a99-4bfb-827c-4fe53b9f9a8c",
   "metadata": {
    "execution": {
     "iopub.execute_input": "2024-11-18T03:40:26.299157Z",
     "iopub.status.busy": "2024-11-18T03:40:26.298968Z",
     "iopub.status.idle": "2024-11-18T03:40:26.366602Z",
     "shell.execute_reply": "2024-11-18T03:40:26.364382Z",
     "shell.execute_reply.started": "2024-11-18T03:40:26.299134Z"
    },
    "tags": []
   },
   "outputs": [
    {
     "data": {
      "application/vnd.jupyter.widget-view+json": {
       "model_id": "2a136c588dff4f519d54c664eb861423",
       "version_major": 2,
       "version_minor": 0
      },
      "text/plain": [
       "VBox()"
      ]
     },
     "metadata": {},
     "output_type": "display_data"
    },
    {
     "data": {
      "application/vnd.jupyter.widget-view+json": {
       "model_id": "",
       "version_major": 2,
       "version_minor": 0
      },
      "text/plain": [
       "FloatProgress(value=0.0, bar_style='info', description='Progress:', layout=Layout(height='25px', width='50%'),…"
      ]
     },
     "metadata": {},
     "output_type": "display_data"
    }
   ],
   "source": [
    "from pyspark.ml.evaluation import MulticlassClassificationEvaluator"
   ]
  },
  {
   "cell_type": "markdown",
   "id": "8481a1dc-6b3c-46a2-806f-bcee7569169d",
   "metadata": {},
   "source": [
    "<span style=\"color:rgb(75,0,130); font-weight:bold; font-size: 12px\"> Testing Accuracy </span>"
   ]
  },
  {
   "cell_type": "code",
   "execution_count": 33,
   "id": "107c0daf-84be-42d2-963f-c12256b9348d",
   "metadata": {
    "execution": {
     "iopub.execute_input": "2024-11-18T03:40:26.381288Z",
     "iopub.status.busy": "2024-11-18T03:40:26.381065Z",
     "iopub.status.idle": "2024-11-18T03:41:07.814853Z",
     "shell.execute_reply": "2024-11-18T03:41:07.813487Z",
     "shell.execute_reply.started": "2024-11-18T03:40:26.381261Z"
    },
    "tags": []
   },
   "outputs": [
    {
     "data": {
      "application/vnd.jupyter.widget-view+json": {
       "model_id": "6be375939fa940779c82cee32970e285",
       "version_major": 2,
       "version_minor": 0
      },
      "text/plain": [
       "VBox()"
      ]
     },
     "metadata": {},
     "output_type": "display_data"
    },
    {
     "data": {
      "application/vnd.jupyter.widget-view+json": {
       "model_id": "",
       "version_major": 2,
       "version_minor": 0
      },
      "text/plain": [
       "FloatProgress(value=0.0, bar_style='info', description='Progress:', layout=Layout(height='25px', width='50%'),…"
      ]
     },
     "metadata": {},
     "output_type": "display_data"
    },
    {
     "name": "stdout",
     "output_type": "stream",
     "text": [
      "Accuracy of Logistic Regression on Testing Data: 0.8524505955264521"
     ]
    }
   ],
   "source": [
    "evaluator_test = MulticlassClassificationEvaluator(labelCol=\"sentiment\", predictionCol=\"prediction\", metricName=\"accuracy\")\n",
    "accuracy_test = evaluator_test.evaluate(predictions_lr_test)\n",
    "print(f\"Accuracy of Logistic Regression on Testing Data: {accuracy_test}\")"
   ]
  },
  {
   "cell_type": "markdown",
   "id": "0d6c90d1-1379-45e0-97c8-6ff652622a69",
   "metadata": {},
   "source": [
    "<span style=\"color:rgb(75,0,130); font-weight:bold; font-size: 12px\"> Training Accuracy </span>"
   ]
  },
  {
   "cell_type": "code",
   "execution_count": 34,
   "id": "d62637fa-e78c-431c-aa09-1c73c8feab9a",
   "metadata": {
    "execution": {
     "iopub.execute_input": "2024-11-18T03:41:07.825642Z",
     "iopub.status.busy": "2024-11-18T03:41:07.824981Z",
     "iopub.status.idle": "2024-11-18T03:41:49.247718Z",
     "shell.execute_reply": "2024-11-18T03:41:49.247011Z",
     "shell.execute_reply.started": "2024-11-18T03:41:07.825597Z"
    },
    "tags": []
   },
   "outputs": [
    {
     "data": {
      "application/vnd.jupyter.widget-view+json": {
       "model_id": "eb8fb150fd7d4fa893114ac2a21455ee",
       "version_major": 2,
       "version_minor": 0
      },
      "text/plain": [
       "VBox()"
      ]
     },
     "metadata": {},
     "output_type": "display_data"
    },
    {
     "data": {
      "application/vnd.jupyter.widget-view+json": {
       "model_id": "",
       "version_major": 2,
       "version_minor": 0
      },
      "text/plain": [
       "FloatProgress(value=0.0, bar_style='info', description='Progress:', layout=Layout(height='25px', width='50%'),…"
      ]
     },
     "metadata": {},
     "output_type": "display_data"
    },
    {
     "name": "stdout",
     "output_type": "stream",
     "text": [
      "Accuracy of Logistic Regression on Training Data: 0.9475068434889389"
     ]
    }
   ],
   "source": [
    "evaluator_train = MulticlassClassificationEvaluator(labelCol=\"sentiment\", predictionCol=\"prediction\", metricName=\"accuracy\")\n",
    "accuracy_train = evaluator_train.evaluate(predictions_lr_train)\n",
    "print(f\"Accuracy of Logistic Regression on Training Data: {accuracy_train}\")"
   ]
  },
  {
   "cell_type": "markdown",
   "id": "92df5e4b-2607-48e1-bd8d-ef8359a16dbf",
   "metadata": {},
   "source": [
    "<span style=\"color:green; font-weight: bold; font-size: 13px\"> From the Testing and Training Accuracies, the Model generalizes well to the unseen data</span>"
   ]
  },
  {
   "cell_type": "markdown",
   "id": "42c6d6a3-bfac-48a0-8189-0e4ac94985eb",
   "metadata": {},
   "source": [
    "<div style=\"text-align: center;\"> <span style=\"color:blue; font-weight:bold; font-size: 24px\"> Visualizations on Evaluation Scores </span> </div>"
   ]
  },
  {
   "cell_type": "markdown",
   "id": "4b0246bc-00a5-4f40-9859-5da83764b2dc",
   "metadata": {},
   "source": [
    "<span style=\"color:brown; font-weight:bold; font-size: 18px\">Confusion Matrix for Logistic Regression Model </span>"
   ]
  },
  {
   "cell_type": "code",
   "execution_count": 35,
   "id": "0aa8fc95-9846-4a04-a741-0e69ee64b562",
   "metadata": {
    "execution": {
     "iopub.execute_input": "2024-11-18T03:41:49.249317Z",
     "iopub.status.busy": "2024-11-18T03:41:49.249132Z",
     "iopub.status.idle": "2024-11-18T03:42:30.648963Z",
     "shell.execute_reply": "2024-11-18T03:42:30.647802Z",
     "shell.execute_reply.started": "2024-11-18T03:41:49.249293Z"
    }
   },
   "outputs": [
    {
     "data": {
      "application/vnd.jupyter.widget-view+json": {
       "model_id": "27cb93cfa109498391f83a5c27e074d9",
       "version_major": 2,
       "version_minor": 0
      },
      "text/plain": [
       "VBox()"
      ]
     },
     "metadata": {},
     "output_type": "display_data"
    },
    {
     "data": {
      "application/vnd.jupyter.widget-view+json": {
       "model_id": "",
       "version_major": 2,
       "version_minor": 0
      },
      "text/plain": [
       "FloatProgress(value=0.0, bar_style='info', description='Progress:', layout=Layout(height='25px', width='50%'),…"
      ]
     },
     "metadata": {},
     "output_type": "display_data"
    },
    {
     "name": "stdout",
     "output_type": "stream",
     "text": [
      "   sentiment  prediction\n",
      "0          1         1.0\n",
      "1          1         1.0\n",
      "2          1         2.0\n",
      "3          1         1.0\n",
      "4          1         1.0"
     ]
    }
   ],
   "source": [
    "# Dataframe with only columns that are of interest\n",
    "\n",
    "predictions_cm = predictions_lr_test.select(\"sentiment\", \"prediction\").toPandas()\n",
    "predictions_cm.head(5)"
   ]
  },
  {
   "cell_type": "code",
   "execution_count": 36,
   "id": "25dfaff3-e8a8-4bc0-a5f5-1a5540ef3940",
   "metadata": {
    "execution": {
     "iopub.execute_input": "2024-11-18T03:42:30.650962Z",
     "iopub.status.busy": "2024-11-18T03:42:30.650353Z",
     "iopub.status.idle": "2024-11-18T03:42:30.707124Z",
     "shell.execute_reply": "2024-11-18T03:42:30.704464Z",
     "shell.execute_reply.started": "2024-11-18T03:42:30.650921Z"
    },
    "tags": []
   },
   "outputs": [
    {
     "data": {
      "application/vnd.jupyter.widget-view+json": {
       "model_id": "7f956d7ba5bb44f3a7abfc733d86bcdc",
       "version_major": 2,
       "version_minor": 0
      },
      "text/plain": [
       "VBox()"
      ]
     },
     "metadata": {},
     "output_type": "display_data"
    },
    {
     "data": {
      "application/vnd.jupyter.widget-view+json": {
       "model_id": "",
       "version_major": 2,
       "version_minor": 0
      },
      "text/plain": [
       "FloatProgress(value=0.0, bar_style='info', description='Progress:', layout=Layout(height='25px', width='50%'),…"
      ]
     },
     "metadata": {},
     "output_type": "display_data"
    }
   ],
   "source": [
    "# Accessing true labels and predicted labels\n",
    "\n",
    "true_labels = predictions_cm[\"sentiment\"]\n",
    "predicted_labels = predictions_cm[\"prediction\"]"
   ]
  },
  {
   "cell_type": "markdown",
   "id": "af679747-4409-47fa-802f-5b982d9607e6",
   "metadata": {},
   "source": [
    "<span style=\"color:rgb(75,0,130); font-weight:bold; font-size: 16px\"> Confusion Matrix </span>"
   ]
  },
  {
   "cell_type": "code",
   "execution_count": 37,
   "id": "63c94e1b-63e6-42a4-8eac-610652db5c9b",
   "metadata": {
    "execution": {
     "iopub.execute_input": "2024-11-18T03:42:30.708725Z",
     "iopub.status.busy": "2024-11-18T03:42:30.708469Z",
     "iopub.status.idle": "2024-11-18T03:42:31.505561Z",
     "shell.execute_reply": "2024-11-18T03:42:31.504826Z",
     "shell.execute_reply.started": "2024-11-18T03:42:30.708688Z"
    },
    "tags": []
   },
   "outputs": [
    {
     "data": {
      "application/vnd.jupyter.widget-view+json": {
       "model_id": "dad4d8cf5a534496ae56d19ba7b8511c",
       "version_major": 2,
       "version_minor": 0
      },
      "text/plain": [
       "VBox()"
      ]
     },
     "metadata": {},
     "output_type": "display_data"
    },
    {
     "data": {
      "application/vnd.jupyter.widget-view+json": {
       "model_id": "",
       "version_major": 2,
       "version_minor": 0
      },
      "text/plain": [
       "FloatProgress(value=0.0, bar_style='info', description='Progress:', layout=Layout(height='25px', width='50%'),…"
      ]
     },
     "metadata": {},
     "output_type": "display_data"
    }
   ],
   "source": [
    "from sklearn.metrics import *\n",
    "\n",
    "ConfusionMatrixDisplay.from_predictions(true_labels, predicted_labels)\n",
    "\n",
    "plt.show()"
   ]
  },
  {
   "cell_type": "code",
   "execution_count": 38,
   "id": "c4119cd8-b3f2-4f1a-9026-f88e0ca2b71e",
   "metadata": {
    "execution": {
     "iopub.execute_input": "2024-11-18T03:42:31.507330Z",
     "iopub.status.busy": "2024-11-18T03:42:31.506733Z",
     "iopub.status.idle": "2024-11-18T03:42:31.749577Z",
     "shell.execute_reply": "2024-11-18T03:42:31.748563Z",
     "shell.execute_reply.started": "2024-11-18T03:42:31.507291Z"
    },
    "tags": []
   },
   "outputs": [
    {
     "data": {
      "application/vnd.jupyter.widget-view+json": {
       "model_id": "",
       "version_major": 2,
       "version_minor": 0
      },
      "text/plain": [
       "FloatProgress(value=0.0, bar_style='info', description='Progress:', layout=Layout(height='25px', width='50%'),…"
      ]
     },
     "metadata": {},
     "output_type": "display_data"
    },
    {
     "data": {
      "image/png": "[encoded data removed]",
      "text/plain": [
       "<IPython.core.display.Image object>"
      ]
     },
     "metadata": {},
     "output_type": "display_data"
    }
   ],
   "source": [
    "%matplot plt"
   ]
  },
  {
   "cell_type": "markdown",
   "id": "66dad440-11eb-44a5-b0cb-6e0bf953d502",
   "metadata": {},
   "source": [
    "<span style=\"color:rgb(75,0,130); font-weight:bold; font-size: 16px\"> Evaluation using F1 Score </span>"
   ]
  },
  {
   "cell_type": "code",
   "execution_count": 39,
   "id": "1038756f-c993-43ea-9d70-3ce9987b9888",
   "metadata": {
    "execution": {
     "iopub.execute_input": "2024-11-18T03:42:31.751274Z",
     "iopub.status.busy": "2024-11-18T03:42:31.751017Z",
     "iopub.status.idle": "2024-11-18T03:42:31.993114Z",
     "shell.execute_reply": "2024-11-18T03:42:31.991449Z",
     "shell.execute_reply.started": "2024-11-18T03:42:31.751228Z"
    },
    "tags": []
   },
   "outputs": [
    {
     "data": {
      "application/vnd.jupyter.widget-view+json": {
       "model_id": "41f552de5ed947ad90ca2b8d06d63064",
       "version_major": 2,
       "version_minor": 0
      },
      "text/plain": [
       "VBox()"
      ]
     },
     "metadata": {},
     "output_type": "display_data"
    },
    {
     "data": {
      "application/vnd.jupyter.widget-view+json": {
       "model_id": "",
       "version_major": 2,
       "version_minor": 0
      },
      "text/plain": [
       "FloatProgress(value=0.0, bar_style='info', description='Progress:', layout=Layout(height='25px', width='50%'),…"
      ]
     },
     "metadata": {},
     "output_type": "display_data"
    },
    {
     "name": "stdout",
     "output_type": "stream",
     "text": [
      "F1 Score for True Labels vs Predicted Labels: 0.85"
     ]
    }
   ],
   "source": [
    "f1 = f1_score(true_labels, predicted_labels) \n",
    "print(f\"F1 Score for True Labels vs Predicted Labels: {f1:.2f}\")"
   ]
  },
  {
   "cell_type": "markdown",
   "id": "8ae070c2-d4fc-437a-88f3-434a9152507c",
   "metadata": {},
   "source": [
    "<span style=\"color:rgb(75,0,130); font-weight:bold; font-size: 16px\"> Classification Report to Analyze Precision, Recall and F1 Score </span>"
   ]
  },
  {
   "cell_type": "code",
   "execution_count": 40,
   "id": "2997721b-e9a7-41cc-9497-7cf95366b2a5",
   "metadata": {
    "execution": {
     "iopub.execute_input": "2024-11-18T03:42:31.995416Z",
     "iopub.status.busy": "2024-11-18T03:42:31.994699Z",
     "iopub.status.idle": "2024-11-18T03:42:32.253281Z",
     "shell.execute_reply": "2024-11-18T03:42:32.252253Z",
     "shell.execute_reply.started": "2024-11-18T03:42:31.995367Z"
    },
    "tags": []
   },
   "outputs": [
    {
     "data": {
      "application/vnd.jupyter.widget-view+json": {
       "model_id": "969952d8e56747e3a2405550a69349fb",
       "version_major": 2,
       "version_minor": 0
      },
      "text/plain": [
       "VBox()"
      ]
     },
     "metadata": {},
     "output_type": "display_data"
    },
    {
     "data": {
      "application/vnd.jupyter.widget-view+json": {
       "model_id": "",
       "version_major": 2,
       "version_minor": 0
      },
      "text/plain": [
       "FloatProgress(value=0.0, bar_style='info', description='Progress:', layout=Layout(height='25px', width='50%'),…"
      ]
     },
     "metadata": {},
     "output_type": "display_data"
    },
    {
     "name": "stdout",
     "output_type": "stream",
     "text": [
      "\n",
      "Classification Report for Logistic Regression Prediction:\n",
      "              precision    recall  f1-score   support\n",
      "\n",
      "           1       0.85      0.85      0.85    119478\n",
      "           2       0.85      0.86      0.85    119974\n",
      "\n",
      "    accuracy                           0.85    239452\n",
      "   macro avg       0.85      0.85      0.85    239452\n",
      "weighted avg       0.85      0.85      0.85    239452"
     ]
    }
   ],
   "source": [
    "print(\"\\nClassification Report for Logistic Regression Prediction:\")\n",
    "print(classification_report(true_labels, predicted_labels))"
   ]
  },
  {
   "cell_type": "markdown",
   "id": "318c3230-ee24-416a-8f19-32d91c02321d",
   "metadata": {},
   "source": [
    "<span style=\"color:green; font-weight: bold; font-size: 13px\"> The Recall, Precision and F1 scores are the same. This usually happens when the model is well optimized and deals with real time predictions. This is a Binary classification problem with well-balanced classes. Hence, there is a high chance of these scores being close to each other. </span>"
   ]
  },
  {
   "cell_type": "markdown",
   "id": "90492f6b",
   "metadata": {},
   "source": [
    "<span style=\"color:brown; font-weight:bold; font-size: 18px\">AUC Score and ROC Curve </span>"
   ]
  },
  {
   "cell_type": "markdown",
   "id": "ef53b274-6e5a-4197-bd27-34bc0250dfe9",
   "metadata": {},
   "source": [
    "<span style=\"color:rgb(75,0,130); font-weight:bold; font-size: 16px\"> Probabilities for Predictions </span>"
   ]
  },
  {
   "cell_type": "code",
   "execution_count": 41,
   "id": "104eb7a8-a6cf-4b8e-8d2b-6afcb84ac8fb",
   "metadata": {
    "execution": {
     "iopub.execute_input": "2024-11-18T03:42:32.255017Z",
     "iopub.status.busy": "2024-11-18T03:42:32.254638Z",
     "iopub.status.idle": "2024-11-18T03:42:45.580591Z",
     "shell.execute_reply": "2024-11-18T03:42:45.579547Z",
     "shell.execute_reply.started": "2024-11-18T03:42:32.254979Z"
    },
    "tags": []
   },
   "outputs": [
    {
     "data": {
      "application/vnd.jupyter.widget-view+json": {
       "model_id": "20db460d27f144dba0cc8a14fb5fd727",
       "version_major": 2,
       "version_minor": 0
      },
      "text/plain": [
       "VBox()"
      ]
     },
     "metadata": {},
     "output_type": "display_data"
    },
    {
     "data": {
      "application/vnd.jupyter.widget-view+json": {
       "model_id": "",
       "version_major": 2,
       "version_minor": 0
      },
      "text/plain": [
       "FloatProgress(value=0.0, bar_style='info', description='Progress:', layout=Layout(height='25px', width='50%'),…"
      ]
     },
     "metadata": {},
     "output_type": "display_data"
    },
    {
     "name": "stdout",
     "output_type": "stream",
     "text": [
      "+--------------------+---------+\n",
      "|         probability|sentiment|\n",
      "+--------------------+---------+\n",
      "|[3.98521419265735...|        1|\n",
      "|[2.58506245663132...|        1|\n",
      "|[1.53218775447029...|        1|\n",
      "|[4.85440732912723...|        1|\n",
      "|[1.22771844613667...|        1|\n",
      "+--------------------+---------+\n",
      "only showing top 5 rows"
     ]
    }
   ],
   "source": [
    "# Get predicted probabilities from test data\n",
    "pred_prob_test = predictions_lr_test.select(\"probability\", \"sentiment\")\n",
    "pred_prob_test.show(5)"
   ]
  },
  {
   "cell_type": "code",
   "execution_count": 42,
   "id": "257927e3-28c2-413d-bbe7-86711ae673d2",
   "metadata": {
    "execution": {
     "iopub.execute_input": "2024-11-18T03:42:45.582003Z",
     "iopub.status.busy": "2024-11-18T03:42:45.581738Z",
     "iopub.status.idle": "2024-11-18T03:43:30.996973Z",
     "shell.execute_reply": "2024-11-18T03:43:30.996238Z",
     "shell.execute_reply.started": "2024-11-18T03:42:45.581951Z"
    },
    "tags": []
   },
   "outputs": [
    {
     "data": {
      "application/vnd.jupyter.widget-view+json": {
       "model_id": "a6641bea638940a4b43924c2f6860fae",
       "version_major": 2,
       "version_minor": 0
      },
      "text/plain": [
       "VBox()"
      ]
     },
     "metadata": {},
     "output_type": "display_data"
    },
    {
     "data": {
      "application/vnd.jupyter.widget-view+json": {
       "model_id": "",
       "version_major": 2,
       "version_minor": 0
      },
      "text/plain": [
       "FloatProgress(value=0.0, bar_style='info', description='Progress:', layout=Layout(height='25px', width='50%'),…"
      ]
     },
     "metadata": {},
     "output_type": "display_data"
    },
    {
     "name": "stdout",
     "output_type": "stream",
     "text": [
      "                                              probability  sentiment\n",
      "0       [3.985214192657359e-07, 0.96200836204971, 0.03...          1\n",
      "1       [2.5850624566313255e-08, 0.9998462260543645, 0...          1\n",
      "2       [1.5321877544702912e-09, 5.387780374816799e-07...          1\n",
      "3       [4.854407329127231e-08, 0.9994574735354749, 0....          1\n",
      "4       [1.227718446136676e-09, 0.999999652006713, 3.4...          1\n",
      "...                                                   ...        ...\n",
      "239447  [1.280801025581929e-12, 3.771852064831546e-13,...          2\n",
      "239448  [6.308273154147451e-07, 0.8980385524725669, 0....          2\n",
      "239449  [6.08517472042702e-07, 0.09406346488465185, 0....          2\n",
      "239450  [2.1294697180042434e-08, 0.0001043355005284721...          2\n",
      "239451  [7.836396683973676e-11, 1.412069429900997e-09,...          2\n",
      "\n",
      "[239452 rows x 2 columns]"
     ]
    }
   ],
   "source": [
    "# Convert Spark DataFrame to Pandas DataFrame\n",
    "pred_prob_test_pd = pred_prob_test.toPandas()\n",
    "pred_prob_test_pd"
   ]
  },
  {
   "cell_type": "markdown",
   "id": "28a360f7-0b30-4ed2-9cb9-4f1971bcc5fa",
   "metadata": {},
   "source": [
    "<span style=\"color:rgb(75,0,130); font-weight:bold; font-size: 16px\"> Extracting the Probabilities for Positive Class </span>"
   ]
  },
  {
   "cell_type": "code",
   "execution_count": 43,
   "id": "9f6711a2-6e80-4d6e-9786-0b9a7b06e13a",
   "metadata": {
    "execution": {
     "iopub.execute_input": "2024-11-18T03:43:30.999226Z",
     "iopub.status.busy": "2024-11-18T03:43:30.998343Z",
     "iopub.status.idle": "2024-11-18T03:43:31.801709Z",
     "shell.execute_reply": "2024-11-18T03:43:31.800649Z",
     "shell.execute_reply.started": "2024-11-18T03:43:30.999185Z"
    }
   },
   "outputs": [
    {
     "data": {
      "application/vnd.jupyter.widget-view+json": {
       "model_id": "740cea4561b2422cba343720a8cc8641",
       "version_major": 2,
       "version_minor": 0
      },
      "text/plain": [
       "VBox()"
      ]
     },
     "metadata": {},
     "output_type": "display_data"
    },
    {
     "data": {
      "application/vnd.jupyter.widget-view+json": {
       "model_id": "",
       "version_major": 2,
       "version_minor": 0
      },
      "text/plain": [
       "FloatProgress(value=0.0, bar_style='info', description='Progress:', layout=Layout(height='25px', width='50%'),…"
      ]
     },
     "metadata": {},
     "output_type": "display_data"
    },
    {
     "name": "stdout",
     "output_type": "stream",
     "text": [
      "0         3.799124e-02\n",
      "1         1.537481e-04\n",
      "2         9.999995e-01\n",
      "3         5.424779e-04\n",
      "4         3.467656e-07\n",
      "              ...     \n",
      "239447    1.000000e+00\n",
      "239448    1.019608e-01\n",
      "239449    9.059359e-01\n",
      "239450    9.998956e-01\n",
      "239451    1.000000e+00\n",
      "Name: probability, Length: 239452, dtype: float64"
     ]
    }
   ],
   "source": [
    "# Extract probability of positive class (Class 2)\n",
    "y_probs = pred_prob_test_pd[\"probability\"].apply(lambda x: x[2])\n",
    "y_test = pred_prob_test_pd[\"sentiment\"]\n",
    "\n",
    "y_probs"
   ]
  },
  {
   "cell_type": "markdown",
   "id": "078584e7-b602-48bf-87c6-90063616ac04",
   "metadata": {},
   "source": [
    "<span style=\"color:rgb(75,0,130); font-weight:bold; font-size: 16px\"> Extracting the Probabilities for Negative Class </span>"
   ]
  },
  {
   "cell_type": "code",
   "execution_count": 44,
   "id": "630a9b17-843b-4b7f-833e-29b5c564f846",
   "metadata": {
    "execution": {
     "iopub.execute_input": "2024-11-18T03:43:31.803736Z",
     "iopub.status.busy": "2024-11-18T03:43:31.803250Z",
     "iopub.status.idle": "2024-11-18T03:43:32.067406Z",
     "shell.execute_reply": "2024-11-18T03:43:32.066614Z",
     "shell.execute_reply.started": "2024-11-18T03:43:31.803697Z"
    },
    "tags": []
   },
   "outputs": [
    {
     "data": {
      "application/vnd.jupyter.widget-view+json": {
       "model_id": "2a1d89f81a8545a8a13f93ddb3fdc1e4",
       "version_major": 2,
       "version_minor": 0
      },
      "text/plain": [
       "VBox()"
      ]
     },
     "metadata": {},
     "output_type": "display_data"
    },
    {
     "data": {
      "application/vnd.jupyter.widget-view+json": {
       "model_id": "",
       "version_major": 2,
       "version_minor": 0
      },
      "text/plain": [
       "FloatProgress(value=0.0, bar_style='info', description='Progress:', layout=Layout(height='25px', width='50%'),…"
      ]
     },
     "metadata": {},
     "output_type": "display_data"
    },
    {
     "name": "stdout",
     "output_type": "stream",
     "text": [
      "0         9.620084e-01\n",
      "1         9.998462e-01\n",
      "2         5.387780e-07\n",
      "3         9.994575e-01\n",
      "4         9.999997e-01\n",
      "              ...     \n",
      "239447    3.771852e-13\n",
      "239448    8.980386e-01\n",
      "239449    9.406346e-02\n",
      "239450    1.043355e-04\n",
      "239451    1.412069e-09\n",
      "Name: probability, Length: 239452, dtype: float64"
     ]
    }
   ],
   "source": [
    "# Extract probability of negative class (Class 1)\n",
    "y_probs_neg = pred_prob_test_pd[\"probability\"].apply(lambda x: x[1])\n",
    "y_test_neg = pred_prob_test_pd[\"sentiment\"]\n",
    "\n",
    "y_probs_neg"
   ]
  },
  {
   "cell_type": "markdown",
   "id": "2541136d-aa36-4311-9f1f-6b4deaf5c443",
   "metadata": {},
   "source": [
    "<span style=\"color:rgb(75,0,130); font-weight:bold; font-size: 16px\"> AUC for Positive Class </span>"
   ]
  },
  {
   "cell_type": "code",
   "execution_count": 45,
   "id": "5874a3c0-eb40-4c47-a703-4394fe37e083",
   "metadata": {
    "execution": {
     "iopub.execute_input": "2024-11-18T03:43:32.069952Z",
     "iopub.status.busy": "2024-11-18T03:43:32.069594Z",
     "iopub.status.idle": "2024-11-18T03:43:32.351472Z",
     "shell.execute_reply": "2024-11-18T03:43:32.350625Z",
     "shell.execute_reply.started": "2024-11-18T03:43:32.069913Z"
    }
   },
   "outputs": [
    {
     "data": {
      "application/vnd.jupyter.widget-view+json": {
       "model_id": "a5437849dd7d441d979c7a4d38f8b5c9",
       "version_major": 2,
       "version_minor": 0
      },
      "text/plain": [
       "VBox()"
      ]
     },
     "metadata": {},
     "output_type": "display_data"
    },
    {
     "data": {
      "application/vnd.jupyter.widget-view+json": {
       "model_id": "",
       "version_major": 2,
       "version_minor": 0
      },
      "text/plain": [
       "FloatProgress(value=0.0, bar_style='info', description='Progress:', layout=Layout(height='25px', width='50%'),…"
      ]
     },
     "metadata": {},
     "output_type": "display_data"
    },
    {
     "name": "stdout",
     "output_type": "stream",
     "text": [
      "AUC for Positive Class (Class 2): 0.9163326927714823"
     ]
    }
   ],
   "source": [
    "from sklearn.metrics import roc_curve, roc_auc_score\n",
    "\n",
    "# Compute AUC\n",
    "fpr, tpr, thresholds = roc_curve(y_test == 2, y_probs)\n",
    "auc = roc_auc_score(y_test == 2, y_probs)\n",
    "print(f\"AUC for Positive Class (Class 2): {auc}\")"
   ]
  },
  {
   "cell_type": "markdown",
   "id": "0c88d27c-dd6a-4edd-bb7a-42af011fcfbb",
   "metadata": {},
   "source": [
    "<span style=\"color:rgb(75,0,130); font-weight:bold; font-size: 16px\"> AUC for Negative Class </span>"
   ]
  },
  {
   "cell_type": "code",
   "execution_count": 46,
   "id": "4884b34d-125b-4c38-a3b8-b3b3b6efe980",
   "metadata": {
    "execution": {
     "iopub.execute_input": "2024-11-18T03:43:32.352604Z",
     "iopub.status.busy": "2024-11-18T03:43:32.352304Z",
     "iopub.status.idle": "2024-11-18T03:43:32.623888Z",
     "shell.execute_reply": "2024-11-18T03:43:32.623063Z",
     "shell.execute_reply.started": "2024-11-18T03:43:32.352509Z"
    },
    "tags": []
   },
   "outputs": [
    {
     "data": {
      "application/vnd.jupyter.widget-view+json": {
       "model_id": "9c0a9ec3d5ac41f49033ad499021add0",
       "version_major": 2,
       "version_minor": 0
      },
      "text/plain": [
       "VBox()"
      ]
     },
     "metadata": {},
     "output_type": "display_data"
    },
    {
     "data": {
      "application/vnd.jupyter.widget-view+json": {
       "model_id": "",
       "version_major": 2,
       "version_minor": 0
      },
      "text/plain": [
       "FloatProgress(value=0.0, bar_style='info', description='Progress:', layout=Layout(height='25px', width='50%'),…"
      ]
     },
     "metadata": {},
     "output_type": "display_data"
    },
    {
     "name": "stdout",
     "output_type": "stream",
     "text": [
      "AUC for Negative Class (Class 1): 0.9163326923529046"
     ]
    }
   ],
   "source": [
    "# Compute AUC\n",
    "fpr_n, tpr_n, thresholds_n = roc_curve(y_test == 1, y_probs_neg)\n",
    "auc_neg = roc_auc_score(y_test == 1, y_probs_neg)\n",
    "print(f\"AUC for Negative Class (Class 1): {auc_neg}\")"
   ]
  },
  {
   "cell_type": "markdown",
   "id": "66d13fac-de11-4389-afd6-afc2f4039132",
   "metadata": {},
   "source": [
    "<span style=\"color:rgb(75,0,130); font-weight:bold; font-size: 16px\"> ROC Curve for Positive Class </span>"
   ]
  },
  {
   "cell_type": "code",
   "execution_count": 47,
   "id": "93187b31-445b-430a-bf37-03b2ba23713a",
   "metadata": {
    "execution": {
     "iopub.execute_input": "2024-11-18T03:43:32.625821Z",
     "iopub.status.busy": "2024-11-18T03:43:32.625199Z",
     "iopub.status.idle": "2024-11-18T03:43:32.866444Z",
     "shell.execute_reply": "2024-11-18T03:43:32.865608Z",
     "shell.execute_reply.started": "2024-11-18T03:43:32.625780Z"
    },
    "tags": []
   },
   "outputs": [
    {
     "data": {
      "application/vnd.jupyter.widget-view+json": {
       "model_id": "e3a82c64b86b42a0acf8354d1ccc8e67",
       "version_major": 2,
       "version_minor": 0
      },
      "text/plain": [
       "VBox()"
      ]
     },
     "metadata": {},
     "output_type": "display_data"
    },
    {
     "data": {
      "application/vnd.jupyter.widget-view+json": {
       "model_id": "",
       "version_major": 2,
       "version_minor": 0
      },
      "text/plain": [
       "FloatProgress(value=0.0, bar_style='info', description='Progress:', layout=Layout(height='25px', width='50%'),…"
      ]
     },
     "metadata": {},
     "output_type": "display_data"
    },
    {
     "name": "stdout",
     "output_type": "stream",
     "text": [
      "<stdin>:4: UserWarning: color is redundantly defined by the 'color' keyword argument and the fmt string \"k--\" (-> color='k'). The keyword argument will take precedence."
     ]
    }
   ],
   "source": [
    "# Plot ROC curve\n",
    "plt.figure(figsize=(8, 6))\n",
    "plt.plot(fpr, tpr, label=f\"ROC Curve (AUC = {auc:.2f})\", color=\"blue\")\n",
    "plt.plot([0, 1], [0, 1], \"k--\", label=\"Baseline\", color=\"red\")\n",
    "plt.xlabel(\"False Positive Rate\")\n",
    "plt.ylabel(\"True Positive Rate\")\n",
    "plt.title(\"ROC Curve for Positive Class (Class 2)\")\n",
    "plt.legend(loc=\"lower right\")\n",
    "plt.grid()\n",
    "plt.show()"
   ]
  },
  {
   "cell_type": "code",
   "execution_count": 48,
   "id": "f77adb4f-ffbc-42ed-b870-87ea2c47e776",
   "metadata": {
    "execution": {
     "iopub.execute_input": "2024-11-18T03:43:32.867938Z",
     "iopub.status.busy": "2024-11-18T03:43:32.867733Z",
     "iopub.status.idle": "2024-11-18T03:43:33.106971Z",
     "shell.execute_reply": "2024-11-18T03:43:33.106243Z",
     "shell.execute_reply.started": "2024-11-18T03:43:32.867885Z"
    },
    "tags": []
   },
   "outputs": [
    {
     "data": {
      "application/vnd.jupyter.widget-view+json": {
       "model_id": "",
       "version_major": 2,
       "version_minor": 0
      },
      "text/plain": [
       "FloatProgress(value=0.0, bar_style='info', description='Progress:', layout=Layout(height='25px', width='50%'),…"
      ]
     },
     "metadata": {},
     "output_type": "display_data"
    },
    {
     "data": {
      "image/png": "[encoded data removed]",
      "text/plain": [
       "<IPython.core.display.Image object>"
      ]
     },
     "metadata": {},
     "output_type": "display_data"
    }
   ],
   "source": [
    "%matplot plt"
   ]
  },
  {
   "cell_type": "markdown",
   "id": "49eae703-d87c-43a4-a299-db0b5521fabd",
   "metadata": {},
   "source": [
    "<span style=\"color:rgb(75,0,130); font-weight:bold; font-size: 16px\"> ROC Curve for Negative Class </span>"
   ]
  },
  {
   "cell_type": "code",
   "execution_count": 49,
   "id": "519331e8-8cf7-492a-b8f5-7cce2d6d0169",
   "metadata": {
    "execution": {
     "iopub.execute_input": "2024-11-18T03:43:33.109465Z",
     "iopub.status.busy": "2024-11-18T03:43:33.108764Z",
     "iopub.status.idle": "2024-11-18T03:43:33.363787Z",
     "shell.execute_reply": "2024-11-18T03:43:33.362768Z",
     "shell.execute_reply.started": "2024-11-18T03:43:33.109426Z"
    },
    "tags": []
   },
   "outputs": [
    {
     "data": {
      "application/vnd.jupyter.widget-view+json": {
       "model_id": "79560e600e32469c830be194aab988c8",
       "version_major": 2,
       "version_minor": 0
      },
      "text/plain": [
       "VBox()"
      ]
     },
     "metadata": {},
     "output_type": "display_data"
    },
    {
     "data": {
      "application/vnd.jupyter.widget-view+json": {
       "model_id": "",
       "version_major": 2,
       "version_minor": 0
      },
      "text/plain": [
       "FloatProgress(value=0.0, bar_style='info', description='Progress:', layout=Layout(height='25px', width='50%'),…"
      ]
     },
     "metadata": {},
     "output_type": "display_data"
    }
   ],
   "source": [
    "# Plot ROC curve\n",
    "plt.figure(figsize=(8, 6))\n",
    "plt.plot(fpr_n, tpr_n, label=f\"ROC Curve (AUC = {auc_neg:.2f})\", color=\"blue\")\n",
    "plt.plot([0, 1], [0, 1], \"k--\", label=\"Baseline\", color=\"red\")\n",
    "plt.xlabel(\"False Positive Rate\")\n",
    "plt.ylabel(\"True Positive Rate\")\n",
    "plt.title(\"ROC Curve for Negative Class (Class 1)\")\n",
    "plt.legend(loc=\"lower right\")\n",
    "plt.grid()\n",
    "plt.show()"
   ]
  },
  {
   "cell_type": "code",
   "execution_count": 50,
   "id": "46303eb0-59ef-42c8-b628-6def695a752f",
   "metadata": {
    "execution": {
     "iopub.execute_input": "2024-11-18T03:43:33.365623Z",
     "iopub.status.busy": "2024-11-18T03:43:33.365294Z",
     "iopub.status.idle": "2024-11-18T03:43:33.638416Z",
     "shell.execute_reply": "2024-11-18T03:43:33.637344Z",
     "shell.execute_reply.started": "2024-11-18T03:43:33.365586Z"
    },
    "tags": []
   },
   "outputs": [
    {
     "data": {
      "application/vnd.jupyter.widget-view+json": {
       "model_id": "",
       "version_major": 2,
       "version_minor": 0
      },
      "text/plain": [
       "FloatProgress(value=0.0, bar_style='info', description='Progress:', layout=Layout(height='25px', width='50%'),…"
      ]
     },
     "metadata": {},
     "output_type": "display_data"
    },
    {
     "data": {
      "image/png": "[encoded data removed]",
      "text/plain": [
       "<IPython.core.display.Image object>"
      ]
     },
     "metadata": {},
     "output_type": "display_data"
    }
   ],
   "source": [
    "%matplot plt"
   ]
  },
  {
   "cell_type": "markdown",
   "id": "c0278c1a-aa6b-42d5-acc1-1a615b98084b",
   "metadata": {},
   "source": [
    "<span style=\"color:green; font-weight: bold; font-size: 13px\"> The AUC for binary classes is always the same. The ROC is always symmetric to the binary classes, as observed in the plots.</span>"
   ]
  },
  {
   "cell_type": "markdown",
   "id": "c9a0fb9b",
   "metadata": {},
   "source": [
    "<span style=\"color:brown; font-weight: bold; font-size: 16px\"> DISCUSSION: From the Data Science pipeline workflow, the results from Evaluation Stage, states that Logistic Regression Model has generalized well to the test data which is the unseen data after being trained on the training data. Though, it cannot be said that it is works perfectly but, 85% test accuracy is fairly good for a model to predict the sentiment from the text data and perform Text Classification. The accuracy can be improved further, by carrying out other tasks specific to sampling, feature engineering and modeling with cross validation.</span>"
   ]
  }
 ],
 "metadata": {
  "kernelspec": {
   "display_name": "PySpark",
   "language": "python",
   "name": "pysparkkernel"
  },
  "language_info": {
   "codemirror_mode": {
    "name": "python",
    "version": 3
   },
   "file_extension": ".py",
   "mimetype": "text/x-python",
   "name": "pyspark",
   "pygments_lexer": "python3"
  }
 },
 "nbformat": 4,
 "nbformat_minor": 5
}
